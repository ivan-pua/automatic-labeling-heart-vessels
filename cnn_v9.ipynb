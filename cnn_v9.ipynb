{
  "nbformat": 4,
  "nbformat_minor": 0,
  "metadata": {
    "colab": {
      "name": "v9-val&timeDistributed.ipynb",
      "provenance": [],
      "collapsed_sections": [
        "b9wlmug-LeLy",
        "rZ8LPLeb1dHQ",
        "VizHiNgIepz3"
      ],
      "toc_visible": true,
      "mount_file_id": "1xcIId9jP3RPLAeyWC55VfEuSnxEBtl8S",
      "authorship_tag": "ABX9TyPZyAExjzXwtpj01Rlr0e6z",
      "include_colab_link": true
    },
    "kernelspec": {
      "name": "python3",
      "display_name": "Python 3"
    },
    "accelerator": "GPU"
  },
  "cells": [
    {
      "cell_type": "markdown",
      "metadata": {
        "id": "view-in-github",
        "colab_type": "text"
      },
      "source": [
        "<a href=\"https://colab.research.google.com/github/puaqieshang/automatic-labeling-heart-vessels/blob/master/cnn_v9.ipynb\" target=\"_parent\"><img src=\"https://colab.research.google.com/assets/colab-badge.svg\" alt=\"Open In Colab\"/></a>"
      ]
    },
    {
      "cell_type": "markdown",
      "metadata": {
        "id": "0q3bQztjs6pW",
        "colab_type": "text"
      },
      "source": [
        "# Update from Previous Version\n",
        "\n",
        "* Fixed Structure of whole code\n",
        "* Tuned hyperparameters and ascertain the best one using 5 fold validation"
      ]
    },
    {
      "cell_type": "code",
      "metadata": {
        "id": "ogFQbGjAd5_L",
        "colab_type": "code",
        "colab": {
          "base_uri": "https://localhost:8080/",
          "height": 34
        },
        "outputId": "fe9fdb37-c6f3-44a2-e841-44aaa62e5d61"
      },
      "source": [
        "# Import dependencies\n",
        "\n",
        "import os\n",
        "import glob\n",
        "import time\n",
        "import helper\n",
        "import numpy as np\n",
        "from tqdm import tqdm\n",
        "import matplotlib.pyplot as plt\n",
        "from sklearn.utils import shuffle\n",
        "from collections import defaultdict\n",
        "\n",
        "import torch\n",
        "from torch import tensor, nn, optim\n",
        "import torch.nn.functional as F\n",
        "from torch.utils.data import Dataset, DataLoader\n",
        "\n",
        "if torch.cuda.is_available():\n",
        "    device = torch.device(\"cuda:0\")  # you can continue like cuda:1 cuda:2....etc. \n",
        "    print(\"Running on the GPU\")\n",
        "else:\n",
        "    device = torch.device(\"cpu\")\n",
        "    print(\"Running on the CPU\")\n"
      ],
      "execution_count": 1,
      "outputs": [
        {
          "output_type": "stream",
          "text": [
            "Running on the GPU\n"
          ],
          "name": "stdout"
        }
      ]
    },
    {
      "cell_type": "markdown",
      "metadata": {
        "id": "BsXDGkEGj5wt",
        "colab_type": "text"
      },
      "source": [
        "# Data Retrieval\n"
      ]
    },
    {
      "cell_type": "markdown",
      "metadata": {
        "id": "4EE5l4kdHw8r",
        "colab_type": "text"
      },
      "source": [
        "<table>\n",
        "  <tr>\n",
        "    <th>Label</th>\n",
        "    <th>Class (Vessels)</th>\n",
        "  </tr>\n",
        "  <tr>\n",
        "    <td>0</td>\n",
        "    <td>LAD</td>\n",
        "  </tr>\n",
        "  <tr>\n",
        "    <td>1</td>\n",
        "    <td>Diagonals</td>\n",
        "  </tr>\n",
        "    <tr>\n",
        "    <td>2</td>\n",
        "    <td>Septals</td>\n",
        "  </tr>\n",
        "    <tr>\n",
        "    <td>3</td>\n",
        "    <td>LCX</td>\n",
        "  </tr>\n",
        "    <tr>\n",
        "    <td>4</td>\n",
        "    <td>Obtuse Marginal</td>\n",
        "  </tr>\n",
        "    <tr>\n",
        "    <td>5</td>\n",
        "    <td>Atrials</td>\n",
        "  </tr>\n",
        "    <tr>\n",
        "    <td>6</td>\n",
        "    <td>LCIM</td>\n",
        "  </tr>\n",
        "    <tr>\n",
        "    <td>7</td>\n",
        "    <td>Acutes</td>\n",
        "  </tr>\n",
        "    <tr>\n",
        "    <td>8</td>\n",
        "    <td>Crux</td>\n",
        "  </tr>\n",
        "</table>"
      ]
    },
    {
      "cell_type": "markdown",
      "metadata": {
        "id": "W8qlfLlwx8MO",
        "colab_type": "text"
      },
      "source": [
        "## Import from Google Drive"
      ]
    },
    {
      "cell_type": "code",
      "metadata": {
        "id": "4B4g74MZc0dL",
        "colab_type": "code",
        "colab": {
          "base_uri": "https://localhost:8080/",
          "height": 139
        },
        "outputId": "163bb47c-f1bd-4807-84be-ce6bf2a7828e"
      },
      "source": [
        "from google.colab import drive\n",
        "drive.mount('/content/drive')\n",
        "\n",
        "!unzip -uq \"/content/drive/My Drive/processed_v2.zip\"\n",
        "!ls \"/content/\" # Lists all the files "
      ],
      "execution_count": 2,
      "outputs": [
        {
          "output_type": "stream",
          "text": [
            "Go to this URL in a browser: https://accounts.google.com/o/oauth2/auth?client_id=947318989803-6bn6qk8qdgf4n4g3pfee6491hc0brc4i.apps.googleusercontent.com&redirect_uri=urn%3aietf%3awg%3aoauth%3a2.0%3aoob&response_type=code&scope=email%20https%3a%2f%2fwww.googleapis.com%2fauth%2fdocs.test%20https%3a%2f%2fwww.googleapis.com%2fauth%2fdrive%20https%3a%2f%2fwww.googleapis.com%2fauth%2fdrive.photos.readonly%20https%3a%2f%2fwww.googleapis.com%2fauth%2fpeopleapi.readonly\n",
            "\n",
            "Enter your authorization code:\n",
            "··········\n",
            "Mounted at /content/drive\n",
            "drive  __MACOSX  processed_v2  sample_data\n"
          ],
          "name": "stdout"
        }
      ]
    },
    {
      "cell_type": "markdown",
      "metadata": {
        "id": "lakOOLExKLQd",
        "colab_type": "text"
      },
      "source": [
        "## Split data into Train/Validate and Test \n",
        "Ensures that these 3 data are independent of each other - remove bias\n",
        "\n",
        "*   Validation - For hyperparameter tuning and model comparison\n",
        "*   Testing - For Performance Evaluation\n",
        "\n",
        "Current ratio of Train/Validate:Test = 0.9:0.1"
      ]
    },
    {
      "cell_type": "code",
      "metadata": {
        "id": "u4S20dbqpfR9",
        "colab_type": "code",
        "colab": {
          "base_uri": "https://localhost:8080/",
          "height": 170
        },
        "outputId": "13754030-72df-4682-9c69-c1b6b713b844"
      },
      "source": [
        "source1 = \"/content/processed_v2\"\n",
        "\n",
        "test_dest = \"/content/test\"\n",
        "\n",
        "if not os.path.exists(test_dest):\n",
        "    os.makedirs(test_dest)\n",
        "\n",
        "folders = os.listdir(source1)\n",
        "\n",
        "import shutil\n",
        "for folder in folders:\n",
        "\n",
        "    if folder == \".DS_Store\":\n",
        "        continue\n",
        "\n",
        "    new_folder_path = f\"{test_dest}/{folder}\"\n",
        "    if not os.path.exists(new_folder_path):\n",
        "        os.makedirs(new_folder_path)\n",
        "\n",
        "    single_folder = os.listdir(f\"{source1}/{folder}\")\n",
        "\n",
        "    for f in single_folder:\n",
        "        if np.random.rand(1) < 0.1: #10% of data us used for testing\n",
        "            # print(f\"{new_folder_path}/{f}\")\n",
        "            shutil.move(f\"{source1}/{folder}/{f}\", f\"{new_folder_path}/{f}\")"
      ],
      "execution_count": 3,
      "outputs": [
        {
          "output_type": "stream",
          "text": [
            "/content/test/8\n",
            "/content/test/5\n",
            "/content/test/7\n",
            "/content/test/1\n",
            "/content/test/2\n",
            "/content/test/0\n",
            "/content/test/3\n",
            "/content/test/6\n",
            "/content/test/4\n"
          ],
          "name": "stdout"
        }
      ]
    },
    {
      "cell_type": "code",
      "metadata": {
        "id": "7nLr3PkaLAK7",
        "colab_type": "code",
        "colab": {
          "base_uri": "https://localhost:8080/",
          "height": 51
        },
        "outputId": "07d0abbb-ff79-4a39-e04c-4232e786780c"
      },
      "source": [
        "def storeData(dest):\n",
        "\n",
        "    X_all = []\n",
        "    y_all = []\n",
        "    folders = os.listdir(dest)\n",
        "    idCount = 0\n",
        "\n",
        "    for folder in folders:\n",
        "\n",
        "        if (folder == \".DS_Store\"):\n",
        "            continue\n",
        "        \n",
        "        file_des = f\"{dest}/{folder}\"\n",
        "        all_files = os.listdir(file_des)\n",
        "        # print(f\"Folder {folder} containes {all_files}\")\n",
        "\n",
        "        os.chdir(file_des)\n",
        "        for f in glob.glob(\"*.txt\"):\n",
        "            \n",
        "            geometry = np.genfromtxt(f)\n",
        "            geometry = geometry.tolist()\n",
        "            # print(f\"The file {f} has {geometry[0]}\")              \n",
        "            # print(geometry.shape)\n",
        "            X_all.append(geometry)\n",
        "            y_all.append(folder)\n",
        "\n",
        "            idCount = idCount +1\n",
        "\n",
        "    X_all, y_all = shuffle(np.array(X_all), np.array(y_all), random_state=0)\n",
        "    \n",
        "    return X_all, y_all\n",
        "\n",
        "dest = '/content/processed_v2/'\n",
        "X_all, y_all = storeData(dest)\n",
        "\n",
        "\n",
        "print(X_all.shape)\n",
        "print(y_all)"
      ],
      "execution_count": 4,
      "outputs": [
        {
          "output_type": "stream",
          "text": [
            "(1929, 100, 4)\n",
            "['6' '7' '2' ... '6' '7' '7']\n"
          ],
          "name": "stdout"
        }
      ]
    },
    {
      "cell_type": "markdown",
      "metadata": {
        "id": "vorrIKyZwZvO",
        "colab_type": "text"
      },
      "source": [
        "## Develop Custom Dataset"
      ]
    },
    {
      "cell_type": "code",
      "metadata": {
        "id": "-now3mxWhlcL",
        "colab_type": "code",
        "colab": {}
      },
      "source": [
        "class HeartVesselsDataset(Dataset):\n",
        "\n",
        "    # Initialize your data, download, etc.\n",
        "    def __init__(self, attributes_data, labels):\n",
        "\n",
        "        self.x_data = attributes_data # Access dict\n",
        "        self.y_data = labels # Access dict\n",
        "        self.len = labels.shape[0]\n",
        "        \n",
        "    # USE DICTIONARY\n",
        "    def __getitem__(self, index):\n",
        "        # print(index)\n",
        "        geometry = self.x_data[index]\n",
        "        label = self.y_data[index] # Its a number\n",
        "        # print(label)\n",
        "        \n",
        "        return geometry, tensor(int(label))\n",
        "\n",
        "\n",
        "    def __len__(self):\n",
        "        return len(self.x_data)\n",
        "\n"
      ],
      "execution_count": 5,
      "outputs": []
    },
    {
      "cell_type": "markdown",
      "metadata": {
        "id": "4KoNEnafwq8Y",
        "colab_type": "text"
      },
      "source": [
        "Create Validation Datasets using KFold\n",
        "\n",
        "Cross validation (CV) is one of the technique used to test the effectiveness of a machine learning models, it is also a re-sampling procedure used to evaluate a model if we have a limited data"
      ]
    },
    {
      "cell_type": "code",
      "metadata": {
        "id": "9HpQ6U3ySIs8",
        "colab_type": "code",
        "colab": {
          "base_uri": "https://localhost:8080/",
          "height": 102
        },
        "outputId": "7fd5cea7-21cd-4463-a042-8660e6d18e88"
      },
      "source": [
        "from sklearn.model_selection import KFold # import KFold\n",
        "X = X_all \n",
        "print(f\"Before splitting, the data has this shape - {X.shape}\")\n",
        "y = y_all\n",
        "\n",
        "kf = KFold(n_splits=5,random_state=None, shuffle=False) # Define the split - into 5 folds \n",
        "# kf.get_n_splits(X) # returns the number of splitting iterations in the cross-validator\n",
        "print(kf) \n",
        "\n",
        "for train_index, val_index in kf.split(X):\n",
        "    # print(val_index)\n",
        "    X_train, X_val = X[train_index], X[val_index]\n",
        "    y_train, y_val = y[train_index], y[val_index]\n",
        "\n",
        "\n",
        "print(f\"\\nAfter splitting, the training data has this shape - {X_train.shape}\")\n",
        "print(f\"After splitting, the validation data has this shape - {X_val.shape}\")"
      ],
      "execution_count": 70,
      "outputs": [
        {
          "output_type": "stream",
          "text": [
            "Before splitting, the data has this shape - (1929, 100, 4)\n",
            "KFold(n_splits=5, random_state=None, shuffle=False)\n",
            "\n",
            "After splitting, the training data has this shape - (1544, 100, 4)\n",
            "After splitting, the validation data has this shape - (385, 100, 4)\n"
          ],
          "name": "stdout"
        }
      ]
    },
    {
      "cell_type": "code",
      "metadata": {
        "id": "6trhsNY-wp-j",
        "colab_type": "code",
        "colab": {
          "base_uri": "https://localhost:8080/",
          "height": 51
        },
        "outputId": "a042fd29-535e-4070-9903-839524e4bf91"
      },
      "source": [
        "train_dataset = HeartVesselsDataset(X_train, y_train)\n",
        "trainloader = DataLoader(dataset=train_dataset, batch_size=16,shuffle=True,num_workers=0)\n",
        "\n",
        "val_dataset = HeartVesselsDataset(X_val, y_val)\n",
        "valloader = DataLoader(dataset=val_dataset, batch_size=16,shuffle=True,num_workers=0)\n",
        "\n",
        "print(f\"Train has {len(trainloader)} batches and {train_dataset.len} datasets\")\n",
        "print(f\"Validation has {len(valloader)} batches and {val_dataset.len} datasets\")\n"
      ],
      "execution_count": 7,
      "outputs": [
        {
          "output_type": "stream",
          "text": [
            "Train has 97 batches and 1544 datasets\n",
            "Validation has 25 batches and 385 datasets\n"
          ],
          "name": "stdout"
        }
      ]
    },
    {
      "cell_type": "markdown",
      "metadata": {
        "id": "APGAYL6FxfHE",
        "colab_type": "text"
      },
      "source": [
        "## Inspecting Input - A Single Branch"
      ]
    },
    {
      "cell_type": "code",
      "metadata": {
        "id": "jDOQJS0Wm29G",
        "colab_type": "code",
        "colab": {
          "base_uri": "https://localhost:8080/",
          "height": 316
        },
        "outputId": "12dd70fa-d03e-4bc7-a09c-3b1072790e0c"
      },
      "source": [
        "geometries, label = next(iter(trainloader))\n",
        "\n",
        "# print(f\"Geo is of type {geometries.type}\")\n",
        "# print(f\"Label is of type {label.type}\")\n",
        "print(\"A Random Coronary Branch\")\n",
        "print(f\"Dimension of a branch/matrix is {geometries[0].shape}\")\n",
        "\n",
        "plt.imshow(geometries[0].view(20, 20))\n",
        "plt.show()\n",
        "print(f\"The label is {label[0]}\")"
      ],
      "execution_count": 8,
      "outputs": [
        {
          "output_type": "stream",
          "text": [
            "A Random Coronary Branch\n",
            "Dimension of a branch/matrix is torch.Size([100, 4])\n"
          ],
          "name": "stdout"
        },
        {
          "output_type": "display_data",
          "data": {
            "image/png": "[encoded data removed]",
            "text/plain": [
              "<Figure size 432x288 with 1 Axes>"
            ]
          },
          "metadata": {
            "tags": [],
            "needs_background": "light"
          }
        },
        {
          "output_type": "stream",
          "text": [
            "The label is 1\n"
          ],
          "name": "stdout"
        }
      ]
    },
    {
      "cell_type": "markdown",
      "metadata": {
        "id": "xv9OG9k3kAjA",
        "colab_type": "text"
      },
      "source": [
        "# Model Definition\n",
        "\n",
        "So that different model architectures can work interchangeable\n",
        "\n"
      ]
    },
    {
      "cell_type": "markdown",
      "metadata": {
        "id": "V7dBvPPD73SN",
        "colab_type": "text"
      },
      "source": [
        "## Linear Layers"
      ]
    },
    {
      "cell_type": "markdown",
      "metadata": {
        "id": "b9wlmug-LeLy",
        "colab_type": "text"
      },
      "source": [
        "### Model 1 - nn.Linear in Sequential Form\n",
        "\n",
        "A simple Multi-Layer Perceptron, but achieves accuracy of 0.78 - 0.8 after 350 epochs"
      ]
    },
    {
      "cell_type": "code",
      "metadata": {
        "id": "RQy8VcNALcrc",
        "colab_type": "code",
        "colab": {}
      },
      "source": [
        "# model = nn.Sequential(nn.Linear(400,128), nn.ReLU(), nn.Linear(128,64), \n",
        "#                       nn.ReLU(), nn.Linear(64,9), nn.LogSoftmax(dim=1))\n",
        "\n",
        "# model = model.to(device)"
      ],
      "execution_count": null,
      "outputs": []
    },
    {
      "cell_type": "markdown",
      "metadata": {
        "id": "rZ8LPLeb1dHQ",
        "colab_type": "text"
      },
      "source": [
        "### Model 2 - nn.Linear in Class form \n",
        "Basically same as Model 1, just that its in nn.functional() form. This allows user to tune the parameters more, which is better. \n"
      ]
    },
    {
      "cell_type": "code",
      "metadata": {
        "id": "eSpsZlv2B9be",
        "colab_type": "code",
        "colab": {}
      },
      "source": [
        "# # Start Timer\n",
        "# t0 = time.time()\n",
        "\n",
        "\n",
        "# class ConvNN(nn.Module):\n",
        "#     def __init__(self):\n",
        "#         super().__init__()\n",
        "#         # Defining the layers, 128, 64, 9 units each\n",
        "#         self.fc1 = nn.Linear(400, 128)\n",
        "#         self.fc2 = nn.Linear(128, 64)\n",
        "#         # Output layer, 9 units - one for each digit\n",
        "#         self.fc3 = nn.Linear(64, 9)\n",
        "        \n",
        "#     def forward(self, x):\n",
        "#         ''' Forward pass through the network, returns the output logits '''\n",
        "        \n",
        "#         x = self.fc1(x)\n",
        "#         x = F.relu(x)\n",
        "#         x = self.fc2(x)\n",
        "#         x = F.relu(x)\n",
        "#         x = self.fc3(x)\n",
        "#         x = F.log_softmax(x, dim=1)\n",
        "        \n",
        "#         return x\n",
        "\n",
        "\n",
        "# model = ConvNN()\n",
        "# model = model.to(device)"
      ],
      "execution_count": null,
      "outputs": []
    },
    {
      "cell_type": "markdown",
      "metadata": {
        "id": "voy06Xl8797G",
        "colab_type": "text"
      },
      "source": [
        "## Convolutional Layers\n",
        "\n",
        "Suggestions to Improve:\n",
        "* Use He Initialization for ReLU layers instead of random or zero initiliazation. Refer to roadmap\n",
        "* Use more regularization techniques (if necessary)\n",
        "\n",
        "Things to note:\n",
        "* Increasing number of layers by more than 2 do not improve the accuracy - could be due to my model being simple?\n",
        "* No need to have a lot of nodes in a hidden layer; the input is not a 2D image anyways.\n",
        "* [Dropout Layers FAQ ](https://https://stats.stackexchange.com/questions/240305/where-should-i-place-dropout-layers-in-a-neural-network )\n",
        "* Dropout layers may result in [Test Accuracy > Train Accuracy](https://www.quora.com/How-can-I-explain-the-fact-that-test-accuracy-is-much-higher-than-train-accuracy)  "
      ]
    },
    {
      "cell_type": "markdown",
      "metadata": {
        "id": "aSq31moBhyNi",
        "colab_type": "text"
      },
      "source": [
        "### Model 3 - Conv1D with 3 Hidden Layers\n",
        "\n",
        "Comment out the Regularisation if not needed\n",
        "\n"
      ]
    },
    {
      "cell_type": "code",
      "metadata": {
        "id": "wGcAZPPMhxWD",
        "colab_type": "code",
        "colab": {}
      },
      "source": [
        "class ConvNN(nn.Module):\n",
        "\n",
        "\n",
        "    def __init__(self):\n",
        "        super().__init__()\n",
        "        \n",
        "        # Input Tensor [batch, in_channels, in_width]\n",
        "        x = torch.randn(100, 4).view(-1, 4, 100)    # replace with He initialization\n",
        "        # print(x.shape)\n",
        "\n",
        "        # Defining the layers, 4, 8, 16 and 32 units each\n",
        "        self.conv1 = nn.Conv1d(in_channels=4, out_channels=16, kernel_size=3)\n",
        "        self.conv2 = nn.Conv1d(in_channels=16, out_channels=64, kernel_size=3)\n",
        "        self.conv3 = nn.Conv1d(in_channels=64, out_channels=256, kernel_size=3)\n",
        "\n",
        "        # Activated during eval mode\n",
        "        self.conv1_bn = nn.BatchNorm1d(16)\n",
        "        self.conv2_bn = nn.BatchNorm1d(64)\n",
        "        self.conv3_bn = nn.BatchNorm1d(256)\n",
        "        self.fc1_bn = nn.BatchNorm1d(128)\n",
        "        self.fc2_bn = nn.BatchNorm1d(32)\n",
        "    \n",
        "        self.fc_dropout = nn.Dropout(p=0.5)\n",
        "        self.conv_dropout = nn.Dropout(p=0.1)\n",
        "        \n",
        "        self._to_linear = None\n",
        "        # Time distributed layer - maybe change to keras\n",
        "        self.convs(x)\n",
        "        \n",
        "        # self.fc1 = nn.Linear(self._to_linear, 64) #flattening.\n",
        "        # self.fc2 = nn.Linear(64, 9) # 64 in, 9out bc we're doing 9 classes \n",
        "\n",
        "        self.fc1 = nn.Linear(self._to_linear, 128) #flattening.\n",
        "        self.fc2 = nn.Linear(128, 32)\n",
        "        self.fc3 = nn.Linear(32, 9)\n",
        "\n",
        "    def convs(self, x):\n",
        "        # max pooling over 2\n",
        "        \n",
        "        x = self.conv1(x)\n",
        "        x = self.conv1_bn(x)  \n",
        "        x = F.relu(x)\n",
        "        x = self.conv_dropout(x)    \n",
        "        x = F.max_pool1d(x, 2) #or Elu\n",
        "\n",
        "        x = self.conv2(x)\n",
        "        x = self.conv2_bn(x)   \n",
        "        x = F.relu(x)\n",
        "        x = self.conv_dropout(x)\n",
        "        x = F.max_pool1d(x, 2) #or Elu\n",
        "\n",
        "        x = self.conv3(x)\n",
        "        x = self.conv3_bn(x)   \n",
        "        x = F.relu(x)\n",
        "        x = self.conv_dropout(x)\n",
        "        x = F.max_pool1d(x, 2) #or Elu\n",
        "        \n",
        "        if self._to_linear is None:\n",
        "            self._to_linear = x[0].shape[0]*x[0].shape[1]\n",
        "            \n",
        "        return x\n",
        "        \n",
        "    def forward(self, x):\n",
        "        ''' Forward pass through the network, returns the output logits '''\n",
        "        \n",
        "        x = self.convs(x)\n",
        "        # .view is reshape ... this flattens X before going to FC layer\n",
        "        x = x.view(-1, self._to_linear)  \n",
        "\n",
        "        x = self.fc1(x)\n",
        "        x = self.fc1_bn(x)\n",
        "        x = F.relu(x)\n",
        "        x = self.fc_dropout(x) \n",
        "\n",
        "        x = self.fc2(x) # bc this is our output layer. No activation here.\n",
        "        x = self.fc2_bn(x)\n",
        "        x = F.relu(x)\n",
        "        x = self.fc_dropout(x)   \n",
        "\n",
        "        x = self.fc3(x)\n",
        "\n",
        "        return F.log_softmax(x, dim=1)\n",
        "        \n",
        "        return x\n"
      ],
      "execution_count": 9,
      "outputs": []
    },
    {
      "cell_type": "markdown",
      "metadata": {
        "id": "VizHiNgIepz3",
        "colab_type": "text"
      },
      "source": [
        "### Model 4 - Conv1D with 2 Layers\n",
        "\n",
        "The node layers and numbers are based on multiple websites:\n",
        "https://stats.stackexchange.com/questions/181/how-to-choose-the-number-of-hidden-layers-and-nodes-in-a-feedforward-neural-netw\n",
        "\n",
        "https://www.researchgate.net/post/In_neural_networks_model_which_number_of_hidden_units_to_select\n"
      ]
    },
    {
      "cell_type": "code",
      "metadata": {
        "id": "_7UrOf4aBgpe",
        "colab_type": "code",
        "colab": {}
      },
      "source": [
        "# class ConvNN(nn.Module):\n",
        "#     def __init__(self):\n",
        "#         super().__init__()\n",
        "        \n",
        "#         # Input Tensor [batch, in_channels, in_width]\n",
        "#         x = torch.randn(100, 4).view(-1, 4, 100)\n",
        "#         print(x.shape)\n",
        "\n",
        "        \n",
        "#         self.conv1 = nn.Conv1d(in_channels=4, out_channels=7, kernel_size=3) \n",
        "#         self.conv2 = nn.Conv1d(in_channels=7, out_channels=5, kernel_size=3)\n",
        "#         # self.conv1_bn = nn.BatchNorm1d(7)\n",
        "#         # self.conv2_bn = nn.BatchNorm1d(5)\n",
        "#         self.fc_dropout = nn.Dropout(p=0.5)\n",
        "#         self.conv_dropout = nn.Dropout(p=0.1)\n",
        "        \n",
        "#         self._to_linear = None\n",
        "\n",
        "#         self.convs(x)\n",
        "\n",
        "#         self.fc1 = nn.Linear(self._to_linear, 64) #flattening.\n",
        "#         self.fc2 = nn.Linear(64, 9) # 64 in, 9out bc we're doing 9 classes \n",
        "\n",
        "#     def convs(self, x):\n",
        "#         # max pooling over 2\n",
        "#         x = self.conv1(x)\n",
        "#         # x = self.conv1_bn(x)       \n",
        "#         x = F.max_pool1d(self.conv_dropout(F.relu(x)), 2) #or Elu\n",
        "\n",
        "#         x = self.conv2(x)\n",
        "#         # x = self.conv2_bn(x)       \n",
        "#         x = F.max_pool1d(self.conv_dropout(F.relu(x)), 2) #or Elu\n",
        "\n",
        "#         # x = self.conv3(x)\n",
        "#         # # x = self.conv3_bn(x)       \n",
        "#         # x = F.max_pool1d(F.relu(x), 2) #or Elu\n",
        "        \n",
        "#         if self._to_linear is None:\n",
        "#             self._to_linear = x[0].shape[0]*x[0].shape[1]\n",
        "            \n",
        "#         return x\n",
        "        \n",
        "#     def forward(self, x):\n",
        "#         ''' Forward pass through the network, returns the output logits '''\n",
        "        \n",
        "#         x = self.convs(x)\n",
        "#         x = x.view(-1, self._to_linear)  # .view is reshape ... this flattens X before \n",
        "\n",
        "#         x = self.fc1(x)\n",
        "#         # x = self.fc1_bn(x)\n",
        "#         x = F.relu(x)\n",
        "#         x = self.fc_dropout(x) \n",
        "\n",
        "#         x = self.fc2(x) # bc this is our output layer. No activation here.\n",
        "#         return F.log_softmax(x, dim=1)\n",
        "        \n",
        "#         return x\n"
      ],
      "execution_count": null,
      "outputs": []
    },
    {
      "cell_type": "markdown",
      "metadata": {
        "id": "5c8rxsQup9Ts",
        "colab_type": "text"
      },
      "source": [
        "# Train and Validate Model"
      ]
    },
    {
      "cell_type": "markdown",
      "metadata": {
        "id": "y_c7jC0r8Lzv",
        "colab_type": "text"
      },
      "source": [
        "\n",
        "\n",
        "\n",
        "```\n",
        "model.train(), model.eval()\n",
        "```\n",
        "\n",
        "Both are the same. By default all the modules are initialized to train mode (self.training = True). \n",
        "\n",
        "In case you want to validate your data, call model.eval() before feeding the data, as this will change the behavior of the BatchNorm (or Dropout) layer to use the running estimates instead of calculating them for the current batch.\n",
        "If you want to train your model and can’t use a bigger batch size, you could switch e.g. to InstanceNorm."
      ]
    },
    {
      "cell_type": "code",
      "metadata": {
        "id": "mlPEe_rknZYi",
        "colab_type": "code",
        "colab": {}
      },
      "source": [
        "def train(loader): # for train cases\n",
        "    running_loss = 0\n",
        "    sumCorrect = 0\n",
        "    sumTotal = 0      \n",
        "\n",
        "    model.train() # for train cases\n",
        "        \n",
        "    for X, y in loader:\n",
        "\n",
        "        X = X.view(-1, 4, 100)\n",
        "        # print(X.shape)\n",
        "        X, y = X.to(device), y.to(device)\n",
        "        \n",
        "        optimiser.zero_grad()\n",
        "        \n",
        "        # train_X = train_X.view(-1, 4, 100)\n",
        "        output = model(X.float())\n",
        "        _, predicted = torch.max(output.data, 1)\n",
        "        loss = criterion(output,y)\n",
        "\n",
        "        loss.backward()\n",
        "        optimiser.step()\n",
        "        \n",
        "        running_loss += loss.item()\n",
        "        \n",
        "        # Accuracy\n",
        "        sumCorrect += (predicted == y).sum().item()\n",
        "        sumTotal += y.size(0)\n",
        "\n",
        "    l = running_loss/len(loader) #average loss for whole loader dataset\n",
        "    acc = sumCorrect/sumTotal\n",
        "\n",
        "    return acc, l\n",
        "\n",
        "def validate(loader):\n",
        "    running_loss = 0\n",
        "    sumCorrect = 0\n",
        "    sumTotal = 0      \n",
        "\n",
        "    model.eval() # for validation cases\n",
        "    with torch.no_grad():   \n",
        "        for X, y in loader:\n",
        "\n",
        "            X = X.view(-1, 4, 100)\n",
        "            # print(X.shape)\n",
        "            X, y = X.to(device), y.to(device)\n",
        "            \n",
        "            \n",
        "            # train_X = train_X.view(-1, 4, 100)\n",
        "            output = model(X.float())\n",
        "            _, predicted = torch.max(output.data, 1)\n",
        "            loss = criterion(output,y)\n",
        "\n",
        "            running_loss += loss.item()         \n",
        "\n",
        "            # Accuracy\n",
        "            sumCorrect += (predicted == y).sum().item()\n",
        "            sumTotal += y.size(0)\n",
        "            # print(sumTotal)   \n",
        "\n",
        "    l = running_loss/len(loader) #average loss for whole loader dataset\n",
        "    acc = sumCorrect/sumTotal\n",
        "\n",
        "    return acc, l\n",
        "\n",
        "def train_and_validate(trainloader, valloader):\n",
        "    train_acc_list, train_loss_list, val_acc_list, val_loss_list = [],[],[],[]\n",
        "    \n",
        "    for e in tqdm(range(EPOCHS), position=0, leave=True):\n",
        "\n",
        "        # Train\n",
        "        train_acc, train_loss = train(trainloader)\n",
        "        train_acc_list.append(train_acc)\n",
        "        train_loss_list.append(train_loss)\n",
        "        \n",
        "        # Validate\n",
        "        val_acc, val_loss = validate(valloader)\n",
        "        val_acc_list.append(val_acc)\n",
        "        val_loss_list.append(val_loss)\n",
        "    \n",
        "    return train_acc_list, train_loss_list, val_acc_list, val_loss_list"
      ],
      "execution_count": 10,
      "outputs": []
    },
    {
      "cell_type": "code",
      "metadata": {
        "id": "UfCPrZ1UkJhM",
        "colab_type": "code",
        "colab": {}
      },
      "source": [
        "model = ConvNN()\n",
        "model = model.to(device)"
      ],
      "execution_count": 11,
      "outputs": []
    },
    {
      "cell_type": "markdown",
      "metadata": {
        "id": "hAF_19BC52Hy",
        "colab_type": "text"
      },
      "source": [
        "## Calculate Accuracy and Loss - *Testing (Not the Main Program)*"
      ]
    },
    {
      "cell_type": "code",
      "metadata": {
        "id": "nYYBoUuVB7Ek",
        "colab_type": "code",
        "colab": {
          "base_uri": "https://localhost:8080/",
          "height": 119
        },
        "outputId": "3ab7edfa-c6b0-44a6-ae3d-f5e2e760a773"
      },
      "source": [
        "criterion = nn.NLLLoss()\n",
        "optimiser = optim.Adam(model.parameters(), lr=0.0001, weight_decay=1e-4)\n",
        "\n",
        "# Refer to Deep Learning Roadmap\n",
        "\n",
        "EPOCHS = 5\n",
        "train_acc_total, train_loss_total, val_acc_total, val_loss_total = [],[],[],[]\n",
        "for i in range(4):\n",
        "    \n",
        "    a, b, c, d = train_and_validate(trainloader, valloader)\n",
        "  \n",
        "    train_acc_total.append(a)\n",
        "    train_loss_total.append(b) \n",
        "    val_acc_total.append(c) \n",
        "    val_loss_total.append(d) \n",
        "\n",
        "t1 = time.time()\n",
        "duration = (t1-t0)/60\n",
        "print(\"\\nTime taken to train is \" + \"{:.2f}\".format(duration) + \" minutes.\")"
      ],
      "execution_count": 12,
      "outputs": [
        {
          "output_type": "stream",
          "text": [
            "100%|██████████| 5/5 [00:04<00:00,  1.02it/s]\n",
            "100%|██████████| 5/5 [00:04<00:00,  1.10it/s]\n",
            "100%|██████████| 5/5 [00:04<00:00,  1.09it/s]\n",
            "100%|██████████| 5/5 [00:04<00:00,  1.09it/s]"
          ],
          "name": "stderr"
        },
        {
          "output_type": "stream",
          "text": [
            "\n",
            "Time taken to train is 0.31 minutes.\n"
          ],
          "name": "stdout"
        },
        {
          "output_type": "stream",
          "text": [
            "\n"
          ],
          "name": "stderr"
        }
      ]
    },
    {
      "cell_type": "markdown",
      "metadata": {
        "id": "ZHLzE8CxsFpk",
        "colab_type": "text"
      },
      "source": [
        "# Visualization\n",
        "\n"
      ]
    },
    {
      "cell_type": "markdown",
      "metadata": {
        "id": "8EnMpT09QnJT",
        "colab_type": "text"
      },
      "source": [
        "## See Validation Results for 1 Sample"
      ]
    },
    {
      "cell_type": "code",
      "metadata": {
        "id": "TNJoiAuHI_xn",
        "colab_type": "code",
        "colab": {
          "base_uri": "https://localhost:8080/",
          "height": 241
        },
        "outputId": "58e99bfd-3827-4b89-e748-0cad90b6c3a2"
      },
      "source": [
        "%matplotlib inline\n",
        "%config InlineBackend.figure_format = 'retina'\n",
        "vessels_names = ['ldai', 'diags', 'septals', 'lcxi', 'obtmar', 'atrials', 'lcim', 'acutes', 'crux']\n",
        "\n",
        "\n",
        "dataiter = iter(valloader)\n",
        "geometries, labels = dataiter.next()\n",
        "geom = geometries[0]\n",
        "# Convert 2D matrix/image to 1D vector\n",
        "\n",
        "geom = geom.resize_(1, 400)\n",
        "\n",
        "\n",
        "# TODO: Calculate the class probabilities (softmax) for img\n",
        "with torch.no_grad():\n",
        "    \n",
        "    logps = model(geom.cuda().view(-1, 4, 100).float()) # convert to cuda tensor to run faster\n",
        "    \n",
        "ps = torch.exp(logps)\n",
        "\n",
        "# Plot the image and probabilities\n",
        "\n",
        "def view_classify(geom, ps):\n",
        "    ''' Function for viewing an image and it's predicted classes.\n",
        "    '''\n",
        "    ps = ps.data.cpu().numpy().squeeze()\n",
        "\n",
        "    fig, (ax1, ax2) = plt.subplots(figsize=(6,9), ncols=2)\n",
        "    ax1.imshow(geom.resize_(20, 20).numpy().squeeze()) #First figure on left\n",
        "    \n",
        "    ax1.axis('off')\n",
        "    ax2.barh(np.arange(9), ps) #Make a horizontal bar plot\n",
        "    ax2.set_aspect(0.1)\n",
        "    ax2.set_yticks(np.arange(10))\n",
        "    ax2.set_yticklabels(vessels_names, size='medium');\n",
        "    ax2.set_title('Class Probability')\n",
        "    ax2.set_xlim(0, 1.1)\n",
        "\n",
        "    plt.tight_layout()\n",
        "\n",
        "\n",
        "geom_numpy = geom.cpu().numpy()\n",
        "view_classify(geom.reshape(20, 20), ps) # convert back to numpy\n",
        "\n",
        "print(f\"The actual vessel is {vessels_names[labels[0]]}\")\n"
      ],
      "execution_count": null,
      "outputs": [
        {
          "output_type": "stream",
          "text": [
            "The actual vessel is obtmar\n"
          ],
          "name": "stdout"
        },
        {
          "output_type": "display_data",
          "data": {
            "image/png": "[encoded data removed]",
            "text/plain": [
              "<Figure size 432x648 with 2 Axes>"
            ]
          },
          "metadata": {
            "tags": [],
            "image/png": {
              "width": 424,
              "height": 207
            },
            "needs_background": "light"
          }
        }
      ]
    },
    {
      "cell_type": "markdown",
      "metadata": {
        "id": "9l8qw83t58OQ",
        "colab_type": "text"
      },
      "source": [
        "## Plot Accuracies and Loss vs Epochs"
      ]
    },
    {
      "cell_type": "markdown",
      "metadata": {
        "id": "zR56kkoDR02e",
        "colab_type": "text"
      },
      "source": [
        "This fucntion is used to average the train and validation accuracy and loss. It won't be useful if we are tying to tune the hyperparameters"
      ]
    },
    {
      "cell_type": "code",
      "metadata": {
        "id": "owBbcE6yHf8i",
        "colab_type": "code",
        "colab": {}
      },
      "source": [
        "\n",
        "def averaging(train_acc_total, train_loss_total, val_acc_total, val_loss_total):\n",
        "\n",
        "    train_acc_total = np.asarray(train_acc_total)\n",
        "    train_loss_total = np.asarray(train_loss_total)\n",
        "    val_acc_total = np.asarray(val_acc_total)\n",
        "    val_loss_total = np.asarray(val_loss_total)\n",
        "\n",
        "    # print(train_acc_total)\n",
        "    firstRow = train_acc_total[:, 0]\n",
        "    # print(firstRow)\n",
        "    # print(np.average(firstRow))\n",
        "\n",
        "    train_acc_avg, train_loss_avg, val_acc_avg, val_loss_avg =[], [],[],[]\n",
        "\n",
        "    for i in range(train_acc_total.shape[1]):\n",
        "        mean_acc = np.average(train_acc_total[:, i])\n",
        "        train_acc_avg.append(mean_acc)\n",
        "\n",
        "        mean_loss = np.average(train_loss_total[:, i])\n",
        "        train_loss_avg.append(mean_loss)\n",
        "\n",
        "        mean_acc = np.average(val_acc_total[:, i])\n",
        "        val_acc_avg.append(mean_acc)\n",
        "\n",
        "        mean_loss = np.average(val_loss_total[:, i])\n",
        "        val_loss_avg.append(mean_loss)\n",
        "\n",
        "    return train_acc_avg, train_loss_avg, val_acc_avg, val_loss_avg"
      ],
      "execution_count": 13,
      "outputs": []
    },
    {
      "cell_type": "markdown",
      "metadata": {
        "id": "sNBLPY7cvAfN",
        "colab_type": "text"
      },
      "source": [
        "Average Accuracy and Loss for Train and Val"
      ]
    },
    {
      "cell_type": "code",
      "metadata": {
        "id": "wZCaUppuB2Aj",
        "colab_type": "code",
        "colab": {}
      },
      "source": [
        "import matplotlib.pyplot as plt\n",
        "from matplotlib import style\n",
        "import pandas as pd\n",
        "\n",
        "style.use(\"ggplot\")\n",
        "\n",
        "def create_acc_loss_graph(train_acc_list, train_loss_list, val_acc_list, val_loss_list):\n",
        "    epoch = list(range(0, EPOCHS, 1))\n",
        "\n",
        "    d = {'epochs': epoch,\n",
        "        'train_acc': train_acc_list,\n",
        "        'train_loss': train_loss_list,\n",
        "        'val_acc': val_acc_list, \n",
        "        'val_loss': val_loss_list}\n",
        "\n",
        "    df = pd.DataFrame(d)\n",
        "\n",
        "    df['train_acc_avg'] = df['train_acc'].ewm(alpha=.02).mean()  # exponential weighted moving average\n",
        "    df['val_acc_avg'] = df['val_acc'].ewm(alpha=.02).mean()\n",
        "    df['train_loss_avg'] = df['train_loss'].ewm(alpha=.02).mean()\n",
        "    df['val_loss_avg'] = df['val_loss'].ewm(alpha=.02).mean()\n",
        "\n",
        "    # Then plot using pandas:\n",
        "    df.plot(x='epochs', y=['train_acc_avg', 'val_acc_avg'], figsize=(8,4))\n",
        "    plt.ylabel(\"Accuracy\")\n",
        "    df.plot(x='epochs', y=['train_loss_avg', 'val_loss_avg'], figsize=(8,4))\n",
        "    plt.ylabel(\"Loss\")\n",
        "\n",
        "    plt.show()\n",
        "\n"
      ],
      "execution_count": 58,
      "outputs": []
    },
    {
      "cell_type": "markdown",
      "metadata": {
        "id": "OroCqwvNypGG",
        "colab_type": "text"
      },
      "source": [
        "## Compare Validation Sets\n",
        "\n",
        "Validation Set is used to compare diff models and tune hyperparamters to get the optimum one.\n",
        "\n"
      ]
    },
    {
      "cell_type": "code",
      "metadata": {
        "id": "L0RYVGppymto",
        "colab_type": "code",
        "colab": {}
      },
      "source": [
        "from scipy.interpolate import make_interp_spline, BSpline\n",
        "\n",
        "def compare_graph(x, y, parameter, compare):\n",
        "\n",
        "    plt.figure()\n",
        "\n",
        "    for i in range(len(x)):\n",
        "\n",
        "        # 300 represents number of points to make between T.min and T.max\n",
        "        # x_smooth = np.linspace(min(x[i]), max(x[i]), 300)  \n",
        "        # spline = make_interp_spline(x[i], y[i], k=3)\n",
        "        # y_smooth = spline(x_smooth)\n",
        "        # plt.plot(x_smooth, y_smooth, label=f\"learning rate = {parameter[i]}\")\n",
        "\n",
        "        plt.plot(x[i], y[i], label=f\"learning rate = {parameter[i]}\")\n",
        "    \n",
        "    plt.xlabel('Epochs')\n",
        "    \n",
        "    if compare is \"acc\":\n",
        "        plt.ylabel('Accuracy')\n",
        "        plt.legend(loc=\"lower right\")\n",
        "    else:\n",
        "        plt.ylabel('Loss')\n",
        "        plt.legend(loc=\"upper right\")\n",
        "    \n",
        "    plt.show()\n"
      ],
      "execution_count": 42,
      "outputs": []
    },
    {
      "cell_type": "markdown",
      "metadata": {
        "id": "_zvNSlZY16Q7",
        "colab_type": "text"
      },
      "source": [
        "# Main Pipeline\n",
        "24/6/2020 - Curerntly used for hyperparameter tuning through Five-fold cross validation\n"
      ]
    },
    {
      "cell_type": "code",
      "metadata": {
        "id": "NftXXQowxWWl",
        "colab_type": "code",
        "colab": {
          "base_uri": "https://localhost:8080/",
          "height": 802
        },
        "outputId": "9b97d09f-a602-44b9-f53e-786a3b9a7ffe"
      },
      "source": [
        "import statistics as stats\n",
        "\n",
        "accuracies = []\n",
        "\n",
        "learningRate = [0.1, 0.01, 0.001, 0.0001, 0.00001]\n",
        "batch = [8, 16, 32, 64, 128]\n",
        "\n",
        "\n",
        "X = X_all \n",
        "y = y_all # Create another array\n",
        "kf = KFold(n_splits=5,random_state=None, shuffle=False) # shuffle was fale\n",
        "\n",
        "train_acc_total, train_loss_total, val_acc_total, val_loss_total = [],[],[],[]\n",
        "epochs_total=[]\n",
        "\n",
        "i = 0\n",
        "for train_index, val_index in kf.split(X):\n",
        "\n",
        "    X_train, X_val = X[train_index], X[val_index]\n",
        "    y_train, y_val = y[train_index], y[val_index]\n",
        "\n",
        "    train_dataset = HeartVesselsDataset(X_train, y_train)\n",
        "    trainloader = DataLoader(dataset=train_dataset, batch_size=batch[i],shuffle=True,num_workers=0)\n",
        "\n",
        "    val_dataset = HeartVesselsDataset(X_val, y_val)\n",
        "    valloader = DataLoader(dataset=val_dataset, batch_size=batch[i],shuffle=True,num_workers=0)\n",
        "\n",
        "    model = ConvNN()\n",
        "    model = model.to(device)\n",
        "\n",
        "    t0 = time.time()\n",
        "    criterion = nn.NLLLoss()\n",
        "    optimiser = optim.Adam(model.parameters(), lr=0.00001, weight_decay=1e-4)\n",
        "\n",
        "    EPOCHS = 200# at least 5 for the interpoaltion to work\n",
        "    e = list(range(0, EPOCHS))\n",
        "\n",
        "    train_acc_list, train_loss_list, val_acc_list, val_loss_list = train_and_validate(trainloader, valloader)\n",
        "    \n",
        "    train_acc_total.append(train_acc_list)\n",
        "    train_loss_total.append(train_loss_list) \n",
        "    val_acc_total.append(val_acc_list) \n",
        "    val_loss_total.append(val_loss_list) \n",
        "    epochs_total.append(e)\n",
        "\n",
        "    t1 = time.time()\n",
        "    duration = (t1-t0)/60\n",
        "    print(\"\\nTime taken to train for 1 validation set is \" + \"{:.2f}\".format(duration) + \" minutes.\")\n",
        "\n",
        "    i+= 1\n",
        "\n",
        "compare_graph(epochs_total, val_acc_total, batch, compare=\"acc\")\n",
        "compare_graph(epochs_total, val_loss_total, batch, compare=\"loss\")\n",
        "\n",
        "# To get acc and loss for both val and test\n",
        "# a,b,c,d = averaging(train_acc_total, train_loss_total,  val_acc_total, val_loss_total)\n",
        "# create_acc_loss_graph(a,b,c,d )\n",
        "\n",
        "# print(f\"\\nThis model has an accuracy of {round(max(accuracies), 3)} +/- {round(stats.stdev(accuracies), 3)}\")      "
      ],
      "execution_count": 64,
      "outputs": [
        {
          "output_type": "stream",
          "text": [
            "100%|██████████| 200/200 [06:10<00:00,  1.85s/it]\n",
            "  0%|          | 0/200 [00:00<?, ?it/s]"
          ],
          "name": "stderr"
        },
        {
          "output_type": "stream",
          "text": [
            "\n",
            "Time taken to train for 1 validation set is 6.18 minutes.\n"
          ],
          "name": "stdout"
        },
        {
          "output_type": "stream",
          "text": [
            "100%|██████████| 200/200 [03:07<00:00,  1.07it/s]\n",
            "  0%|          | 0/200 [00:00<?, ?it/s]"
          ],
          "name": "stderr"
        },
        {
          "output_type": "stream",
          "text": [
            "\n",
            "Time taken to train for 1 validation set is 3.12 minutes.\n"
          ],
          "name": "stdout"
        },
        {
          "output_type": "stream",
          "text": [
            "100%|██████████| 200/200 [01:38<00:00,  2.03it/s]\n",
            "  0%|          | 0/200 [00:00<?, ?it/s]"
          ],
          "name": "stderr"
        },
        {
          "output_type": "stream",
          "text": [
            "\n",
            "Time taken to train for 1 validation set is 1.64 minutes.\n"
          ],
          "name": "stdout"
        },
        {
          "output_type": "stream",
          "text": [
            "100%|██████████| 200/200 [00:52<00:00,  3.78it/s]\n",
            "  0%|          | 1/200 [00:00<00:32,  6.17it/s]"
          ],
          "name": "stderr"
        },
        {
          "output_type": "stream",
          "text": [
            "\n",
            "Time taken to train for 1 validation set is 0.88 minutes.\n"
          ],
          "name": "stdout"
        },
        {
          "output_type": "stream",
          "text": [
            "100%|██████████| 200/200 [00:32<00:00,  6.20it/s]\n"
          ],
          "name": "stderr"
        },
        {
          "output_type": "stream",
          "text": [
            "\n",
            "Time taken to train for 1 validation set is 0.54 minutes.\n"
          ],
          "name": "stdout"
        },
        {
          "output_type": "display_data",
          "data": {
            "image/png": "[encoded data removed]",
            "text/plain": [
              "<Figure size 432x288 with 1 Axes>"
            ]
          },
          "metadata": {
            "tags": []
          }
        },
        {
          "output_type": "display_data",
          "data": {
            "image/png": "[encoded data removed]",
            "text/plain": [
              "<Figure size 432x288 with 1 Axes>"
            ]
          },
          "metadata": {
            "tags": []
          }
        }
      ]
    },
    {
      "cell_type": "markdown",
      "metadata": {
        "id": "lT0bMCFxf2EF",
        "colab_type": "text"
      },
      "source": [
        "# Training on Most Optimum Model"
      ]
    },
    {
      "cell_type": "code",
      "metadata": {
        "id": "ijEP6xo-f0Mt",
        "colab_type": "code",
        "colab": {
          "base_uri": "https://localhost:8080/",
          "height": 779
        },
        "outputId": "dd2c2cfd-8004-45b0-e33d-2be6586ecc5a"
      },
      "source": [
        "import statistics as stats\n",
        "\n",
        "accuracies = []\n",
        "\n",
        "learningRate = 0.0001\n",
        "batch = 16\n",
        "\n",
        "\n",
        "X = X_all \n",
        "y = y_all # Create another array\n",
        "\n",
        "train_ratio = 0.8\n",
        "\n",
        "train_index = list(range(0, int(train_ratio*len(X))))\n",
        "val_index = list(range(int(train_ratio*len(X)), len(X)-1))\n",
        "\n",
        "X_train, X_val = X[train_index], X[val_index]\n",
        "y_train, y_val = y[train_index], y[val_index]\n",
        "\n",
        "train_dataset = HeartVesselsDataset(X_train, y_train)\n",
        "trainloader = DataLoader(dataset=train_dataset, batch_size=batch,shuffle=True,num_workers=0)\n",
        "\n",
        "val_dataset = HeartVesselsDataset(X_val, y_val)\n",
        "valloader = DataLoader(dataset=val_dataset, batch_size=batch,shuffle=True,num_workers=0)\n",
        "\n",
        "model = ConvNN()\n",
        "model = model.to(device)\n",
        "\n",
        "t0 = time.time()\n",
        "criterion = nn.NLLLoss()\n",
        "optimiser = optim.Adam(model.parameters(), lr=learningRate, weight_decay=1e-4)\n",
        "\n",
        "EPOCHS = 200# at least 5 for the interpoaltion to work\n",
        "\n",
        "train_acc_list, train_loss_list, val_acc_list, val_loss_list = train_and_validate(trainloader, valloader)\n",
        "\n",
        "t1 = time.time()\n",
        "duration = (t1-t0)/60\n",
        "print(\"\\nTime taken to train for 1 validation set is \" + \"{:.2f}\".format(duration) + \" minutes.\")\n",
        "\n",
        "create_acc_loss_graph(train_acc_list, train_loss_list, val_acc_list, val_loss_list)\n",
        "\n",
        "# To get acc and loss for both val and test\n",
        "# a,b,c,d = averaging(train_acc_total, train_loss_total,  val_acc_total, val_loss_total)\n",
        "# create_acc_loss_graph(a,b,c,d )\n",
        "\n",
        "print(f\"\\nThis model has an accuracy of {round(val_acc_list[-1], 3)} and loss of {round(val_loss_list[-1], 3)}\")      "
      ],
      "execution_count": 85,
      "outputs": [
        {
          "output_type": "stream",
          "text": [
            "100%|██████████| 200/200 [03:09<00:00,  1.06it/s]\n"
          ],
          "name": "stderr"
        },
        {
          "output_type": "stream",
          "text": [
            "\n",
            "Time taken to train for 1 validation set is 3.15 minutes.\n"
          ],
          "name": "stdout"
        },
        {
          "output_type": "display_data",
          "data": {
            "image/png": "[encoded data removed]",
            "text/plain": [
              "<Figure size 576x288 with 1 Axes>"
            ]
          },
          "metadata": {
            "tags": []
          }
        },
        {
          "output_type": "display_data",
          "data": {
            "image/png": "[encoded data removed]",
            "text/plain": [
              "<Figure size 576x288 with 1 Axes>"
            ]
          },
          "metadata": {
            "tags": []
          }
        },
        {
          "output_type": "error",
          "ename": "TypeError",
          "evalue": "ignored",
          "traceback": [
            "\u001b[0;31m---------------------------------------------------------------------------\u001b[0m",
            "\u001b[0;31mTypeError\u001b[0m                                 Traceback (most recent call last)",
            "\u001b[0;32m<ipython-input-85-df74ef12893d>\u001b[0m in \u001b[0;36m<module>\u001b[0;34m()\u001b[0m\n\u001b[1;32m     45\u001b[0m \u001b[0;31m# create_acc_loss_graph(a,b,c,d )\u001b[0m\u001b[0;34m\u001b[0m\u001b[0;34m\u001b[0m\u001b[0;34m\u001b[0m\u001b[0m\n\u001b[1;32m     46\u001b[0m \u001b[0;34m\u001b[0m\u001b[0m\n\u001b[0;32m---> 47\u001b[0;31m \u001b[0mprint\u001b[0m\u001b[0;34m(\u001b[0m\u001b[0;34mf\"\\nThis model has an accuracy of {round(max(val_acc_list[-1]), 3)} and loss of {round(max(val_loss_list[-1]), 3)}\"\u001b[0m\u001b[0;34m)\u001b[0m\u001b[0;34m\u001b[0m\u001b[0;34m\u001b[0m\u001b[0m\n\u001b[0m",
            "\u001b[0;31mTypeError\u001b[0m: 'float' object is not iterable"
          ]
        }
      ]
    },
    {
      "cell_type": "markdown",
      "metadata": {
        "id": "roCsWtjWr3Qb",
        "colab_type": "text"
      },
      "source": [
        "# Test Model on Unseen Data \n",
        "Well technically, `model.eval() `is not learning any new weights so its testing"
      ]
    },
    {
      "cell_type": "code",
      "metadata": {
        "id": "wQXsop42Nztw",
        "colab_type": "code",
        "colab": {}
      },
      "source": [
        "# !rm -r /content/test\n",
        "dest = '/content/test/'\n",
        "X_test, y_test = storeData(dest)\n",
        "\n",
        "test_dataset = HeartVesselsDataset(X_test, y_test)\n",
        "testloader = DataLoader(dataset=test_dataset, batch_size=16,shuffle=True,num_workers=0)"
      ],
      "execution_count": 86,
      "outputs": []
    },
    {
      "cell_type": "code",
      "metadata": {
        "id": "8cAsvvzwOvKq",
        "colab_type": "code",
        "colab": {
          "base_uri": "https://localhost:8080/",
          "height": 561
        },
        "outputId": "672b0ccc-f42c-4532-fdc9-c3ee35b76eb5"
      },
      "source": [
        "vessels_names = ['ldai', 'diags', 'septals', 'lcxi', 'obtmar', 'atrials', 'lcim', 'acutes', 'crux']\n",
        "\n",
        "def test(model):\n",
        "\n",
        "    correct = 0\n",
        "    total = 0\n",
        "    vessels_count = np.zeros((9,), dtype=int)\n",
        "    vessels_correct = np.zeros((9,), dtype=int)\n",
        "    mainBifurcations_count = np.zeros((3,), dtype=int) \n",
        "    mainBifurcations_correct = np.zeros((3,), dtype=int) \n",
        "\n",
        "    predicted_class_array = []\n",
        "    true_class_array = []\n",
        "\n",
        "    with torch.no_grad():\n",
        "\n",
        "        model.eval()\n",
        "\n",
        "        for test_X, test_y in testloader:\n",
        "\n",
        "            test_y_list = test_y.tolist()\n",
        "            # true_class_array.append(test_y)\n",
        "            true_class_array.extend(test_y_list)\n",
        "            test_X, test_y = test_X.to(device), test_y.to(device)\n",
        "\n",
        "            for i in tqdm(range(len(test_X)), position=0, leave=True):\n",
        "                real_class = test_y[i].item()\n",
        "                # print(f\"real class is {real_class}\")\n",
        "\n",
        "                vessels_count[real_class] += 1\n",
        "                # ps = net(test_X[i].view(-1, 1, 20, 20))[0] \n",
        "                geom = test_X[i]\n",
        "                geom = geom.view(-1, 4, 100)\n",
        "                    \n",
        "                logps = model(geom.float())\n",
        "                ps = torch.exp(logps)  #probabilities\n",
        "                predicted_class = torch.argmax(ps).item()\n",
        "                predicted_class_array.append(predicted_class)\n",
        "\n",
        "                if predicted_class is real_class:\n",
        "                    vessels_correct[real_class] += 1\n",
        "                    correct += 1\n",
        "                \n",
        "                else: \n",
        "                    # These numbers follow the sequence in the \"vessels_name\" list\n",
        "                    # print(predicted_class)\n",
        "                    if predicted_class in {0, 1, 2}: \n",
        "                        \n",
        "                        if real_class in {0, 1, 2}:\n",
        "                            # print(f\"predicted {predicted_class}, real {real_class}\")\n",
        "                            mainBifurcations_correct[0] += 1\n",
        "\n",
        "                    elif predicted_class in {3, 4}:\n",
        "                        if real_class in {3, 4}:\n",
        "                            # print(f\"predicted {predicted_class}, real {real_class}\")\n",
        "                            mainBifurcations_correct[1] += 1\n",
        "                    \n",
        "                    elif predicted_class in {7, 8}:\n",
        "                        if real_class in {7, 8}:\n",
        "                            mainBifurcations_correct[2] += 1\n",
        "                    else: \n",
        "                        continue\n",
        "\n",
        "                total += 1\n",
        "\n",
        "    print(\"\\n\\nOverall Accuracy is:\", round(correct/total,3))\n",
        "    print(\"------------------------\")\n",
        "\n",
        "    for i in range(len(vessels_count)):\n",
        "        acc = round(vessels_correct[i]/vessels_count[i],3)\n",
        "        string = f\"Accuracy of {vessels_names[i]} is:\"\n",
        "        print(\"{:<30} {:<5}\".format(string, acc))\n",
        "\n",
        "    print(\"------------------------\")\n",
        "    print(f\"No of samples for each vessel in a batch is {vessels_count}\")\n",
        "\n",
        "    mainBifurcations_count[0] = vessels_count[0] + vessels_count[1] + vessels_count[2] #LCA\n",
        "    mainBifurcations_count[1] = vessels_count[3] + vessels_count[4] #LCX\n",
        "    mainBifurcations_count[2] = vessels_count[7] + vessels_count[8] #RCA \n",
        "\n",
        "    mainBifurcations_correct[0] += vessels_correct[0] + vessels_correct[1] + vessels_correct[2]  #LCA\n",
        "    mainBifurcations_correct[1] += vessels_correct[3] + vessels_correct[4]  #LCX\n",
        "    mainBifurcations_correct[2] += vessels_correct[7] + vessels_correct[8]  #RCA\n",
        "\n",
        "    print(\"------------------------\")\n",
        "    print(f\"Bifurcation LCA has accuracy of {round(mainBifurcations_correct[0]/mainBifurcations_count[0], 3)}\")\n",
        "    print(f\"Bifurcation LCX has accuracy of {round(mainBifurcations_correct[1]/mainBifurcations_count[1], 3)}\")\n",
        "    print(f\"Bifurcation RCA has accuracy of {round(mainBifurcations_correct[2]/mainBifurcations_count[2], 3)}\")\n",
        "\n",
        "    # print(test_y)\n",
        "    return true_class_array, predicted_class_array\n",
        "\n",
        "\n",
        "true_class_array, predicted_class_array = test(model)\n"
      ],
      "execution_count": 87,
      "outputs": [
        {
          "output_type": "stream",
          "text": [
            "100%|██████████| 16/16 [00:00<00:00, 549.62it/s]\n",
            "100%|██████████| 16/16 [00:00<00:00, 534.53it/s]\n",
            "100%|██████████| 16/16 [00:00<00:00, 559.85it/s]\n",
            "100%|██████████| 16/16 [00:00<00:00, 649.96it/s]\n",
            "100%|██████████| 16/16 [00:00<00:00, 590.76it/s]\n",
            "100%|██████████| 16/16 [00:00<00:00, 606.68it/s]\n",
            "100%|██████████| 16/16 [00:00<00:00, 552.45it/s]\n",
            "100%|██████████| 16/16 [00:00<00:00, 552.32it/s]\n",
            "100%|██████████| 16/16 [00:00<00:00, 593.69it/s]\n",
            "100%|██████████| 16/16 [00:00<00:00, 583.99it/s]\n",
            "100%|██████████| 16/16 [00:00<00:00, 583.62it/s]\n",
            "100%|██████████| 16/16 [00:00<00:00, 568.14it/s]\n",
            "100%|██████████| 3/3 [00:00<00:00, 401.71it/s]"
          ],
          "name": "stderr"
        },
        {
          "output_type": "stream",
          "text": [
            "\n",
            "\n",
            "Overall Accuracy is: 0.798\n",
            "------------------------\n",
            "Accuracy of ldai is:           0.788\n",
            "Accuracy of diags is:          0.909\n",
            "Accuracy of septals is:        0.5  \n",
            "Accuracy of lcxi is:           0.645\n",
            "Accuracy of obtmar is:         0.789\n",
            "Accuracy of atrials is:        0.0  \n",
            "Accuracy of lcim is:           0.333\n",
            "Accuracy of acutes is:         0.867\n",
            "Accuracy of crux is:           0.92 \n",
            "------------------------\n",
            "No of samples for each vessel in a batch is [33 33  2 31 19  3  9 15 50]\n",
            "------------------------\n",
            "Bifurcation LCA has accuracy of 0.971\n",
            "Bifurcation LCX has accuracy of 0.94\n",
            "Bifurcation RCA has accuracy of 0.985\n"
          ],
          "name": "stdout"
        },
        {
          "output_type": "stream",
          "text": [
            "\n"
          ],
          "name": "stderr"
        }
      ]
    },
    {
      "cell_type": "markdown",
      "metadata": {
        "id": "pxQjuU2CYx5f",
        "colab_type": "text"
      },
      "source": [
        "# Analysis "
      ]
    },
    {
      "cell_type": "markdown",
      "metadata": {
        "id": "iY5iEU8f69aZ",
        "colab_type": "text"
      },
      "source": [
        "## Confusion Matrix"
      ]
    },
    {
      "cell_type": "code",
      "metadata": {
        "id": "cqnJMlKtUlfs",
        "colab_type": "code",
        "colab": {
          "base_uri": "https://localhost:8080/",
          "height": 232
        },
        "outputId": "06d3e96e-7a3e-4f80-fd55-b66a75767938"
      },
      "source": [
        "from sklearn import metrics\n",
        "\n",
        "# True values\n",
        "y_true = true_class_array\n",
        "# Predicted values\n",
        "y_pred = predicted_class_array\n",
        "\n",
        "# Print the confusion matrix\n",
        "print(metrics.confusion_matrix(y_true, y_pred))\n"
      ],
      "execution_count": 1,
      "outputs": [
        {
          "output_type": "error",
          "ename": "NameError",
          "evalue": "ignored",
          "traceback": [
            "\u001b[0;31m---------------------------------------------------------------------------\u001b[0m",
            "\u001b[0;31mNameError\u001b[0m                                 Traceback (most recent call last)",
            "\u001b[0;32m<ipython-input-1-d871dce23393>\u001b[0m in \u001b[0;36m<module>\u001b[0;34m()\u001b[0m\n\u001b[1;32m      2\u001b[0m \u001b[0;34m\u001b[0m\u001b[0m\n\u001b[1;32m      3\u001b[0m \u001b[0;31m# True values\u001b[0m\u001b[0;34m\u001b[0m\u001b[0;34m\u001b[0m\u001b[0;34m\u001b[0m\u001b[0m\n\u001b[0;32m----> 4\u001b[0;31m \u001b[0my_true\u001b[0m \u001b[0;34m=\u001b[0m \u001b[0mtrue_class_array\u001b[0m\u001b[0;34m\u001b[0m\u001b[0;34m\u001b[0m\u001b[0m\n\u001b[0m\u001b[1;32m      5\u001b[0m \u001b[0;31m# Predicted values\u001b[0m\u001b[0;34m\u001b[0m\u001b[0;34m\u001b[0m\u001b[0;34m\u001b[0m\u001b[0m\n\u001b[1;32m      6\u001b[0m \u001b[0my_pred\u001b[0m \u001b[0;34m=\u001b[0m \u001b[0mpredicted_class_array\u001b[0m\u001b[0;34m\u001b[0m\u001b[0;34m\u001b[0m\u001b[0m\n",
            "\u001b[0;31mNameError\u001b[0m: name 'true_class_array' is not defined"
          ]
        }
      ]
    },
    {
      "cell_type": "code",
      "metadata": {
        "id": "dEAMgvzs_eCH",
        "colab_type": "code",
        "colab": {
          "base_uri": "https://localhost:8080/"
        },
        "outputId": "b47282ef-c3f7-4fd3-c478-b6a2ab201f97"
      },
      "source": [
        "# Print the precision and recall, among other metrics\n",
        "print(metrics.classification_report(y_true, y_pred, digits=3))"
      ],
      "execution_count": 83,
      "outputs": [
        {
          "output_type": "stream",
          "text": [
            "              precision    recall  f1-score   support\n",
            "\n",
            "           0      0.955     0.636     0.764        33\n",
            "           1      0.579     1.000     0.733        33\n",
            "           2      0.000     0.000     0.000         2\n",
            "           3      0.622     0.903     0.737        31\n",
            "           4      0.429     0.158     0.231        19\n",
            "           5      0.000     0.000     0.000         3\n",
            "           6      0.000     0.000     0.000         9\n",
            "           7      0.789     1.000     0.882        15\n",
            "           8      1.000     0.900     0.947        50\n",
            "\n",
            "    accuracy                          0.744       195\n",
            "   macro avg      0.486     0.511     0.477       195\n",
            "weighted avg      0.717     0.744     0.704       195\n",
            "\n"
          ],
          "name": "stdout"
        },
        {
          "output_type": "stream",
          "text": [
            "/usr/local/lib/python3.6/dist-packages/sklearn/metrics/_classification.py:1272: UndefinedMetricWarning: Precision and F-score are ill-defined and being set to 0.0 in labels with no predicted samples. Use `zero_division` parameter to control this behavior.\n",
            "  _warn_prf(average, modifier, msg_start, len(result))\n"
          ],
          "name": "stderr"
        }
      ]
    },
    {
      "cell_type": "markdown",
      "metadata": {
        "id": "F09_QQ7r_qyw",
        "colab_type": "text"
      },
      "source": [
        "# Appendix A - Displays Model Information"
      ]
    },
    {
      "cell_type": "code",
      "metadata": {
        "id": "-AEnfmgy3qVL",
        "colab_type": "code",
        "colab": {
          "base_uri": "https://localhost:8080/",
          "height": 782
        },
        "outputId": "e6dbcc3b-9a7d-46cf-e06e-e4eb4b998cff"
      },
      "source": [
        "from torchvision import models\n",
        "model = models.vgg16()\n",
        "print(model)"
      ],
      "execution_count": 49,
      "outputs": [
        {
          "output_type": "stream",
          "text": [
            "VGG(\n",
            "  (features): Sequential(\n",
            "    (0): Conv2d(3, 64, kernel_size=(3, 3), stride=(1, 1), padding=(1, 1))\n",
            "    (1): ReLU(inplace=True)\n",
            "    (2): Conv2d(64, 64, kernel_size=(3, 3), stride=(1, 1), padding=(1, 1))\n",
            "    (3): ReLU(inplace=True)\n",
            "    (4): MaxPool2d(kernel_size=2, stride=2, padding=0, dilation=1, ceil_mode=False)\n",
            "    (5): Conv2d(64, 128, kernel_size=(3, 3), stride=(1, 1), padding=(1, 1))\n",
            "    (6): ReLU(inplace=True)\n",
            "    (7): Conv2d(128, 128, kernel_size=(3, 3), stride=(1, 1), padding=(1, 1))\n",
            "    (8): ReLU(inplace=True)\n",
            "    (9): MaxPool2d(kernel_size=2, stride=2, padding=0, dilation=1, ceil_mode=False)\n",
            "    (10): Conv2d(128, 256, kernel_size=(3, 3), stride=(1, 1), padding=(1, 1))\n",
            "    (11): ReLU(inplace=True)\n",
            "    (12): Conv2d(256, 256, kernel_size=(3, 3), stride=(1, 1), padding=(1, 1))\n",
            "    (13): ReLU(inplace=True)\n",
            "    (14): Conv2d(256, 256, kernel_size=(3, 3), stride=(1, 1), padding=(1, 1))\n",
            "    (15): ReLU(inplace=True)\n",
            "    (16): MaxPool2d(kernel_size=2, stride=2, padding=0, dilation=1, ceil_mode=False)\n",
            "    (17): Conv2d(256, 512, kernel_size=(3, 3), stride=(1, 1), padding=(1, 1))\n",
            "    (18): ReLU(inplace=True)\n",
            "    (19): Conv2d(512, 512, kernel_size=(3, 3), stride=(1, 1), padding=(1, 1))\n",
            "    (20): ReLU(inplace=True)\n",
            "    (21): Conv2d(512, 512, kernel_size=(3, 3), stride=(1, 1), padding=(1, 1))\n",
            "    (22): ReLU(inplace=True)\n",
            "    (23): MaxPool2d(kernel_size=2, stride=2, padding=0, dilation=1, ceil_mode=False)\n",
            "    (24): Conv2d(512, 512, kernel_size=(3, 3), stride=(1, 1), padding=(1, 1))\n",
            "    (25): ReLU(inplace=True)\n",
            "    (26): Conv2d(512, 512, kernel_size=(3, 3), stride=(1, 1), padding=(1, 1))\n",
            "    (27): ReLU(inplace=True)\n",
            "    (28): Conv2d(512, 512, kernel_size=(3, 3), stride=(1, 1), padding=(1, 1))\n",
            "    (29): ReLU(inplace=True)\n",
            "    (30): MaxPool2d(kernel_size=2, stride=2, padding=0, dilation=1, ceil_mode=False)\n",
            "  )\n",
            "  (avgpool): AdaptiveAvgPool2d(output_size=(7, 7))\n",
            "  (classifier): Sequential(\n",
            "    (0): Linear(in_features=25088, out_features=4096, bias=True)\n",
            "    (1): ReLU(inplace=True)\n",
            "    (2): Dropout(p=0.5, inplace=False)\n",
            "    (3): Linear(in_features=4096, out_features=4096, bias=True)\n",
            "    (4): ReLU(inplace=True)\n",
            "    (5): Dropout(p=0.5, inplace=False)\n",
            "    (6): Linear(in_features=4096, out_features=1000, bias=True)\n",
            "  )\n",
            ")\n"
          ],
          "name": "stdout"
        }
      ]
    },
    {
      "cell_type": "code",
      "metadata": {
        "id": "TvErnUHdHhYn",
        "colab_type": "code",
        "colab": {
          "base_uri": "https://localhost:8080/",
          "height": 578
        },
        "outputId": "a95e0d5d-d03c-4ad3-9f1e-5f29dd400f02"
      },
      "source": [
        "# Prints the model's state for each layer\n",
        "print(\"Model's state_dict:\")\n",
        "for param_tensor in model.state_dict():\n",
        "    print(param_tensor, \"\\t\", model.state_dict()[param_tensor].size())\n",
        "\n",
        "# Print the weights of the model - A LOT OF MATRICES\n",
        "# print(\"Optimizer's state_dict:\")\n",
        "# for var_name in optimiser.state_dict():\n",
        "#     print(var_name, \"\\t\", optimiser.state_dict()[var_name])"
      ],
      "execution_count": 50,
      "outputs": [
        {
          "output_type": "stream",
          "text": [
            "Model's state_dict:\n",
            "features.0.weight \t torch.Size([64, 3, 3, 3])\n",
            "features.0.bias \t torch.Size([64])\n",
            "features.2.weight \t torch.Size([64, 64, 3, 3])\n",
            "features.2.bias \t torch.Size([64])\n",
            "features.5.weight \t torch.Size([128, 64, 3, 3])\n",
            "features.5.bias \t torch.Size([128])\n",
            "features.7.weight \t torch.Size([128, 128, 3, 3])\n",
            "features.7.bias \t torch.Size([128])\n",
            "features.10.weight \t torch.Size([256, 128, 3, 3])\n",
            "features.10.bias \t torch.Size([256])\n",
            "features.12.weight \t torch.Size([256, 256, 3, 3])\n",
            "features.12.bias \t torch.Size([256])\n",
            "features.14.weight \t torch.Size([256, 256, 3, 3])\n",
            "features.14.bias \t torch.Size([256])\n",
            "features.17.weight \t torch.Size([512, 256, 3, 3])\n",
            "features.17.bias \t torch.Size([512])\n",
            "features.19.weight \t torch.Size([512, 512, 3, 3])\n",
            "features.19.bias \t torch.Size([512])\n",
            "features.21.weight \t torch.Size([512, 512, 3, 3])\n",
            "features.21.bias \t torch.Size([512])\n",
            "features.24.weight \t torch.Size([512, 512, 3, 3])\n",
            "features.24.bias \t torch.Size([512])\n",
            "features.26.weight \t torch.Size([512, 512, 3, 3])\n",
            "features.26.bias \t torch.Size([512])\n",
            "features.28.weight \t torch.Size([512, 512, 3, 3])\n",
            "features.28.bias \t torch.Size([512])\n",
            "classifier.0.weight \t torch.Size([4096, 25088])\n",
            "classifier.0.bias \t torch.Size([4096])\n",
            "classifier.3.weight \t torch.Size([4096, 4096])\n",
            "classifier.3.bias \t torch.Size([4096])\n",
            "classifier.6.weight \t torch.Size([1000, 4096])\n",
            "classifier.6.bias \t torch.Size([1000])\n"
          ],
          "name": "stdout"
        }
      ]
    },
    {
      "cell_type": "code",
      "metadata": {
        "id": "6L46iOl4dkub",
        "colab_type": "code",
        "colab": {
          "base_uri": "https://localhost:8080/",
          "height": 34
        },
        "outputId": "5bfb0f73-453a-4adb-954a-53296ccba543"
      },
      "source": [
        "\n",
        "total_params = sum(p.numel() for p in model.parameters())\n",
        "\n",
        "trainable_params = sum(p.numel() for p in model.parameters() if p.requires_grad)\n",
        "\n",
        "print(f\"The total params are {total_params} and the trainable one are {trainable_params}\")\n"
      ],
      "execution_count": 51,
      "outputs": [
        {
          "output_type": "stream",
          "text": [
            "The total params are 138357544 and the trainable one are 138357544\n"
          ],
          "name": "stdout"
        }
      ]
    }
  ]
}