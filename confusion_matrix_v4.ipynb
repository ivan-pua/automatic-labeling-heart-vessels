{
  "nbformat": 4,
  "nbformat_minor": 0,
  "metadata": {
    "colab": {
      "name": "confusion-matrix-v4.ipynb",
      "provenance": [],
      "collapsed_sections": [
        "7P3QFUIjlhP1"
      ],
      "toc_visible": true,
      "authorship_tag": "ABX9TyOdWeA35mLgP/4fdQtjVLC+",
      "include_colab_link": true
    },
    "kernelspec": {
      "name": "python3",
      "display_name": "Python 3"
    },
    "accelerator": "GPU"
  },
  "cells": [
    {
      "cell_type": "markdown",
      "metadata": {
        "id": "view-in-github",
        "colab_type": "text"
      },
      "source": [
        "<a href=\"https://colab.research.google.com/github/puaqieshang/automatic-labeling-heart-vessels/blob/master/confusion_matrix_v4.ipynb\" target=\"_parent\"><img src=\"https://colab.research.google.com/assets/colab-badge.svg\" alt=\"Open In Colab\"/></a>"
      ]
    },
    {
      "cell_type": "markdown",
      "metadata": {
        "id": "0q3bQztjs6pW",
        "colab_type": "text"
      },
      "source": [
        "# Update from Previous Version\n",
        "\n",
        "* Added Confusion Matrix"
      ]
    },
    {
      "cell_type": "code",
      "metadata": {
        "id": "4B4g74MZc0dL",
        "colab_type": "code",
        "outputId": "2caff242-71f1-4307-aad5-9655b0b27db0",
        "colab": {
          "base_uri": "https://localhost:8080/",
          "height": 598
        }
      },
      "source": [
        "# Load the Drive helper and mount\n",
        "from google.colab import drive\n",
        "drive.mount('/content/drive')\n",
        "!ls \"/content/drive/My Drive\"\n",
        "# !unzip -uq \"/content/drive/My Drive/ldai-load.zip\"\n",
        "!unzip -uq \"/content/drive/My Drive/processed_v3.zip\""
      ],
      "execution_count": 0,
      "outputs": [
        {
          "output_type": "stream",
          "text": [
            "Go to this URL in a browser: https://accounts.google.com/o/oauth2/auth?client_id=947318989803-6bn6qk8qdgf4n4g3pfee6491hc0brc4i.apps.googleusercontent.com&redirect_uri=urn%3aietf%3awg%3aoauth%3a2.0%3aoob&response_type=code&scope=email%20https%3a%2f%2fwww.googleapis.com%2fauth%2fdocs.test%20https%3a%2f%2fwww.googleapis.com%2fauth%2fdrive%20https%3a%2f%2fwww.googleapis.com%2fauth%2fdrive.photos.readonly%20https%3a%2f%2fwww.googleapis.com%2fauth%2fpeopleapi.readonly\n",
            "\n",
            "Enter your authorization code:\n",
            "··········\n",
            "Mounted at /content/drive\n",
            "'2020 Calendar.gsheet'\n",
            " 3674B8D3-35D3-4B3F-9781-AA94068C55EF.jpeg\n",
            "'Academic Results.gsheet'\n",
            " assign1_part1.pl\n",
            " assign1_part2.pdf\n",
            "'Colab Notebooks'\n",
            "'Energy Density - Kensington Campus UPDATED FOR 2020.xlsm'\n",
            "'Energy Density - Kensington Campus vPractice.xlsm'\n",
            " IMG_7448.MOV\n",
            "'Industrial Training'\n",
            "'Introduction to Java Programming, Brief Version, 11th Global Edition.pdf'\n",
            "\"Ivan Pua's Past Projects\"\n",
            " ldai-load-train.zip\n",
            " ldai-load.zip\n",
            "'MECH3110 Best Group'\n",
            "'MECH 3110 - Weld & Bolt'\n",
            " MECH4880\n",
            "'MECH4880 Past Year Solutions'\n",
            "'MMAN 2100 - GROUP 888'\n",
            "'NABERS Energy Rating.gdoc'\n",
            " PetImages.zip\n",
            " processed_v3.zip\n",
            "'Resume - Ivan Pua (1).pdf'\n",
            "'Resume - Ivan Pua.pdf'\n",
            "'Sunswift - Shell Design'\n",
            " ultrasound\n",
            " Workout.gsheet\n",
            "'Work Timesheet - UNSW.gsheet'\n"
          ],
          "name": "stdout"
        }
      ]
    },
    {
      "cell_type": "code",
      "metadata": {
        "id": "ogFQbGjAd5_L",
        "colab_type": "code",
        "outputId": "a4b89b69-9b2c-46d1-ed35-1274496088b7",
        "colab": {
          "base_uri": "https://localhost:8080/",
          "height": 51
        }
      },
      "source": [
        "import os\n",
        "import glob\n",
        "import time\n",
        "import helper\n",
        "import numpy as np\n",
        "from tqdm import tqdm\n",
        "import matplotlib.pyplot as plt\n",
        "from collections import defaultdict\n",
        "\n",
        "import torch\n",
        "from torch import tensor, nn, optim\n",
        "import torch.nn.functional as F\n",
        "from torch.utils.data import Dataset, DataLoader\n",
        "\n",
        "if torch.cuda.is_available():\n",
        "    device = torch.device(\"cuda:0\")  # you can continue going on here, like cuda:1 cuda:2....etc. \n",
        "    print(\"\\nRunning on the GPU\")\n",
        "else:\n",
        "    device = torch.device(\"cpu\")\n",
        "    print(\"\\nRunning on the CPU\")"
      ],
      "execution_count": 0,
      "outputs": [
        {
          "output_type": "stream",
          "text": [
            "\n",
            "Running on the GPU\n"
          ],
          "name": "stdout"
        }
      ]
    },
    {
      "cell_type": "markdown",
      "metadata": {
        "id": "BsXDGkEGj5wt",
        "colab_type": "text"
      },
      "source": [
        "# Develop Custom Dataset"
      ]
    },
    {
      "cell_type": "code",
      "metadata": {
        "id": "-now3mxWhlcL",
        "colab_type": "code",
        "outputId": "672a091d-6606-4107-a80f-b74f250b5145",
        "colab": {
          "base_uri": "https://localhost:8080/",
          "height": 374
        }
      },
      "source": [
        "class HeartVesselsDataset(Dataset):\n",
        "\n",
        "    # Initialize your data, download, etc.\n",
        "    def __init__(self, dest, folders):\n",
        "\n",
        "        print(f\"Making {dest} Data ...\")\n",
        "        data = defaultdict(dict)\n",
        "\n",
        "        idCount = 0\n",
        "        for folder in folders:\n",
        "\n",
        "            if (folder == \".DS_Store\"):\n",
        "                continue\n",
        "            \n",
        "            file_des = f\"{dest}/{folder}\"\n",
        "            all_files = os.listdir(file_des)\n",
        "            # print(f\"Folder {folder} containes {all_files}\")\n",
        "\n",
        "            os.chdir(file_des)\n",
        "            for f in glob.glob(\"*.txt\"):\n",
        "                \n",
        "                geometry = np.genfromtxt(f)\n",
        "                # print(f\"The file {f} has {geometry[0]}\")              \n",
        "                \n",
        "                data[str(idCount)]['x'] = geometry\n",
        "                data[str(idCount)]['y'] = folder\n",
        "\n",
        "                idCount = idCount +1\n",
        "\n",
        "            print(len(data))\n",
        "            # print(f\"AHG0003-3.txt has elements {data['AHG0003-3.txt']}\")\n",
        "            # print(data[f])\n",
        "        \n",
        "        self.len = len(data)\n",
        "        self.data = data\n",
        "        # print(f\"1 has elements {data['1']}\")\n",
        "\n",
        "        # self.x_data = data # Access dict\n",
        "        # self.y_data = data # Access dict\n",
        "\n",
        "    # USE DICTIONARY\n",
        "    def __getitem__(self, index):\n",
        "        # print(index)\n",
        "        geometry = self.data[str(index)]['x']\n",
        "        label = self.data[str(index)]['y'] # Its a number\n",
        "        # print(label)\n",
        "        \n",
        "        return geometry, tensor(int(label))\n",
        "\n",
        "    def __len__(self):\n",
        "        return len(self.data)\n",
        "\n",
        "\n",
        "train_des = '/content/processed_v3/train'\n",
        "train_folders = os.listdir(train_des)\n",
        "train_dataset = HeartVesselsDataset(train_des, train_folders)\n",
        "trainloader = DataLoader(dataset=train_dataset, batch_size=256,shuffle=True,num_workers=0)\n",
        "\n",
        "test_des = '/content/processed_v3/val' # Use validation data because of split package\n",
        "test_folders = os.listdir(test_des)\n",
        "test_dataset = HeartVesselsDataset(test_des, test_folders)\n",
        "testloader = DataLoader(dataset=test_dataset, batch_size=256,shuffle=True,num_workers=0)\n",
        "\n",
        "print(f\"Train has {len(trainloader)} data and Test has {len(testloader)} data\")\n"
      ],
      "execution_count": 0,
      "outputs": [
        {
          "output_type": "stream",
          "text": [
            "Making /content/processed_v3/train Data ...\n",
            "297\n",
            "586\n",
            "790\n",
            "862\n",
            "871\n",
            "1159\n",
            "1197\n",
            "1682\n",
            "1907\n",
            "Making /content/processed_v3/val Data ...\n",
            "33\n",
            "65\n",
            "87\n",
            "95\n",
            "96\n",
            "128\n",
            "132\n",
            "185\n",
            "210\n",
            "Train has 8 data and Test has 1 data\n"
          ],
          "name": "stdout"
        }
      ]
    },
    {
      "cell_type": "code",
      "metadata": {
        "id": "jDOQJS0Wm29G",
        "colab_type": "code",
        "outputId": "ad24ee12-8aee-48f3-cdb7-a4098a60ebc3",
        "colab": {
          "base_uri": "https://localhost:8080/",
          "height": 333
        }
      },
      "source": [
        "'''\n",
        "Test for resizing - Perhaps we can try different sizes?\n",
        "'''\n",
        "\n",
        "# print(trainloader)\n",
        "geometries, label = next(iter(trainloader))\n",
        "# print(geo)\n",
        "print(f\"Geo is of type {geometries.type}\")\n",
        "print(f\"Label is of type {label.type}\")\n",
        "print(geometries.shape)\n",
        "\n",
        "plt.imshow(geometries[0].view(20, 20))\n",
        "plt.show()\n",
        "print(label[0])"
      ],
      "execution_count": 0,
      "outputs": [
        {
          "output_type": "stream",
          "text": [
            "Geo is of type <built-in method type of Tensor object at 0x7f20494ab288>\n",
            "Label is of type <built-in method type of Tensor object at 0x7f20494a6240>\n",
            "torch.Size([256, 100, 4])\n"
          ],
          "name": "stdout"
        },
        {
          "output_type": "display_data",
          "data": {
            "image/png": "[encoded data removed]",
            "text/plain": [
              "<Figure size 432x288 with 1 Axes>"
            ]
          },
          "metadata": {
            "tags": [],
            "needs_background": "light"
          }
        },
        {
          "output_type": "stream",
          "text": [
            "tensor(1)\n"
          ],
          "name": "stdout"
        }
      ]
    },
    {
      "cell_type": "markdown",
      "metadata": {
        "id": "xv9OG9k3kAjA",
        "colab_type": "text"
      },
      "source": [
        "# Build Neural Network\n",
        "\n",
        "Define your network architecture here\n",
        "\n"
      ]
    },
    {
      "cell_type": "code",
      "metadata": {
        "id": "eSpsZlv2B9be",
        "colab_type": "code",
        "colab": {}
      },
      "source": [
        "# Start Timer\n",
        "t0 = time.time()\n",
        "\n",
        "model = nn.Sequential(nn.Linear(400,128), nn.ReLU(), nn.Linear(128,64), \n",
        "                      nn.ReLU(), nn.Linear(64,9), nn.LogSoftmax(dim=1))\n",
        "model = model.to(device)"
      ],
      "execution_count": 0,
      "outputs": []
    },
    {
      "cell_type": "code",
      "metadata": {
        "id": "3z5km_pmI0vE",
        "colab_type": "code",
        "colab": {}
      },
      "source": [
        "# TODO: Create the network, define the criterion and optimizer\n",
        "criterion = nn.NLLLoss()\n",
        "optimiser = optim.SGD(model.parameters(), lr = 0.001)\n",
        "# optimizer = optim.Adam(model.parameters(), lr=0.003)\n",
        "# optimizer = optim.Adam(model.parameters(), lr=0.001) # Can change learning rate\n",
        "# loss_function = nn.MSELoss()"
      ],
      "execution_count": 0,
      "outputs": []
    },
    {
      "cell_type": "markdown",
      "metadata": {
        "id": "5c8rxsQup9Ts",
        "colab_type": "text"
      },
      "source": [
        "#Analysis"
      ]
    },
    {
      "cell_type": "code",
      "metadata": {
        "id": "sJa_mX5BEoV0",
        "colab_type": "code",
        "colab": {}
      },
      "source": [
        "model = model.to(device)\n",
        "criterion = nn.NLLLoss()\n",
        "optimiser = optim.SGD(model.parameters(), lr = 0.001)"
      ],
      "execution_count": 0,
      "outputs": []
    },
    {
      "cell_type": "code",
      "metadata": {
        "id": "mlPEe_rknZYi",
        "colab_type": "code",
        "colab": {}
      },
      "source": [
        "def accuracy(X, y):\n",
        "    \n",
        "    correct = 0\n",
        "    total = 0\n",
        "    vessels_count = np.zeros((9,), dtype=int)\n",
        "    vessels_correct = np.zeros((9,), dtype=int)\n",
        "\n",
        "    for i in (range(len(X))):\n",
        "        real_class = y[i]\n",
        "        # print(f\"real class is {real_class}\")\n",
        "\n",
        "        vessels_count[real_class] += 1\n",
        "        # ps = net(test_X[i].view(-1, 1, 20, 20))[0] \n",
        "        geom = X[i]\n",
        "        geom = geom.resize_(1, 400)\n",
        "            \n",
        "        logps = model(geom.float()) # its in log bc of logSoftmax...\n",
        "        ps = torch.exp(logps)  #.... that's why the probabilities need to be exp()\n",
        "        predicted_class = torch.argmax(ps)\n",
        "\n",
        "        if predicted_class == real_class:\n",
        "            vessels_correct[real_class] += 1\n",
        "            correct += 1\n",
        "\n",
        "        total += 1\n",
        "\n",
        "    return correct, total\n",
        "\n",
        "def fwd_pass(loader, needsTraining): # for both train and test cases\n",
        "    running_loss = 0\n",
        "    sumCorrect = 0\n",
        "    sumTotal = 0       \n",
        "    for train_X, train_y in loader:\n",
        "        # print(train_X.shape)\n",
        "        train_X = train_X.view(train_X.shape[0], -1)\n",
        "        train_X, train_y = train_X.to(device), train_y.to(device)\n",
        "        \n",
        "        if needsTraining is True:\n",
        "            optimiser.zero_grad()\n",
        "        \n",
        "        output = model(train_X.float())\n",
        "        loss = criterion(output,train_y)\n",
        "\n",
        "        if needsTraining is True:\n",
        "            loss.backward()\n",
        "            optimiser.step()\n",
        "        \n",
        "        running_loss += loss.item()\n",
        "        \n",
        "        # train_loss.append(l)  \n",
        "\n",
        "        # Accuracy\n",
        "        correct, total = accuracy(train_X, train_y)\n",
        "        sumCorrect += correct\n",
        "        sumTotal += total\n",
        "        # print(sumTotal)     \n",
        "\n",
        "    l = running_loss/len(loader) #average loss for whole loader dataset\n",
        "    acc = sumCorrect/sumTotal\n",
        "\n",
        "    return acc, l\n",
        "\n",
        "train_acc_list, train_loss_list, test_acc_list, test_loss_list = [], [],[],[]\n",
        "\n",
        "# ROUNDS = 100\n",
        "EPOCHS = 100\n",
        "def analysis():\n",
        "\n",
        "    for e in (range(EPOCHS)):\n",
        "\n",
        "        train_acc, train_loss = fwd_pass(trainloader, needsTraining=True)\n",
        "        train_acc_list.append(train_acc)\n",
        "        train_loss_list.append(train_loss)\n",
        "\n",
        "        with torch.no_grad():\n",
        "            test_acc, test_loss = fwd_pass(testloader, needsTraining=False)\n",
        "\n",
        "        test_acc_list.append(test_acc)\n",
        "        test_loss_list.append(test_loss)\n",
        "\n",
        "        print(f\"Epoch {e} has test accuracy of {round(test_acc, 3)} and loss of {round(test_loss,3)}\")\n",
        "    \n",
        "    # print(len(train_acc_list))\n",
        "\n",
        "analysis()\n",
        "\n"
      ],
      "execution_count": 0,
      "outputs": []
    },
    {
      "cell_type": "code",
      "metadata": {
        "id": "wZCaUppuB2Aj",
        "colab_type": "code",
        "outputId": "02b4f03a-a2cd-491b-d02b-4388f2675972",
        "colab": {
          "base_uri": "https://localhost:8080/",
          "height": 547
        }
      },
      "source": [
        "import matplotlib.pyplot as plt\n",
        "from matplotlib import style\n",
        "import pandas as pd\n",
        "\n",
        "style.use(\"ggplot\")\n",
        "\n",
        "def create_acc_loss_graph():\n",
        "    epoch = list(range(0, EPOCHS, 1))\n",
        "\n",
        "    d = {'epochs': epoch,\n",
        "        'train_acc': train_acc_list,\n",
        "        'train_loss': train_loss_list,\n",
        "        'test_acc': test_acc_list, \n",
        "        'test_loss': test_loss_list}\n",
        "\n",
        "    df = pd.DataFrame(d)\n",
        "\n",
        "    df['train_acc_avg'] = df['train_acc'].ewm(alpha=.02).mean()  # exponential weighted moving average\n",
        "    df['test_acc_avg'] = df['test_acc'].ewm(alpha=.02).mean()\n",
        "    df['train_loss_avg'] = df['train_loss'].ewm(alpha=.02).mean()\n",
        "    df['test_loss_avg'] = df['test_loss'].ewm(alpha=.02).mean()\n",
        "\n",
        "\n",
        "\n",
        "    # Then plot using pandas:\n",
        "    df.plot(x='epochs', y=['train_acc_avg', 'test_acc_avg'], figsize=(8,4))\n",
        "    plt.ylabel(\"Accuracy\")\n",
        "    df.plot(x='epochs', y=['train_loss_avg', 'test_loss_avg'], figsize=(8,4))\n",
        "    plt.ylabel(\"Loss\")\n",
        "\n",
        "    plt.show()\n",
        "\n",
        "create_acc_loss_graph()"
      ],
      "execution_count": 0,
      "outputs": [
        {
          "output_type": "display_data",
          "data": {
            "image/png": "[encoded data removed]",
            "text/plain": [
              "<Figure size 576x288 with 1 Axes>"
            ]
          },
          "metadata": {
            "tags": []
          }
        },
        {
          "output_type": "display_data",
          "data": {
            "image/png": "[encoded data removed]",
            "text/plain": [
              "<Figure size 576x288 with 1 Axes>"
            ]
          },
          "metadata": {
            "tags": []
          }
        }
      ]
    },
    {
      "cell_type": "code",
      "metadata": {
        "id": "uI4A-ze4Jvec",
        "colab_type": "code",
        "outputId": "65e88562-63d4-4f3e-bbb9-1c779c305b6b",
        "colab": {
          "base_uri": "https://localhost:8080/",
          "height": 34
        }
      },
      "source": [
        "t1 = time.time()\n",
        "print(f\"Time taken is {(t1-t0)/60} minutes.\")"
      ],
      "execution_count": 0,
      "outputs": [
        {
          "output_type": "stream",
          "text": [
            "Time taken is 9.000318201382955 minutes.\n"
          ],
          "name": "stdout"
        }
      ]
    },
    {
      "cell_type": "markdown",
      "metadata": {
        "id": "7P3QFUIjlhP1",
        "colab_type": "text"
      },
      "source": [
        "# Train Neural Network"
      ]
    },
    {
      "cell_type": "code",
      "metadata": {
        "id": "irmE8NrNI3FR",
        "colab_type": "code",
        "outputId": "4b0c9871-22bc-4b2f-860a-7a80bebbf97f",
        "colab": {
          "base_uri": "https://localhost:8080/",
          "height": 544
        }
      },
      "source": [
        "# TODO: Train the network here\n",
        "train_loss =[]\n",
        "def train(model):\n",
        "    \n",
        "    epochs = 30\n",
        "    for e in range(epochs):\n",
        "        \n",
        "        running_loss = 0\n",
        "        for train_X, train_y in trainloader:\n",
        "            # print(train_X.shape)\n",
        "            train_X = train_X.view(train_X.shape[0], -1)\n",
        "            train_X, train_y = train_X.to(device), train_y.to(device)\n",
        "            \n",
        "            optimiser.zero_grad()\n",
        "            \n",
        "            output = model(train_X.float())\n",
        "            loss = criterion(output,train_y)\n",
        "            loss.backward()\n",
        "            optimiser.step()\n",
        "            \n",
        "            running_loss += loss.item()\n",
        "        else: \n",
        "            l = running_loss/len(trainloader)\n",
        "            print(f\"Epoch {e}: Training loss: {l}\")\n",
        "            train_loss.append(l)      \n",
        "        \n",
        "    \n",
        "    print(len(train_loss))\n",
        "\n",
        "train(model)"
      ],
      "execution_count": 0,
      "outputs": [
        {
          "output_type": "stream",
          "text": [
            "Epoch 0: Training loss: 7.350645184516907\n",
            "Epoch 1: Training loss: 1.1180388629436493\n",
            "Epoch 2: Training loss: 1.2025349959731102\n",
            "Epoch 3: Training loss: 0.9091168344020844\n",
            "Epoch 4: Training loss: 0.8976485282182693\n",
            "Epoch 5: Training loss: 0.849799357354641\n",
            "Epoch 6: Training loss: 0.8199204429984093\n",
            "Epoch 7: Training loss: 0.821830153465271\n",
            "Epoch 8: Training loss: 0.7785382345318794\n",
            "Epoch 9: Training loss: 0.7690583094954491\n",
            "Epoch 10: Training loss: 0.7569909691810608\n",
            "Epoch 11: Training loss: 0.7578854709863663\n",
            "Epoch 12: Training loss: 0.7926433980464935\n",
            "Epoch 13: Training loss: 0.7321109920740128\n",
            "Epoch 14: Training loss: 0.7222282961010933\n",
            "Epoch 15: Training loss: 0.7283053547143936\n",
            "Epoch 16: Training loss: 0.7250174731016159\n",
            "Epoch 17: Training loss: 0.7135413065552711\n",
            "Epoch 18: Training loss: 0.6919409185647964\n",
            "Epoch 19: Training loss: 0.6966521441936493\n",
            "Epoch 20: Training loss: 0.7051041647791862\n",
            "Epoch 21: Training loss: 0.6803809925913811\n",
            "Epoch 22: Training loss: 0.6857109144330025\n",
            "Epoch 23: Training loss: 0.6605040952563286\n",
            "Epoch 24: Training loss: 0.6802308335900307\n",
            "Epoch 25: Training loss: 0.6648931503295898\n",
            "Epoch 26: Training loss: 0.6545844748616219\n",
            "Epoch 27: Training loss: 0.6522132530808449\n",
            "Epoch 28: Training loss: 0.6437655612826347\n",
            "Epoch 29: Training loss: 0.6484357491135597\n",
            "30\n"
          ],
          "name": "stdout"
        }
      ]
    },
    {
      "cell_type": "markdown",
      "metadata": {
        "id": "roCsWtjWr3Qb",
        "colab_type": "text"
      },
      "source": [
        "# Test Neural Network"
      ]
    },
    {
      "cell_type": "code",
      "metadata": {
        "id": "8cAsvvzwOvKq",
        "colab_type": "code",
        "outputId": "3bd413dc-979b-48ac-98fa-d99116a6f53a",
        "colab": {
          "base_uri": "https://localhost:8080/",
          "height": 357
        }
      },
      "source": [
        "vessels_names = ['ldai', 'diags', 'septals', 'lcxi', 'obtmar', 'atrials', 'lcim', 'acutes', 'crux']\n",
        "\n",
        "def test(model):\n",
        "\n",
        "    correct = 0\n",
        "    total = 0\n",
        "    vessels_count = np.zeros((9,), dtype=int)\n",
        "    vessels_correct = np.zeros((9,), dtype=int)\n",
        "    mainBifurcations_count = np.zeros((3,), dtype=int) \n",
        "    mainBifurcations_correct = np.zeros((3,), dtype=int) \n",
        "\n",
        "    predicted_class_array = []\n",
        "\n",
        "    with torch.no_grad():\n",
        "\n",
        "        for test_X, test_y in testloader:\n",
        "\n",
        "            test_X, test_y = test_X.to(device), test_y.to(device)\n",
        "            for i in tqdm(range(len(test_X))):\n",
        "                real_class = test_y[i].item()\n",
        "                # print(f\"real class is {real_class}\")\n",
        "\n",
        "                vessels_count[real_class] += 1\n",
        "                # ps = net(test_X[i].view(-1, 1, 20, 20))[0] \n",
        "                geom = test_X[i]\n",
        "                geom = geom.resize_(1, 400)\n",
        "                    \n",
        "                logps = model(geom.float())\n",
        "                ps = torch.exp(logps)  #probabilities\n",
        "                predicted_class = torch.argmax(ps).item()\n",
        "                predicted_class_array.append(predicted_class)\n",
        "\n",
        "                if predicted_class is real_class:\n",
        "                    vessels_correct[real_class] += 1\n",
        "                    correct += 1\n",
        "                \n",
        "                else: \n",
        "                    # These numbers follow the sequence in the \"vessels_name\" list\n",
        "                    # print(predicted_class)\n",
        "                    if predicted_class in {0, 1, 2}: \n",
        "                        \n",
        "                        if real_class in {0, 1, 2}:\n",
        "                            # print(f\"predicted {predicted_class}, real {real_class}\")\n",
        "                            mainBifurcations_correct[0] += 1\n",
        "\n",
        "                    elif predicted_class in {3, 4}:\n",
        "                        if real_class in {3, 4}:\n",
        "                            # print(f\"predicted {predicted_class}, real {real_class}\")\n",
        "                            mainBifurcations_correct[1] += 1\n",
        "                    \n",
        "                    elif predicted_class in {7, 8}:\n",
        "                        if real_class in {7, 8}:\n",
        "                            mainBifurcations_correct[2] += 1\n",
        "                    else: \n",
        "                        continue\n",
        "\n",
        "                total += 1\n",
        "\n",
        "    print(\"\\n\\nOverall Accuracy is:\", round(correct/total,3))\n",
        "    print(\"------------------------\")\n",
        "\n",
        "    for i in range(len(vessels_count)):\n",
        "        print(f\"Accuracy of {vessels_names[i]} is:\", round(vessels_correct[i]/vessels_count[i],3))\n",
        "\n",
        "    print(\"------------------------\")\n",
        "    print(f\"No of samples for each vessel in a batch is {vessels_count}\")\n",
        "\n",
        "    mainBifurcations_count[0] = vessels_count[0] + vessels_count[1] + vessels_count[2] #LCA\n",
        "    mainBifurcations_count[1] = vessels_count[3] + vessels_count[4] #LCX\n",
        "    mainBifurcations_count[2] = vessels_count[7] + vessels_count[8] #RCA \n",
        "\n",
        "    mainBifurcations_correct[0] += vessels_correct[0] + vessels_correct[1] + vessels_correct[2]  #LCA\n",
        "    mainBifurcations_correct[1] += vessels_correct[3] + vessels_correct[4]  #LCX\n",
        "    mainBifurcations_correct[2] += vessels_correct[7] + vessels_correct[8]  #RCA\n",
        "\n",
        "    print(\"------------------------\")\n",
        "    print(f\"Bifurcation LCA has accuracy of {round(mainBifurcations_correct[0]/mainBifurcations_count[0], 3)}\")\n",
        "    print(f\"Bifurcation LCX has accuracy of {round(mainBifurcations_correct[1]/mainBifurcations_count[1], 3)}\")\n",
        "    print(f\"Bifurcation RCA has accuracy of {round(mainBifurcations_correct[2]/mainBifurcations_count[2], 3)}\")\n",
        "\n",
        "    # print(test_y)\n",
        "    return test_y, predicted_class_array\n",
        "\n",
        "\n",
        "test_y, predicted_class_array = test(model)"
      ],
      "execution_count": 0,
      "outputs": [
        {
          "output_type": "stream",
          "text": [
            "100%|██████████| 210/210 [00:00<00:00, 2312.83it/s]"
          ],
          "name": "stderr"
        },
        {
          "output_type": "stream",
          "text": [
            "\n",
            "\n",
            "Overall Accuracy is: 0.812\n",
            "------------------------\n",
            "Accuracy of ldai is: 0.75\n",
            "Accuracy of diags is: 0.939\n",
            "Accuracy of septals is: 0.5\n",
            "Accuracy of lcxi is: 0.812\n",
            "Accuracy of obtmar is: 0.5\n",
            "Accuracy of atrials is: 0.0\n",
            "Accuracy of lcim is: 0.375\n",
            "Accuracy of acutes is: 0.96\n",
            "Accuracy of crux is: 0.906\n",
            "------------------------\n",
            "No of samples for each vessel in a batch is [32 33  4 32 22  1  8 25 53]\n",
            "------------------------\n",
            "Bifurcation LCA has accuracy of 0.942\n",
            "Bifurcation LCX has accuracy of 0.981\n",
            "Bifurcation RCA has accuracy of 1.0\n"
          ],
          "name": "stdout"
        },
        {
          "output_type": "stream",
          "text": [
            "\n"
          ],
          "name": "stderr"
        }
      ]
    },
    {
      "cell_type": "markdown",
      "metadata": {
        "id": "ZHLzE8CxsFpk",
        "colab_type": "text"
      },
      "source": [
        "# Testing Network for A Single Sample"
      ]
    },
    {
      "cell_type": "code",
      "metadata": {
        "id": "TNJoiAuHI_xn",
        "colab_type": "code",
        "outputId": "5167783a-bef2-4ca4-c4b7-97454867b482",
        "colab": {
          "base_uri": "https://localhost:8080/",
          "height": 260
        }
      },
      "source": [
        "%matplotlib inline\n",
        "%config InlineBackend.figure_format = 'retina'\n",
        "\n",
        "dataiter = iter(testloader)\n",
        "geometries, labels = dataiter.next()\n",
        "geom = geometries[0]\n",
        "# Convert 2D matrix/image to 1D vector\n",
        "\n",
        "geom = geom.resize_(1, 400)\n",
        "\n",
        "\n",
        "# TODO: Calculate the class probabilities (softmax) for img\n",
        "with torch.no_grad():\n",
        "    \n",
        "    logps = model(geom.cuda().float()) # convert to cuda tensor to run faster\n",
        "    \n",
        "ps = torch.exp(logps)\n",
        "\n",
        "# Plot the image and probabilities\n",
        "\n",
        "def view_classify(geom, ps):\n",
        "    ''' Function for viewing an image and it's predicted classes.\n",
        "    '''\n",
        "    ps = ps.data.cpu().numpy().squeeze()\n",
        "\n",
        "    fig, (ax1, ax2) = plt.subplots(figsize=(6,9), ncols=2)\n",
        "    ax1.imshow(geom.resize_(20, 20).numpy().squeeze()) #First figure on left\n",
        "    \n",
        "    ax1.axis('off')\n",
        "    ax2.barh(np.arange(9), ps) #Make a horizontal bar plot\n",
        "    ax2.set_aspect(0.1)\n",
        "    ax2.set_yticks(np.arange(10))\n",
        "    ax2.set_yticklabels(vessels_names, size='small');\n",
        "\n",
        "    ax2.set_title('Class Probability')\n",
        "    ax2.set_xlim(0, 1.1)\n",
        "\n",
        "    plt.tight_layout()\n",
        "\n",
        "geom_numpy = geom.cpu().numpy()\n",
        "view_classify(geom.reshape(20, 20), ps) # convert back to numpy\n",
        "\n",
        "print(labels[0])\n",
        "print(f\"The actual vessel is {vessels_names[labels[0]]}\")\n"
      ],
      "execution_count": 0,
      "outputs": [
        {
          "output_type": "stream",
          "text": [
            "tensor(8)\n",
            "The actual vessel is crux\n"
          ],
          "name": "stdout"
        },
        {
          "output_type": "display_data",
          "data": {
            "image/png": "[encoded data removed]",
            "text/plain": [
              "<Figure size 432x648 with 2 Axes>"
            ]
          },
          "metadata": {
            "tags": [],
            "image/png": {
              "width": 424,
              "height": 209
            },
            "needs_background": "light"
          }
        }
      ]
    },
    {
      "cell_type": "markdown",
      "metadata": {
        "id": "pxQjuU2CYx5f",
        "colab_type": "text"
      },
      "source": [
        "# More Analysis "
      ]
    },
    {
      "cell_type": "code",
      "metadata": {
        "id": "cqnJMlKtUlfs",
        "colab_type": "code",
        "outputId": "77d3e26d-6727-43bf-d845-8e77f0ec4c6a",
        "colab": {
          "base_uri": "https://localhost:8080/",
          "height": 496
        }
      },
      "source": [
        "from sklearn import metrics\n",
        "\n",
        "# True values\n",
        "y_true = test_y.cpu()\n",
        "# Predicted values\n",
        "y_pred = predicted_class_array\n",
        "\n",
        "# Print the confusion matrix\n",
        "print(metrics.confusion_matrix(y_true, y_pred))\n",
        "\n",
        "# Print the precision and recall, among other metrics\n",
        "print(metrics.classification_report(y_true, y_pred, digits=3))"
      ],
      "execution_count": 0,
      "outputs": [
        {
          "output_type": "stream",
          "text": [
            "[[24  5  1  1  0  0  0  0  1]\n",
            " [ 0 31  1  0  0  0  1  0  0]\n",
            " [ 0  1  2  1  0  0  0  0  0]\n",
            " [ 0  0  0 26  6  0  0  0  0]\n",
            " [ 0  0  0 10 11  0  1  0  0]\n",
            " [ 0  0  0  1  0  0  0  0  0]\n",
            " [ 0  0  0  1  4  0  3  0  0]\n",
            " [ 0  0  0  0  0  0  0 24  1]\n",
            " [ 0  0  0  0  0  0  0  5 48]]\n",
            "              precision    recall  f1-score   support\n",
            "\n",
            "           0      1.000     0.750     0.857        32\n",
            "           1      0.838     0.939     0.886        33\n",
            "           2      0.500     0.500     0.500         4\n",
            "           3      0.650     0.812     0.722        32\n",
            "           4      0.524     0.500     0.512        22\n",
            "           5      0.000     0.000     0.000         1\n",
            "           6      0.600     0.375     0.462         8\n",
            "           7      0.828     0.960     0.889        25\n",
            "           8      0.960     0.906     0.932        53\n",
            "\n",
            "    accuracy                          0.805       210\n",
            "   macro avg      0.655     0.638     0.640       210\n",
            "weighted avg      0.811     0.805     0.802       210\n",
            "\n"
          ],
          "name": "stdout"
        },
        {
          "output_type": "stream",
          "text": [
            "/usr/local/lib/python3.6/dist-packages/sklearn/metrics/_classification.py:1272: UndefinedMetricWarning: Precision and F-score are ill-defined and being set to 0.0 in labels with no predicted samples. Use `zero_division` parameter to control this behavior.\n",
            "  _warn_prf(average, modifier, msg_start, len(result))\n"
          ],
          "name": "stderr"
        }
      ]
    },
    {
      "cell_type": "code",
      "metadata": {
        "id": "pDprFx1ZYqV0",
        "colab_type": "code",
        "colab": {}
      },
      "source": [
        ""
      ],
      "execution_count": 0,
      "outputs": []
    }
  ]
}