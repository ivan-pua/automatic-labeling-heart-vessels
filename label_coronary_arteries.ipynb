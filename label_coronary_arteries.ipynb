{
  "nbformat": 4,
  "nbformat_minor": 0,
  "metadata": {
    "colab": {
      "name": "label-coronary-arteries.ipynb",
      "provenance": [],
      "collapsed_sections": [],
      "toc_visible": true,
      "authorship_tag": "ABX9TyOf86vm7lkmRzyMQRPJ1s7R",
      "include_colab_link": true
    },
    "kernelspec": {
      "name": "python3",
      "display_name": "Python 3"
    },
    "accelerator": "GPU"
  },
  "cells": [
    {
      "cell_type": "markdown",
      "metadata": {
        "id": "view-in-github",
        "colab_type": "text"
      },
      "source": [
        "<a href=\"https://colab.research.google.com/github/puaqieshang/automatic-labeling-heart-vessels/blob/master/label_coronary_arteries.ipynb\" target=\"_parent\"><img src=\"https://colab.research.google.com/assets/colab-badge.svg\" alt=\"Open In Colab\"/></a>"
      ]
    },
    {
      "cell_type": "markdown",
      "metadata": {
        "id": "0q3bQztjs6pW",
        "colab_type": "text"
      },
      "source": [
        "# Update from Previous Version\n",
        "\n",
        "* Change code structure to separate the modules better\n"
      ]
    },
    {
      "cell_type": "code",
      "metadata": {
        "id": "ogFQbGjAd5_L",
        "colab_type": "code",
        "outputId": "06b94370-7503-4acd-f917-cbbcac27e132",
        "colab": {
          "base_uri": "https://localhost:8080/",
          "height": 34
        }
      },
      "source": [
        "# Import dependencies\n",
        "\n",
        "import os\n",
        "import glob\n",
        "import time\n",
        "import helper\n",
        "import numpy as np\n",
        "from tqdm import tqdm\n",
        "import matplotlib.pyplot as plt\n",
        "from collections import defaultdict\n",
        "\n",
        "import torch\n",
        "from torch import tensor, nn, optim\n",
        "import torch.nn.functional as F\n",
        "from torch.utils.data import Dataset, DataLoader\n",
        "\n",
        "if torch.cuda.is_available():\n",
        "    device = torch.device(\"cuda:0\")  # you can continue going on here, like cuda:1 cuda:2....etc. \n",
        "    print(\"Running on the GPU\")\n",
        "else:\n",
        "    device = torch.device(\"cpu\")\n",
        "    print(\"Running on the CPU\")"
      ],
      "execution_count": 71,
      "outputs": [
        {
          "output_type": "stream",
          "text": [
            "Running on the GPU\n"
          ],
          "name": "stdout"
        }
      ]
    },
    {
      "cell_type": "markdown",
      "metadata": {
        "id": "BsXDGkEGj5wt",
        "colab_type": "text"
      },
      "source": [
        "# Data Retrieval\n"
      ]
    },
    {
      "cell_type": "markdown",
      "metadata": {
        "id": "W8qlfLlwx8MO",
        "colab_type": "text"
      },
      "source": [
        "## Import from Google Drive"
      ]
    },
    {
      "cell_type": "code",
      "metadata": {
        "id": "4B4g74MZc0dL",
        "colab_type": "code",
        "outputId": "b4c6c7c0-72e8-4198-cd10-042db310be78",
        "colab": {
          "base_uri": "https://localhost:8080/",
          "height": 71
        }
      },
      "source": [
        "# Load the Drive helper and mount\n",
        "from google.colab import drive\n",
        "drive.mount('/content/drive')\n",
        "!ls \"/content/\" # Lists all the files \n",
        "# !unzip -uq \"/content/drive/My Drive/ldai-load.zip\"\n",
        "!unzip -uq \"/content/drive/My Drive/processed_v3.zip\""
      ],
      "execution_count": 72,
      "outputs": [
        {
          "output_type": "stream",
          "text": [
            "Drive already mounted at /content/drive; to attempt to forcibly remount, call drive.mount(\"/content/drive\", force_remount=True).\n",
            "drive  __MACOSX  processed_v3  sample_data\n"
          ],
          "name": "stdout"
        }
      ]
    },
    {
      "cell_type": "markdown",
      "metadata": {
        "id": "vorrIKyZwZvO",
        "colab_type": "text"
      },
      "source": [
        "## Develop Custom Dataset"
      ]
    },
    {
      "cell_type": "code",
      "metadata": {
        "id": "-now3mxWhlcL",
        "colab_type": "code",
        "colab": {}
      },
      "source": [
        "class HeartVesselsDataset(Dataset):\n",
        "\n",
        "    # Initialize your data, download, etc.\n",
        "    def __init__(self, dest, folders):\n",
        "\n",
        "        # print(f\"Making {dest} Data ...\")\n",
        "        data = defaultdict(dict)\n",
        "\n",
        "        idCount = 0\n",
        "        for folder in folders:\n",
        "\n",
        "            if (folder == \".DS_Store\"):\n",
        "                continue\n",
        "            \n",
        "            file_des = f\"{dest}/{folder}\"\n",
        "            all_files = os.listdir(file_des)\n",
        "            # print(f\"Folder {folder} containes {all_files}\")\n",
        "\n",
        "            os.chdir(file_des)\n",
        "            for f in glob.glob(\"*.txt\"):\n",
        "                \n",
        "                geometry = np.genfromtxt(f)\n",
        "                # print(f\"The file {f} has {geometry[0]}\")              \n",
        "                \n",
        "                data[str(idCount)]['x'] = geometry\n",
        "                data[str(idCount)]['y'] = folder\n",
        "\n",
        "                idCount = idCount +1\n",
        "\n",
        "            # print(len(data))\n",
        "            # print(f\"AHG0003-3.txt has elements {data['AHG0003-3.txt']}\")\n",
        "            # print(data[f])\n",
        "        \n",
        "        self.len = len(data)\n",
        "        self.data = data\n",
        "        # print(f\"1 has elements {data['1']}\")\n",
        "\n",
        "        # self.x_data = data # Access dict\n",
        "        # self.y_data = data # Access dict\n",
        "\n",
        "    # USE DICTIONARY\n",
        "    def __getitem__(self, index):\n",
        "        # print(index)\n",
        "        geometry = self.data[str(index)]['x']\n",
        "        label = self.data[str(index)]['y'] # Its a number\n",
        "        # print(label)\n",
        "        \n",
        "        return geometry, tensor(int(label))\n",
        "\n",
        "    def __len__(self):\n",
        "        return len(self.data)\n"
      ],
      "execution_count": 0,
      "outputs": []
    },
    {
      "cell_type": "markdown",
      "metadata": {
        "id": "4KoNEnafwq8Y",
        "colab_type": "text"
      },
      "source": [
        "## Create Test and Train Datasets\n",
        "\n",
        "**Suggestions for Improvements - Cross validation folds**"
      ]
    },
    {
      "cell_type": "code",
      "metadata": {
        "id": "6trhsNY-wp-j",
        "colab_type": "code",
        "colab": {
          "base_uri": "https://localhost:8080/",
          "height": 51
        },
        "outputId": "64b343f0-bd71-430f-baee-692c02dd8f24"
      },
      "source": [
        "train_des = '/content/processed_v3/train'\n",
        "train_folders = os.listdir(train_des)\n",
        "train_dataset = HeartVesselsDataset(train_des, train_folders)\n",
        "trainloader = DataLoader(dataset=train_dataset, batch_size=256,shuffle=True,num_workers=0)\n",
        "\n",
        "test_des = '/content/processed_v3/val' # Use validation data because of split package\n",
        "test_folders = os.listdir(test_des)\n",
        "test_dataset = HeartVesselsDataset(test_des, test_folders)\n",
        "testloader = DataLoader(dataset=test_dataset, batch_size=256,shuffle=True,num_workers=0)\n",
        "\n",
        "print(f\"Train has {len(trainloader)} batches and {train_dataset.len} datasets\")\n",
        "print(f\"Test has {len(trainloader)} batches and {test_dataset.len} datasets\")\n"
      ],
      "execution_count": 74,
      "outputs": [
        {
          "output_type": "stream",
          "text": [
            "Train has 8 batches and 1907 datasets\n",
            "Test has 8 batches and 210 datasets\n"
          ],
          "name": "stdout"
        }
      ]
    },
    {
      "cell_type": "markdown",
      "metadata": {
        "id": "APGAYL6FxfHE",
        "colab_type": "text"
      },
      "source": [
        "## Inspecting Input - A Single Branch"
      ]
    },
    {
      "cell_type": "code",
      "metadata": {
        "id": "jDOQJS0Wm29G",
        "colab_type": "code",
        "outputId": "d06ae442-71b1-485a-a237-351ad9db99aa",
        "colab": {
          "base_uri": "https://localhost:8080/",
          "height": 316
        }
      },
      "source": [
        "geometries, label = next(iter(trainloader))\n",
        "\n",
        "# print(f\"Geo is of type {geometries.type}\")\n",
        "# print(f\"Label is of type {label.type}\")\n",
        "print(\"A Random Coronary Branch\")\n",
        "print(f\"Dimension of a branch/matrix is {geometries[0].shape}\")\n",
        "\n",
        "plt.imshow(geometries[0].view(20, 20))\n",
        "plt.show()\n",
        "print(f\"The label is {label[0]}\")"
      ],
      "execution_count": 75,
      "outputs": [
        {
          "output_type": "stream",
          "text": [
            "A Random Coronary Branch\n",
            "Dimension of a branch/matrix is torch.Size([100, 4])\n"
          ],
          "name": "stdout"
        },
        {
          "output_type": "display_data",
          "data": {
            "image/png": "[encoded data removed]",
            "text/plain": [
              "<Figure size 432x288 with 1 Axes>"
            ]
          },
          "metadata": {
            "tags": [],
            "image/png": {
              "width": 261,
              "height": 248
            },
            "needs_background": "light"
          }
        },
        {
          "output_type": "stream",
          "text": [
            "The label is 1\n"
          ],
          "name": "stdout"
        }
      ]
    },
    {
      "cell_type": "markdown",
      "metadata": {
        "id": "xv9OG9k3kAjA",
        "colab_type": "text"
      },
      "source": [
        "# Model Definition\n",
        "\n",
        "So that different model architectures can work interchangeable\n",
        "\n"
      ]
    },
    {
      "cell_type": "markdown",
      "metadata": {
        "id": "rZ8LPLeb1dHQ",
        "colab_type": "text"
      },
      "source": [
        "## Model 1 - Convolutional Neural Network"
      ]
    },
    {
      "cell_type": "code",
      "metadata": {
        "id": "eSpsZlv2B9be",
        "colab_type": "code",
        "colab": {}
      },
      "source": [
        "# Start Timer\n",
        "t0 = time.time()\n",
        "\n",
        "\n",
        "model = nn.Sequential(nn.Linear(400,128), nn.ReLU(), nn.Linear(128,64), \n",
        "                      nn.ReLU(), nn.Linear(64,9), nn.LogSoftmax(dim=1))\n",
        "model = model.to(device)"
      ],
      "execution_count": 0,
      "outputs": []
    },
    {
      "cell_type": "code",
      "metadata": {
        "id": "3z5km_pmI0vE",
        "colab_type": "code",
        "colab": {}
      },
      "source": [
        "# TODO: Create the network, define the criterion and optimizer\n",
        "criterion = nn.NLLLoss()\n",
        "optimiser = optim.SGD(model.parameters(), lr = 0.001)\n",
        "# optimizer = optim.Adam(model.parameters(), lr=0.003)\n",
        "# optimizer = optim.Adam(model.parameters(), lr=0.001) # Can change learning rate\n",
        "# loss_function = nn.MSELoss()\n",
        "\n",
        "# Refer to Deep Learning Roadmap"
      ],
      "execution_count": 0,
      "outputs": []
    },
    {
      "cell_type": "markdown",
      "metadata": {
        "id": "5c8rxsQup9Ts",
        "colab_type": "text"
      },
      "source": [
        "# Train Model"
      ]
    },
    {
      "cell_type": "markdown",
      "metadata": {
        "id": "hAF_19BC52Hy",
        "colab_type": "text"
      },
      "source": [
        "## Calculate Accuracy and Loss"
      ]
    },
    {
      "cell_type": "code",
      "metadata": {
        "id": "mlPEe_rknZYi",
        "colab_type": "code",
        "outputId": "e1f16ab8-1fe3-4602-cf81-8ea6af8ef755",
        "colab": {
          "base_uri": "https://localhost:8080/",
          "height": 187
        }
      },
      "source": [
        "def accuracy(X, y):\n",
        "    \n",
        "    correct = 0\n",
        "    total = 0\n",
        "    vessels_count = np.zeros((9,), dtype=int)\n",
        "    vessels_correct = np.zeros((9,), dtype=int)\n",
        "\n",
        "    for i in (range(len(X))):\n",
        "        real_class = y[i]\n",
        "        # print(f\"real class is {real_class}\")\n",
        "\n",
        "        vessels_count[real_class] += 1\n",
        "        # ps = net(test_X[i].view(-1, 1, 20, 20))[0] \n",
        "        geom = X[i]\n",
        "        geom = geom.resize_(1, 400)\n",
        "            \n",
        "        logps = model(geom.float()) # its in log bc of logSoftmax...\n",
        "        ps = torch.exp(logps)  #.... that's why the probabilities need to be exp()\n",
        "        predicted_class = torch.argmax(ps)\n",
        "\n",
        "        if predicted_class == real_class:\n",
        "            vessels_correct[real_class] += 1\n",
        "            correct += 1\n",
        "\n",
        "        total += 1\n",
        "\n",
        "    return correct, total\n",
        "\n",
        "def fwd_pass(loader, needsTraining): # for both train and test cases\n",
        "    running_loss = 0\n",
        "    sumCorrect = 0\n",
        "    sumTotal = 0       \n",
        "    for train_X, train_y in loader:\n",
        "        # print(train_X.shape)\n",
        "        train_X = train_X.view(train_X.shape[0], -1)\n",
        "        train_X, train_y = train_X.to(device), train_y.to(device)\n",
        "        \n",
        "        if needsTraining is True:\n",
        "            optimiser.zero_grad()\n",
        "        \n",
        "        output = model(train_X.float())\n",
        "        loss = criterion(output,train_y)\n",
        "\n",
        "        if needsTraining is True:\n",
        "            loss.backward()\n",
        "            optimiser.step()\n",
        "        \n",
        "        running_loss += loss.item()\n",
        "        \n",
        "        # train_loss.append(l)  \n",
        "\n",
        "        # Accuracy\n",
        "        correct, total = accuracy(train_X, train_y)\n",
        "        sumCorrect += correct\n",
        "        sumTotal += total\n",
        "        # print(sumTotal)     \n",
        "\n",
        "    l = running_loss/len(loader) #average loss for whole loader dataset\n",
        "    acc = sumCorrect/sumTotal\n",
        "\n",
        "    return acc, l\n",
        "\n",
        "train_acc_list, train_loss_list, test_acc_list, test_loss_list = [],[],[],[]\n",
        "\n",
        "# ROUNDS = 100\n",
        "EPOCHS = 10\n",
        "def train_and_test():\n",
        "\n",
        "    for e in (range(EPOCHS)):\n",
        "\n",
        "        train_acc, train_loss = fwd_pass(trainloader, needsTraining=True)\n",
        "        train_acc_list.append(train_acc)\n",
        "        train_loss_list.append(train_loss)\n",
        "\n",
        "        with torch.no_grad():\n",
        "            test_acc, test_loss = fwd_pass(testloader, needsTraining=False)\n",
        "\n",
        "        test_acc_list.append(test_acc)\n",
        "        test_loss_list.append(test_loss)\n",
        "\n",
        "        print(f\"Epoch {e} has test accuracy of {round(test_acc, 3)} and loss of {round(test_loss,3)}\")\n",
        "    \n",
        "    # print(len(train_acc_list))\n",
        "\n",
        "train_and_test()\n",
        "\n"
      ],
      "execution_count": 78,
      "outputs": [
        {
          "output_type": "stream",
          "text": [
            "Epoch 0 has test accuracy of 0.148 and loss of 2.243\n",
            "Epoch 1 has test accuracy of 0.471 and loss of 1.332\n",
            "Epoch 2 has test accuracy of 0.605 and loss of 1.092\n",
            "Epoch 3 has test accuracy of 0.614 and loss of 1.044\n",
            "Epoch 4 has test accuracy of 0.586 and loss of 0.987\n",
            "Epoch 5 has test accuracy of 0.638 and loss of 0.979\n",
            "Epoch 6 has test accuracy of 0.638 and loss of 0.922\n",
            "Epoch 7 has test accuracy of 0.619 and loss of 0.915\n",
            "Epoch 8 has test accuracy of 0.662 and loss of 0.912\n",
            "Epoch 9 has test accuracy of 0.7 and loss of 0.861\n"
          ],
          "name": "stdout"
        }
      ]
    },
    {
      "cell_type": "markdown",
      "metadata": {
        "id": "9l8qw83t58OQ",
        "colab_type": "text"
      },
      "source": [
        "## Plot Accuracies and Loss vs Epochs"
      ]
    },
    {
      "cell_type": "code",
      "metadata": {
        "id": "wZCaUppuB2Aj",
        "colab_type": "code",
        "outputId": "06bd3905-c4ca-44de-fb28-a8a188dea91c",
        "colab": {
          "base_uri": "https://localhost:8080/",
          "height": 548
        }
      },
      "source": [
        "import matplotlib.pyplot as plt\n",
        "from matplotlib import style\n",
        "import pandas as pd\n",
        "\n",
        "style.use(\"ggplot\")\n",
        "\n",
        "def create_acc_loss_graph():\n",
        "    epoch = list(range(0, EPOCHS, 1))\n",
        "\n",
        "    d = {'epochs': epoch,\n",
        "        'train_acc': train_acc_list,\n",
        "        'train_loss': train_loss_list,\n",
        "        'test_acc': test_acc_list, \n",
        "        'test_loss': test_loss_list}\n",
        "\n",
        "    df = pd.DataFrame(d)\n",
        "\n",
        "    df['train_acc_avg'] = df['train_acc'].ewm(alpha=.02).mean()  # exponential weighted moving average\n",
        "    df['test_acc_avg'] = df['test_acc'].ewm(alpha=.02).mean()\n",
        "    df['train_loss_avg'] = df['train_loss'].ewm(alpha=.02).mean()\n",
        "    df['test_loss_avg'] = df['test_loss'].ewm(alpha=.02).mean()\n",
        "\n",
        "\n",
        "\n",
        "    # Then plot using pandas:\n",
        "    df.plot(x='epochs', y=['train_acc_avg', 'test_acc_avg'], figsize=(8,4))\n",
        "    plt.ylabel(\"Accuracy\")\n",
        "    df.plot(x='epochs', y=['train_loss_avg', 'test_loss_avg'], figsize=(8,4))\n",
        "    plt.ylabel(\"Loss\")\n",
        "\n",
        "    plt.show()\n",
        "\n",
        "create_acc_loss_graph()"
      ],
      "execution_count": 79,
      "outputs": [
        {
          "output_type": "display_data",
          "data": {
            "image/png": "[encoded data removed]",
            "text/plain": [
              "<Figure size 576x288 with 1 Axes>"
            ]
          },
          "metadata": {
            "tags": [],
            "image/png": {
              "width": 499,
              "height": 265
            }
          }
        },
        {
          "output_type": "display_data",
          "data": {
            "image/png": "[encoded data removed]",
            "text/plain": [
              "<Figure size 576x288 with 1 Axes>"
            ]
          },
          "metadata": {
            "tags": [],
            "image/png": {
              "width": 490,
              "height": 266
            }
          }
        }
      ]
    },
    {
      "cell_type": "code",
      "metadata": {
        "id": "uI4A-ze4Jvec",
        "colab_type": "code",
        "outputId": "a961d223-215c-4f55-d506-768ca2f6b700",
        "colab": {
          "base_uri": "https://localhost:8080/",
          "height": 34
        }
      },
      "source": [
        "t1 = time.time()\n",
        "duration = (t1-t0)/60\n",
        "print(\"Time taken to train is \" + \"{:.2f}\".format(duration) + \" minutes.\")"
      ],
      "execution_count": 80,
      "outputs": [
        {
          "output_type": "stream",
          "text": [
            "Time taken to train is 0.14 minutes.\n"
          ],
          "name": "stdout"
        }
      ]
    },
    {
      "cell_type": "markdown",
      "metadata": {
        "id": "F09_QQ7r_qyw",
        "colab_type": "text"
      },
      "source": [
        "## Displays Weights of the Model"
      ]
    },
    {
      "cell_type": "code",
      "metadata": {
        "id": "-AEnfmgy3qVL",
        "colab_type": "code",
        "outputId": "1d0e5c7f-df2e-4e8e-97eb-dce85eea4867",
        "colab": {
          "base_uri": "https://localhost:8080/",
          "height": 323
        }
      },
      "source": [
        "# Shows weights\n",
        "layerNum = 0\n",
        "for param in model.parameters():\n",
        "\n",
        "    print(f\"Layer Number is {layerNum}\")\n",
        "    print(len(param.data))\n",
        "    print(param.data.size())\n",
        "    layerNum = layerNum + 1\n",
        "#   print(param.size())"
      ],
      "execution_count": 81,
      "outputs": [
        {
          "output_type": "stream",
          "text": [
            "Layer Number is 0\n",
            "128\n",
            "torch.Size([128, 400])\n",
            "Layer Number is 1\n",
            "128\n",
            "torch.Size([128])\n",
            "Layer Number is 2\n",
            "64\n",
            "torch.Size([64, 128])\n",
            "Layer Number is 3\n",
            "64\n",
            "torch.Size([64])\n",
            "Layer Number is 4\n",
            "9\n",
            "torch.Size([9, 64])\n",
            "Layer Number is 5\n",
            "9\n",
            "torch.Size([9])\n"
          ],
          "name": "stdout"
        }
      ]
    },
    {
      "cell_type": "markdown",
      "metadata": {
        "id": "roCsWtjWr3Qb",
        "colab_type": "text"
      },
      "source": [
        "# Test Model"
      ]
    },
    {
      "cell_type": "code",
      "metadata": {
        "id": "8cAsvvzwOvKq",
        "colab_type": "code",
        "outputId": "c43bf0ae-4fd6-4b87-9b99-f8bcab1559d2",
        "colab": {
          "base_uri": "https://localhost:8080/",
          "height": 357
        }
      },
      "source": [
        "vessels_names = ['ldai', 'diags', 'septals', 'lcxi', 'obtmar', 'atrials', 'lcim', 'acutes', 'crux']\n",
        "\n",
        "def test(model):\n",
        "\n",
        "    correct = 0\n",
        "    total = 0\n",
        "    vessels_count = np.zeros((9,), dtype=int)\n",
        "    vessels_correct = np.zeros((9,), dtype=int)\n",
        "    mainBifurcations_count = np.zeros((3,), dtype=int) \n",
        "    mainBifurcations_correct = np.zeros((3,), dtype=int) \n",
        "\n",
        "    predicted_class_array = []\n",
        "\n",
        "    with torch.no_grad():\n",
        "\n",
        "        for test_X, test_y in testloader:\n",
        "\n",
        "            test_X, test_y = test_X.to(device), test_y.to(device)\n",
        "            for i in tqdm(range(len(test_X))):\n",
        "                real_class = test_y[i].item()\n",
        "                # print(f\"real class is {real_class}\")\n",
        "\n",
        "                vessels_count[real_class] += 1\n",
        "                # ps = net(test_X[i].view(-1, 1, 20, 20))[0] \n",
        "                geom = test_X[i]\n",
        "                geom = geom.resize_(1, 400)\n",
        "                    \n",
        "                logps = model(geom.float())\n",
        "                ps = torch.exp(logps)  #probabilities\n",
        "                predicted_class = torch.argmax(ps).item()\n",
        "                predicted_class_array.append(predicted_class)\n",
        "\n",
        "                if predicted_class is real_class:\n",
        "                    vessels_correct[real_class] += 1\n",
        "                    correct += 1\n",
        "                \n",
        "                else: \n",
        "                    # These numbers follow the sequence in the \"vessels_name\" list\n",
        "                    # print(predicted_class)\n",
        "                    if predicted_class in {0, 1, 2}: \n",
        "                        \n",
        "                        if real_class in {0, 1, 2}:\n",
        "                            # print(f\"predicted {predicted_class}, real {real_class}\")\n",
        "                            mainBifurcations_correct[0] += 1\n",
        "\n",
        "                    elif predicted_class in {3, 4}:\n",
        "                        if real_class in {3, 4}:\n",
        "                            # print(f\"predicted {predicted_class}, real {real_class}\")\n",
        "                            mainBifurcations_correct[1] += 1\n",
        "                    \n",
        "                    elif predicted_class in {7, 8}:\n",
        "                        if real_class in {7, 8}:\n",
        "                            mainBifurcations_correct[2] += 1\n",
        "                    else: \n",
        "                        continue\n",
        "\n",
        "                total += 1\n",
        "\n",
        "    print(\"\\n\\nOverall Accuracy is:\", round(correct/total,3))\n",
        "    print(\"------------------------\")\n",
        "\n",
        "    for i in range(len(vessels_count)):\n",
        "        acc = round(vessels_correct[i]/vessels_count[i],3)\n",
        "        string = f\"Accuracy of {vessels_names[i]} is:\"\n",
        "        print(\"{:<30} {:<5}\".format(string, acc))\n",
        "\n",
        "    print(\"------------------------\")\n",
        "    print(f\"No of samples for each vessel in a batch is {vessels_count}\")\n",
        "\n",
        "    mainBifurcations_count[0] = vessels_count[0] + vessels_count[1] + vessels_count[2] #LCA\n",
        "    mainBifurcations_count[1] = vessels_count[3] + vessels_count[4] #LCX\n",
        "    mainBifurcations_count[2] = vessels_count[7] + vessels_count[8] #RCA \n",
        "\n",
        "    mainBifurcations_correct[0] += vessels_correct[0] + vessels_correct[1] + vessels_correct[2]  #LCA\n",
        "    mainBifurcations_correct[1] += vessels_correct[3] + vessels_correct[4]  #LCX\n",
        "    mainBifurcations_correct[2] += vessels_correct[7] + vessels_correct[8]  #RCA\n",
        "\n",
        "    print(\"------------------------\")\n",
        "    print(f\"Bifurcation LCA has accuracy of {round(mainBifurcations_correct[0]/mainBifurcations_count[0], 3)}\")\n",
        "    print(f\"Bifurcation LCX has accuracy of {round(mainBifurcations_correct[1]/mainBifurcations_count[1], 3)}\")\n",
        "    print(f\"Bifurcation RCA has accuracy of {round(mainBifurcations_correct[2]/mainBifurcations_count[2], 3)}\")\n",
        "\n",
        "    # print(test_y)\n",
        "    return test_y, predicted_class_array\n",
        "\n",
        "\n",
        "test_y, predicted_class_array = test(model)"
      ],
      "execution_count": 82,
      "outputs": [
        {
          "output_type": "stream",
          "text": [
            "100%|██████████| 210/210 [00:00<00:00, 3582.54it/s]"
          ],
          "name": "stderr"
        },
        {
          "output_type": "stream",
          "text": [
            "\n",
            "\n",
            "Overall Accuracy is: 0.7\n",
            "------------------------\n",
            "Accuracy of ldai is:           0.656\n",
            "Accuracy of diags is:          0.727\n",
            "Accuracy of septals is:        0.0  \n",
            "Accuracy of lcxi is:           0.781\n",
            "Accuracy of obtmar is:         0.364\n",
            "Accuracy of atrials is:        0.0  \n",
            "Accuracy of lcim is:           0.0  \n",
            "Accuracy of acutes is:         0.92 \n",
            "Accuracy of crux is:           0.868\n",
            "------------------------\n",
            "No of samples for each vessel in a batch is [32 33  4 32 22  1  8 25 53]\n",
            "------------------------\n",
            "Bifurcation LCA has accuracy of 0.855\n",
            "Bifurcation LCX has accuracy of 0.944\n",
            "Bifurcation RCA has accuracy of 0.987\n"
          ],
          "name": "stdout"
        },
        {
          "output_type": "stream",
          "text": [
            "\n"
          ],
          "name": "stderr"
        }
      ]
    },
    {
      "cell_type": "markdown",
      "metadata": {
        "id": "ZHLzE8CxsFpk",
        "colab_type": "text"
      },
      "source": [
        "# Visualization\n",
        "\n"
      ]
    },
    {
      "cell_type": "code",
      "metadata": {
        "id": "TNJoiAuHI_xn",
        "colab_type": "code",
        "outputId": "70969064-87df-4a53-8597-f2cda39070b2",
        "colab": {
          "base_uri": "https://localhost:8080/",
          "height": 241
        }
      },
      "source": [
        "%matplotlib inline\n",
        "%config InlineBackend.figure_format = 'retina'\n",
        "\n",
        "dataiter = iter(testloader)\n",
        "geometries, labels = dataiter.next()\n",
        "geom = geometries[0]\n",
        "# Convert 2D matrix/image to 1D vector\n",
        "\n",
        "geom = geom.resize_(1, 400)\n",
        "\n",
        "\n",
        "# TODO: Calculate the class probabilities (softmax) for img\n",
        "with torch.no_grad():\n",
        "    \n",
        "    logps = model(geom.cuda().float()) # convert to cuda tensor to run faster\n",
        "    \n",
        "ps = torch.exp(logps)\n",
        "\n",
        "# Plot the image and probabilities\n",
        "\n",
        "def view_classify(geom, ps):\n",
        "    ''' Function for viewing an image and it's predicted classes.\n",
        "    '''\n",
        "    ps = ps.data.cpu().numpy().squeeze()\n",
        "\n",
        "    fig, (ax1, ax2) = plt.subplots(figsize=(6,9), ncols=2)\n",
        "    ax1.imshow(geom.resize_(20, 20).numpy().squeeze()) #First figure on left\n",
        "    \n",
        "    ax1.axis('off')\n",
        "    ax2.barh(np.arange(9), ps) #Make a horizontal bar plot\n",
        "    ax2.set_aspect(0.1)\n",
        "    ax2.set_yticks(np.arange(10))\n",
        "    ax2.set_yticklabels(vessels_names, size='medium');\n",
        "    ax2.set_title('Class Probability')\n",
        "    ax2.set_xlim(0, 1.1)\n",
        "\n",
        "    plt.tight_layout()\n",
        "\n",
        "\n",
        "geom_numpy = geom.cpu().numpy()\n",
        "view_classify(geom.reshape(20, 20), ps) # convert back to numpy\n",
        "\n",
        "print(f\"The actual vessel is {vessels_names[labels[0]]}\")\n"
      ],
      "execution_count": 83,
      "outputs": [
        {
          "output_type": "stream",
          "text": [
            "The actual vessel is ldai\n"
          ],
          "name": "stdout"
        },
        {
          "output_type": "display_data",
          "data": {
            "image/png": "[encoded data removed]",
            "text/plain": [
              "<Figure size 432x648 with 2 Axes>"
            ]
          },
          "metadata": {
            "tags": [],
            "image/png": {
              "width": 424,
              "height": 207
            },
            "needs_background": "light"
          }
        }
      ]
    },
    {
      "cell_type": "markdown",
      "metadata": {
        "id": "pxQjuU2CYx5f",
        "colab_type": "text"
      },
      "source": [
        "# Analysis "
      ]
    },
    {
      "cell_type": "markdown",
      "metadata": {
        "id": "iY5iEU8f69aZ",
        "colab_type": "text"
      },
      "source": [
        "## Confusion Matrix"
      ]
    },
    {
      "cell_type": "code",
      "metadata": {
        "id": "cqnJMlKtUlfs",
        "colab_type": "code",
        "outputId": "c09d504a-1ae6-4c73-f74f-cd11eb7701b5",
        "colab": {
          "base_uri": "https://localhost:8080/",
          "height": 170
        }
      },
      "source": [
        "from sklearn import metrics\n",
        "\n",
        "# True values\n",
        "y_true = test_y.cpu()\n",
        "# Predicted values\n",
        "y_pred = predicted_class_array\n",
        "\n",
        "# Print the confusion matrix\n",
        "print(metrics.confusion_matrix(y_true, y_pred))\n"
      ],
      "execution_count": 84,
      "outputs": [
        {
          "output_type": "stream",
          "text": [
            "[[21  6  0  1  2  0  0  2  0]\n",
            " [ 5 24  0  0  3  0  0  0  1]\n",
            " [ 0  3  0  1  0  0  0  0  0]\n",
            " [ 0  0  0 25  6  0  0  0  1]\n",
            " [ 0  2  0 12  8  0  0  0  0]\n",
            " [ 0  0  0  1  0  0  0  0  0]\n",
            " [ 0  2  0  2  4  0  0  0  0]\n",
            " [ 0  0  0  0  0  0  0 23  2]\n",
            " [ 0  0  0  0  1  0  0  6 46]]\n"
          ],
          "name": "stdout"
        }
      ]
    },
    {
      "cell_type": "code",
      "metadata": {
        "id": "dEAMgvzs_eCH",
        "colab_type": "code",
        "colab": {
          "base_uri": "https://localhost:8080/",
          "height": 343
        },
        "outputId": "b0267c30-c489-40c2-8f3a-ac365ae00c3f"
      },
      "source": [
        "# Print the precision and recall, among other metrics\n",
        "print(metrics.classification_report(y_true, y_pred, digits=3))"
      ],
      "execution_count": 85,
      "outputs": [
        {
          "output_type": "stream",
          "text": [
            "              precision    recall  f1-score   support\n",
            "\n",
            "           0      0.808     0.656     0.724        32\n",
            "           1      0.649     0.727     0.686        33\n",
            "           2      0.000     0.000     0.000         4\n",
            "           3      0.595     0.781     0.676        32\n",
            "           4      0.333     0.364     0.348        22\n",
            "           5      0.000     0.000     0.000         1\n",
            "           6      0.000     0.000     0.000         8\n",
            "           7      0.742     0.920     0.821        25\n",
            "           8      0.920     0.868     0.893        53\n",
            "\n",
            "    accuracy                          0.700       210\n",
            "   macro avg      0.450     0.480     0.461       210\n",
            "weighted avg      0.671     0.700     0.681       210\n",
            "\n"
          ],
          "name": "stdout"
        },
        {
          "output_type": "stream",
          "text": [
            "/usr/local/lib/python3.6/dist-packages/sklearn/metrics/_classification.py:1272: UndefinedMetricWarning: Precision and F-score are ill-defined and being set to 0.0 in labels with no predicted samples. Use `zero_division` parameter to control this behavior.\n",
            "  _warn_prf(average, modifier, msg_start, len(result))\n"
          ],
          "name": "stderr"
        }
      ]
    },
    {
      "cell_type": "markdown",
      "metadata": {
        "id": "_zvNSlZY16Q7",
        "colab_type": "text"
      },
      "source": [
        "# Main Pipeline\n",
        "\n",
        "Done **last** after finalising code.\n",
        "\n",
        "Basically change every module or header section into a def so that its easier to call. \n",
        "\n",
        "All the user does is to run this code.\n"
      ]
    }
  ]
}