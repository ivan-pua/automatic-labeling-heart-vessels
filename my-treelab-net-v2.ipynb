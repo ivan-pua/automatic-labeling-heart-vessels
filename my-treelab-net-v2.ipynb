{
 "cells": [
  {
   "cell_type": "code",
   "execution_count": 1,
   "metadata": {},
   "outputs": [],
   "source": [
    "import os\n",
    "from cadtoolkit.pc2g import CoronaryGraph, _read_centerlines_txt\n"
   ]
  },
  {
   "cell_type": "code",
   "execution_count": 2,
   "metadata": {},
   "outputs": [
    {
     "data": {
      "text/plain": [
       "{'xyz': [1, 2, 3],\n",
       " 'id': 0,\n",
       " 'sep': ' ',\n",
       " 'presmooth_iterations': 100,\n",
       " 'presmooth_passband': 0.1,\n",
       " 'group': True,\n",
       " 'merge': True,\n",
       " 'convert_cell_data': True,\n",
       " 'postsmooth_iterations': 100,\n",
       " 'postsmooth_passband': 0.1}"
      ]
     },
     "execution_count": 2,
     "metadata": {},
     "output_type": "execute_result"
    }
   ],
   "source": [
    "from cadtoolkit.cfg import Config; Config.pc2g"
   ]
  },
  {
   "cell_type": "code",
   "execution_count": 110,
   "metadata": {},
   "outputs": [],
   "source": [
    "path = \"../cartesian_data/\" # change this path\n",
    "\n",
    "files = os.listdir(path)\n",
    "if not os.path.exists('graphs'):\n",
    "    os.makedirs('graphs')"
   ]
  },
  {
   "cell_type": "code",
   "execution_count": null,
   "metadata": {},
   "outputs": [],
   "source": [
    "# print(files)\n",
    "# print(files[0])\n",
    "# f= files[0]"
   ]
  },
  {
   "cell_type": "code",
   "execution_count": 111,
   "metadata": {},
   "outputs": [
    {
     "name": "stdout",
     "output_type": "stream",
     "text": [
      "converting points\n",
      "converting point data\n",
      "converting cell data\n",
      "Writing VTK XML surface file.\n"
     ]
    },
    {
     "name": "stderr",
     "output_type": "stream",
     "text": [
      "/home/561/qp2123/miniconda3/envs/treelstm/lib/python3.7/site-packages/vmtk/vmtknumpytocenterlines.py:61: FutureWarning: Conversion of the second argument of issubdtype from `float` to `np.floating` is deprecated. In future, it will be treated as `np.float64 == np.dtype(float).type`.\n",
      "  if np.issubdtype(self.ArrayDict['PointData'][pointKey].dtype, float):\n",
      "/home/561/qp2123/miniconda3/envs/treelstm/lib/python3.7/site-packages/vmtk/vmtknumpytocenterlines.py:65: FutureWarning: Conversion of the second argument of issubdtype from `int` to `np.signedinteger` is deprecated. In future, it will be treated as `np.int64 == np.dtype(int).type`.\n",
      "  if np.issubdtype(self.ArrayDict['PointData'][pointKey].dtype, checkDt):\n"
     ]
    },
    {
     "name": "stdout",
     "output_type": "stream",
     "text": [
      "converting points\n",
      "converting point data\n",
      "converting cell data\n",
      "Writing VTK XML surface file.\n",
      "converting points\n",
      "converting point data\n",
      "converting cell data\n",
      "Writing VTK XML surface file.\n",
      "converting points\n",
      "converting point data\n",
      "converting cell data\n",
      "Writing VTK XML surface file.\n",
      "converting points\n",
      "converting point data\n",
      "converting cell data\n",
      "Writing VTK XML surface file.\n"
     ]
    },
    {
     "name": "stderr",
     "output_type": "stream",
     "text": [
      "ERROR:root:Internal Python error in the inspect module.\n",
      "Below is the traceback from this internal error.\n",
      "\n"
     ]
    },
    {
     "name": "stdout",
     "output_type": "stream",
     "text": [
      "Traceback (most recent call last):\n",
      "  File \"/home/561/qp2123/miniconda3/envs/treelstm/lib/python3.7/site-packages/IPython/core/interactiveshell.py\", line 3417, in run_code\n",
      "    exec(code_obj, self.user_global_ns, self.user_ns)\n",
      "  File \"<ipython-input-111-aae3f6edc256>\", line 4, in <module>\n",
      "    updated_g = g.from_txt(os.path.join(path, f))\n",
      "  File \"/home/561/qp2123/CADToolkit/cadtoolkit/pc2g.py\", line 30, in from_txt\n",
      "    centerline = _read_centerlines_txt(path, merge=True)\n",
      "  File \"/home/561/qp2123/CADToolkit/cadtoolkit/cfg.py\", line 27, in inner\n",
      "    return func(*args, **kwargs)\n",
      "  File \"/home/561/qp2123/CADToolkit/cadtoolkit/pc2g.py\", line 237, in _read_centerlines_txt\n",
      "    centerline = ctr_group(centerline, 'Radius')\n",
      "  File \"/home/561/qp2123/CADToolkit/cadtoolkit/setup.py\", line 137, in ctr_group\n",
      "    op.Update()\n",
      "KeyboardInterrupt\n",
      "\n",
      "During handling of the above exception, another exception occurred:\n",
      "\n",
      "Traceback (most recent call last):\n",
      "  File \"/home/561/qp2123/miniconda3/envs/treelstm/lib/python3.7/site-packages/IPython/core/interactiveshell.py\", line 2044, in showtraceback\n",
      "    stb = value._render_traceback_()\n",
      "AttributeError: 'KeyboardInterrupt' object has no attribute '_render_traceback_'\n",
      "\n",
      "During handling of the above exception, another exception occurred:\n",
      "\n",
      "Traceback (most recent call last):\n",
      "  File \"/home/561/qp2123/miniconda3/envs/treelstm/lib/python3.7/site-packages/IPython/core/ultratb.py\", line 1169, in get_records\n",
      "    return _fixed_getinnerframes(etb, number_of_lines_of_context, tb_offset)\n",
      "  File \"/home/561/qp2123/miniconda3/envs/treelstm/lib/python3.7/site-packages/IPython/core/ultratb.py\", line 316, in wrapped\n",
      "    return f(*args, **kwargs)\n",
      "  File \"/home/561/qp2123/miniconda3/envs/treelstm/lib/python3.7/site-packages/IPython/core/ultratb.py\", line 350, in _fixed_getinnerframes\n",
      "    records = fix_frame_records_filenames(inspect.getinnerframes(etb, context))\n",
      "  File \"/home/561/qp2123/miniconda3/envs/treelstm/lib/python3.7/inspect.py\", line 1502, in getinnerframes\n",
      "    frameinfo = (tb.tb_frame,) + getframeinfo(tb, context)\n",
      "  File \"/home/561/qp2123/miniconda3/envs/treelstm/lib/python3.7/inspect.py\", line 1464, in getframeinfo\n",
      "    lines, lnum = findsource(frame)\n",
      "  File \"/home/561/qp2123/miniconda3/envs/treelstm/lib/python3.7/site-packages/IPython/core/ultratb.py\", line 182, in findsource\n",
      "    lines = linecache.getlines(file, globals_dict)\n",
      "  File \"/home/561/qp2123/miniconda3/envs/treelstm/lib/python3.7/linecache.py\", line 47, in getlines\n",
      "    return updatecache(filename, module_globals)\n",
      "  File \"/home/561/qp2123/miniconda3/envs/treelstm/lib/python3.7/linecache.py\", line 136, in updatecache\n",
      "    with tokenize.open(fullname) as fp:\n",
      "  File \"/home/561/qp2123/miniconda3/envs/treelstm/lib/python3.7/tokenize.py\", line 449, in open\n",
      "    encoding, lines = detect_encoding(buffer.readline)\n",
      "  File \"/home/561/qp2123/miniconda3/envs/treelstm/lib/python3.7/tokenize.py\", line 418, in detect_encoding\n",
      "    first = read_or_stop()\n",
      "  File \"/home/561/qp2123/miniconda3/envs/treelstm/lib/python3.7/tokenize.py\", line 376, in read_or_stop\n",
      "    return readline()\n",
      "KeyboardInterrupt\n"
     ]
    },
    {
     "ename": "TypeError",
     "evalue": "object of type 'NoneType' has no len()",
     "output_type": "error",
     "traceback": [
      "\u001b[0;31m---------------------------------------------------------------------------\u001b[0m",
      "\u001b[0;31mKeyboardInterrupt\u001b[0m                         Traceback (most recent call last)",
      "    \u001b[0;31m[... skipping hidden 1 frame]\u001b[0m\n",
      "\u001b[0;32m<ipython-input-111-aae3f6edc256>\u001b[0m in \u001b[0;36m<module>\u001b[0;34m\u001b[0m\n\u001b[1;32m      3\u001b[0m     \u001b[0mg\u001b[0m \u001b[0;34m=\u001b[0m \u001b[0mCoronaryGraph\u001b[0m\u001b[0;34m(\u001b[0m\u001b[0;34m)\u001b[0m \u001b[0;31m# creates empty graph 'g'\u001b[0m\u001b[0;34m\u001b[0m\u001b[0;34m\u001b[0m\u001b[0m\n\u001b[0;32m----> 4\u001b[0;31m     \u001b[0mupdated_g\u001b[0m \u001b[0;34m=\u001b[0m \u001b[0mg\u001b[0m\u001b[0;34m.\u001b[0m\u001b[0mfrom_txt\u001b[0m\u001b[0;34m(\u001b[0m\u001b[0mos\u001b[0m\u001b[0;34m.\u001b[0m\u001b[0mpath\u001b[0m\u001b[0;34m.\u001b[0m\u001b[0mjoin\u001b[0m\u001b[0;34m(\u001b[0m\u001b[0mpath\u001b[0m\u001b[0;34m,\u001b[0m \u001b[0mf\u001b[0m\u001b[0;34m)\u001b[0m\u001b[0;34m)\u001b[0m\u001b[0;34m\u001b[0m\u001b[0;34m\u001b[0m\u001b[0m\n\u001b[0m\u001b[1;32m      5\u001b[0m \u001b[0;34m\u001b[0m\u001b[0m\n",
      "\u001b[0;32m~/CADToolkit/cadtoolkit/pc2g.py\u001b[0m in \u001b[0;36mfrom_txt\u001b[0;34m(cls, path)\u001b[0m\n\u001b[1;32m     29\u001b[0m \t\t\"\"\"\n\u001b[0;32m---> 30\u001b[0;31m                 \u001b[0mcenterline\u001b[0m \u001b[0;34m=\u001b[0m \u001b[0m_read_centerlines_txt\u001b[0m\u001b[0;34m(\u001b[0m\u001b[0mpath\u001b[0m\u001b[0;34m,\u001b[0m \u001b[0mmerge\u001b[0m\u001b[0;34m=\u001b[0m\u001b[0;32mTrue\u001b[0m\u001b[0;34m)\u001b[0m\u001b[0;34m\u001b[0m\u001b[0;34m\u001b[0m\u001b[0m\n\u001b[0m\u001b[1;32m     31\u001b[0m                 \u001b[0marr\u001b[0m \u001b[0;34m=\u001b[0m \u001b[0mctr_vtp2npy\u001b[0m\u001b[0;34m(\u001b[0m\u001b[0mcenterline\u001b[0m\u001b[0;34m)\u001b[0m\u001b[0;34m\u001b[0m\u001b[0;34m\u001b[0m\u001b[0m\n",
      "\u001b[0;32m~/CADToolkit/cadtoolkit/cfg.py\u001b[0m in \u001b[0;36minner\u001b[0;34m(*args, **kwargs)\u001b[0m\n\u001b[1;32m     26\u001b[0m                                         \u001b[0mkwargs\u001b[0m\u001b[0;34m[\u001b[0m\u001b[0mk\u001b[0m\u001b[0;34m]\u001b[0m \u001b[0;34m=\u001b[0m \u001b[0mconfig\u001b[0m\u001b[0;34m.\u001b[0m\u001b[0mget\u001b[0m\u001b[0;34m(\u001b[0m\u001b[0mk\u001b[0m\u001b[0;34m,\u001b[0m \u001b[0;32mNone\u001b[0m\u001b[0;34m)\u001b[0m\u001b[0;34m\u001b[0m\u001b[0;34m\u001b[0m\u001b[0m\n\u001b[0;32m---> 27\u001b[0;31m                         \u001b[0;32mreturn\u001b[0m \u001b[0mfunc\u001b[0m\u001b[0;34m(\u001b[0m\u001b[0;34m*\u001b[0m\u001b[0margs\u001b[0m\u001b[0;34m,\u001b[0m \u001b[0;34m**\u001b[0m\u001b[0mkwargs\u001b[0m\u001b[0;34m)\u001b[0m\u001b[0;34m\u001b[0m\u001b[0;34m\u001b[0m\u001b[0m\n\u001b[0m\u001b[1;32m     28\u001b[0m \u001b[0;34m\u001b[0m\u001b[0m\n",
      "\u001b[0;32m~/CADToolkit/cadtoolkit/pc2g.py\u001b[0m in \u001b[0;36m_read_centerlines_txt\u001b[0;34m(path, ofile, presmooth_iterations, presmooth_passband, group, merge, convert_cell_data, postsmooth_iterations, postsmooth_passband)\u001b[0m\n\u001b[1;32m    236\u001b[0m         \u001b[0;32mif\u001b[0m \u001b[0mgroup\u001b[0m\u001b[0;34m:\u001b[0m\u001b[0;34m\u001b[0m\u001b[0;34m\u001b[0m\u001b[0m\n\u001b[0;32m--> 237\u001b[0;31m                 \u001b[0mcenterline\u001b[0m \u001b[0;34m=\u001b[0m \u001b[0mctr_group\u001b[0m\u001b[0;34m(\u001b[0m\u001b[0mcenterline\u001b[0m\u001b[0;34m,\u001b[0m \u001b[0;34m'Radius'\u001b[0m\u001b[0;34m)\u001b[0m\u001b[0;34m\u001b[0m\u001b[0;34m\u001b[0m\u001b[0m\n\u001b[0m\u001b[1;32m    238\u001b[0m         \u001b[0;32mif\u001b[0m \u001b[0mmerge\u001b[0m\u001b[0;34m:\u001b[0m\u001b[0;34m\u001b[0m\u001b[0;34m\u001b[0m\u001b[0m\n",
      "\u001b[0;32m~/CADToolkit/cadtoolkit/setup.py\u001b[0m in \u001b[0;36mctr_group\u001b[0;34m(centerlines, radius_array)\u001b[0m\n\u001b[1;32m    136\u001b[0m         \u001b[0mop\u001b[0m\u001b[0;34m.\u001b[0m\u001b[0mSetTractIdsArrayName\u001b[0m\u001b[0;34m(\u001b[0m\u001b[0;34m'TractIds'\u001b[0m\u001b[0;34m)\u001b[0m\u001b[0;34m\u001b[0m\u001b[0;34m\u001b[0m\u001b[0m\n\u001b[0;32m--> 137\u001b[0;31m         \u001b[0mop\u001b[0m\u001b[0;34m.\u001b[0m\u001b[0mUpdate\u001b[0m\u001b[0;34m(\u001b[0m\u001b[0;34m)\u001b[0m\u001b[0;34m\u001b[0m\u001b[0;34m\u001b[0m\u001b[0m\n\u001b[0m\u001b[1;32m    138\u001b[0m         \u001b[0mout\u001b[0m \u001b[0;34m=\u001b[0m \u001b[0mop\u001b[0m\u001b[0;34m.\u001b[0m\u001b[0mGetOutput\u001b[0m\u001b[0;34m(\u001b[0m\u001b[0;34m)\u001b[0m\u001b[0;34m\u001b[0m\u001b[0;34m\u001b[0m\u001b[0m\n",
      "\u001b[0;31mKeyboardInterrupt\u001b[0m: ",
      "\nDuring handling of the above exception, another exception occurred:\n",
      "\u001b[0;31mAttributeError\u001b[0m                            Traceback (most recent call last)",
      "\u001b[0;32m~/miniconda3/envs/treelstm/lib/python3.7/site-packages/IPython/core/interactiveshell.py\u001b[0m in \u001b[0;36mshowtraceback\u001b[0;34m(self, exc_tuple, filename, tb_offset, exception_only, running_compiled_code)\u001b[0m\n\u001b[1;32m   2043\u001b[0m                         \u001b[0;31m# in the engines. This should return a list of strings.\u001b[0m\u001b[0;34m\u001b[0m\u001b[0;34m\u001b[0m\u001b[0;34m\u001b[0m\u001b[0m\n\u001b[0;32m-> 2044\u001b[0;31m                         \u001b[0mstb\u001b[0m \u001b[0;34m=\u001b[0m \u001b[0mvalue\u001b[0m\u001b[0;34m.\u001b[0m\u001b[0m_render_traceback_\u001b[0m\u001b[0;34m(\u001b[0m\u001b[0;34m)\u001b[0m\u001b[0;34m\u001b[0m\u001b[0;34m\u001b[0m\u001b[0m\n\u001b[0m\u001b[1;32m   2045\u001b[0m                     \u001b[0;32mexcept\u001b[0m \u001b[0mException\u001b[0m\u001b[0;34m:\u001b[0m\u001b[0;34m\u001b[0m\u001b[0;34m\u001b[0m\u001b[0m\n",
      "\u001b[0;31mAttributeError\u001b[0m: 'KeyboardInterrupt' object has no attribute '_render_traceback_'",
      "\nDuring handling of the above exception, another exception occurred:\n",
      "\u001b[0;31mTypeError\u001b[0m                                 Traceback (most recent call last)",
      "    \u001b[0;31m[... skipping hidden 1 frame]\u001b[0m\n",
      "\u001b[0;32m~/miniconda3/envs/treelstm/lib/python3.7/site-packages/IPython/core/interactiveshell.py\u001b[0m in \u001b[0;36mshowtraceback\u001b[0;34m(self, exc_tuple, filename, tb_offset, exception_only, running_compiled_code)\u001b[0m\n\u001b[1;32m   2045\u001b[0m                     \u001b[0;32mexcept\u001b[0m \u001b[0mException\u001b[0m\u001b[0;34m:\u001b[0m\u001b[0;34m\u001b[0m\u001b[0;34m\u001b[0m\u001b[0m\n\u001b[1;32m   2046\u001b[0m                         stb = self.InteractiveTB.structured_traceback(etype,\n\u001b[0;32m-> 2047\u001b[0;31m                                             value, tb, tb_offset=tb_offset)\n\u001b[0m\u001b[1;32m   2048\u001b[0m \u001b[0;34m\u001b[0m\u001b[0m\n\u001b[1;32m   2049\u001b[0m                     \u001b[0mself\u001b[0m\u001b[0;34m.\u001b[0m\u001b[0m_showtraceback\u001b[0m\u001b[0;34m(\u001b[0m\u001b[0metype\u001b[0m\u001b[0;34m,\u001b[0m \u001b[0mvalue\u001b[0m\u001b[0;34m,\u001b[0m \u001b[0mstb\u001b[0m\u001b[0;34m)\u001b[0m\u001b[0;34m\u001b[0m\u001b[0;34m\u001b[0m\u001b[0m\n",
      "\u001b[0;32m~/miniconda3/envs/treelstm/lib/python3.7/site-packages/IPython/core/ultratb.py\u001b[0m in \u001b[0;36mstructured_traceback\u001b[0;34m(self, etype, value, tb, tb_offset, number_of_lines_of_context)\u001b[0m\n\u001b[1;32m   1434\u001b[0m             \u001b[0mself\u001b[0m\u001b[0;34m.\u001b[0m\u001b[0mtb\u001b[0m \u001b[0;34m=\u001b[0m \u001b[0mtb\u001b[0m\u001b[0;34m\u001b[0m\u001b[0;34m\u001b[0m\u001b[0m\n\u001b[1;32m   1435\u001b[0m         return FormattedTB.structured_traceback(\n\u001b[0;32m-> 1436\u001b[0;31m             self, etype, value, tb, tb_offset, number_of_lines_of_context)\n\u001b[0m\u001b[1;32m   1437\u001b[0m \u001b[0;34m\u001b[0m\u001b[0m\n\u001b[1;32m   1438\u001b[0m \u001b[0;34m\u001b[0m\u001b[0m\n",
      "\u001b[0;32m~/miniconda3/envs/treelstm/lib/python3.7/site-packages/IPython/core/ultratb.py\u001b[0m in \u001b[0;36mstructured_traceback\u001b[0;34m(self, etype, value, tb, tb_offset, number_of_lines_of_context)\u001b[0m\n\u001b[1;32m   1334\u001b[0m             \u001b[0;31m# Verbose modes need a full traceback\u001b[0m\u001b[0;34m\u001b[0m\u001b[0;34m\u001b[0m\u001b[0;34m\u001b[0m\u001b[0m\n\u001b[1;32m   1335\u001b[0m             return VerboseTB.structured_traceback(\n\u001b[0;32m-> 1336\u001b[0;31m                 \u001b[0mself\u001b[0m\u001b[0;34m,\u001b[0m \u001b[0metype\u001b[0m\u001b[0;34m,\u001b[0m \u001b[0mvalue\u001b[0m\u001b[0;34m,\u001b[0m \u001b[0mtb\u001b[0m\u001b[0;34m,\u001b[0m \u001b[0mtb_offset\u001b[0m\u001b[0;34m,\u001b[0m \u001b[0mnumber_of_lines_of_context\u001b[0m\u001b[0;34m\u001b[0m\u001b[0;34m\u001b[0m\u001b[0m\n\u001b[0m\u001b[1;32m   1337\u001b[0m             )\n\u001b[1;32m   1338\u001b[0m         \u001b[0;32melif\u001b[0m \u001b[0mmode\u001b[0m \u001b[0;34m==\u001b[0m \u001b[0;34m'Minimal'\u001b[0m\u001b[0;34m:\u001b[0m\u001b[0;34m\u001b[0m\u001b[0;34m\u001b[0m\u001b[0m\n",
      "\u001b[0;32m~/miniconda3/envs/treelstm/lib/python3.7/site-packages/IPython/core/ultratb.py\u001b[0m in \u001b[0;36mstructured_traceback\u001b[0;34m(self, etype, evalue, etb, tb_offset, number_of_lines_of_context)\u001b[0m\n\u001b[1;32m   1191\u001b[0m \u001b[0;34m\u001b[0m\u001b[0m\n\u001b[1;32m   1192\u001b[0m         formatted_exception = self.format_exception_as_a_whole(etype, evalue, etb, number_of_lines_of_context,\n\u001b[0;32m-> 1193\u001b[0;31m                                                                tb_offset)\n\u001b[0m\u001b[1;32m   1194\u001b[0m \u001b[0;34m\u001b[0m\u001b[0m\n\u001b[1;32m   1195\u001b[0m         \u001b[0mcolors\u001b[0m \u001b[0;34m=\u001b[0m \u001b[0mself\u001b[0m\u001b[0;34m.\u001b[0m\u001b[0mColors\u001b[0m  \u001b[0;31m# just a shorthand + quicker name lookup\u001b[0m\u001b[0;34m\u001b[0m\u001b[0;34m\u001b[0m\u001b[0m\n",
      "\u001b[0;32m~/miniconda3/envs/treelstm/lib/python3.7/site-packages/IPython/core/ultratb.py\u001b[0m in \u001b[0;36mformat_exception_as_a_whole\u001b[0;34m(self, etype, evalue, etb, number_of_lines_of_context, tb_offset)\u001b[0m\n\u001b[1;32m   1148\u001b[0m \u001b[0;34m\u001b[0m\u001b[0m\n\u001b[1;32m   1149\u001b[0m \u001b[0;34m\u001b[0m\u001b[0m\n\u001b[0;32m-> 1150\u001b[0;31m         \u001b[0mlast_unique\u001b[0m\u001b[0;34m,\u001b[0m \u001b[0mrecursion_repeat\u001b[0m \u001b[0;34m=\u001b[0m \u001b[0mfind_recursion\u001b[0m\u001b[0;34m(\u001b[0m\u001b[0morig_etype\u001b[0m\u001b[0;34m,\u001b[0m \u001b[0mevalue\u001b[0m\u001b[0;34m,\u001b[0m \u001b[0mrecords\u001b[0m\u001b[0;34m)\u001b[0m\u001b[0;34m\u001b[0m\u001b[0;34m\u001b[0m\u001b[0m\n\u001b[0m\u001b[1;32m   1151\u001b[0m \u001b[0;34m\u001b[0m\u001b[0m\n\u001b[1;32m   1152\u001b[0m         \u001b[0mframes\u001b[0m \u001b[0;34m=\u001b[0m \u001b[0mself\u001b[0m\u001b[0;34m.\u001b[0m\u001b[0mformat_records\u001b[0m\u001b[0;34m(\u001b[0m\u001b[0mrecords\u001b[0m\u001b[0;34m,\u001b[0m \u001b[0mlast_unique\u001b[0m\u001b[0;34m,\u001b[0m \u001b[0mrecursion_repeat\u001b[0m\u001b[0;34m)\u001b[0m\u001b[0;34m\u001b[0m\u001b[0;34m\u001b[0m\u001b[0m\n",
      "\u001b[0;32m~/miniconda3/envs/treelstm/lib/python3.7/site-packages/IPython/core/ultratb.py\u001b[0m in \u001b[0;36mfind_recursion\u001b[0;34m(etype, value, records)\u001b[0m\n\u001b[1;32m    449\u001b[0m     \u001b[0;31m# first frame (from in to out) that looks different.\u001b[0m\u001b[0;34m\u001b[0m\u001b[0;34m\u001b[0m\u001b[0;34m\u001b[0m\u001b[0m\n\u001b[1;32m    450\u001b[0m     \u001b[0;32mif\u001b[0m \u001b[0;32mnot\u001b[0m \u001b[0mis_recursion_error\u001b[0m\u001b[0;34m(\u001b[0m\u001b[0metype\u001b[0m\u001b[0;34m,\u001b[0m \u001b[0mvalue\u001b[0m\u001b[0;34m,\u001b[0m \u001b[0mrecords\u001b[0m\u001b[0;34m)\u001b[0m\u001b[0;34m:\u001b[0m\u001b[0;34m\u001b[0m\u001b[0;34m\u001b[0m\u001b[0m\n\u001b[0;32m--> 451\u001b[0;31m         \u001b[0;32mreturn\u001b[0m \u001b[0mlen\u001b[0m\u001b[0;34m(\u001b[0m\u001b[0mrecords\u001b[0m\u001b[0;34m)\u001b[0m\u001b[0;34m,\u001b[0m \u001b[0;36m0\u001b[0m\u001b[0;34m\u001b[0m\u001b[0;34m\u001b[0m\u001b[0m\n\u001b[0m\u001b[1;32m    452\u001b[0m \u001b[0;34m\u001b[0m\u001b[0m\n\u001b[1;32m    453\u001b[0m     \u001b[0;31m# Select filename, lineno, func_name to track frames with\u001b[0m\u001b[0;34m\u001b[0m\u001b[0;34m\u001b[0m\u001b[0;34m\u001b[0m\u001b[0m\n",
      "\u001b[0;31mTypeError\u001b[0m: object of type 'NoneType' has no len()"
     ]
    }
   ],
   "source": [
    "for f in files: # uncomment this when sure its working...\n",
    "\n",
    "    g = CoronaryGraph() # creates empty graph 'g'\n",
    "    updated_g = g.from_txt(os.path.join(path, f))\n",
    "\n",
    "    # Save the CoronaryGraph() object\n",
    "    f_without_ext = os.path.splitext(f)[0] # remove .txt extension\n",
    "    updated_g.sg=None\n",
    "    updated_g.save(f\"graphs/{f_without_ext}\")"
   ]
  },
  {
   "cell_type": "code",
   "execution_count": null,
   "metadata": {},
   "outputs": [],
   "source": [
    "print(f\"Start: {updated_g.startpts()}\")\n",
    "print(f\"Bifs: {updated_g.bifurcations()}\")\n",
    "# print(f\"Inner: {points.inner_points()}\")\n",
    "print(f\"End: {updated_g.endpoints()}\")\n"
   ]
  },
  {
   "cell_type": "code",
   "execution_count": null,
   "metadata": {},
   "outputs": [],
   "source": [
    "# for idx, val in updated_g.nodes.items():\n",
    "#     print(idx, val)"
   ]
  },
  {
   "cell_type": "code",
   "execution_count": null,
   "metadata": {},
   "outputs": [],
   "source": [
    "# Showing info for random points\n",
    "print(updated_g.nodes[0])\n",
    "print(updated_g.nodes[10])"
   ]
  },
  {
   "cell_type": "code",
   "execution_count": null,
   "metadata": {},
   "outputs": [],
   "source": [
    "# Plot graph \n",
    "\n",
    "# import networkx as nx\n",
    "# from networkx.drawing.nx_agraph import graphviz_layout\n",
    "# import matplotlib.pyplot as plt\n",
    "\n",
    "# skeleton_graph = updated_g.collapse_intermediates()\n",
    "# plt.title('Coronary Map')\n",
    "# pos=graphviz_layout(skeleton_graph, prog='dot')\n",
    "# nx.draw(skeleton_graph, pos, with_labels=True, arrows=True) # good\n",
    "# plt.savefig('nx_test.png')"
   ]
  },
  {
   "cell_type": "code",
   "execution_count": 3,
   "metadata": {},
   "outputs": [
    {
     "name": "stdout",
     "output_type": "stream",
     "text": [
      "1.6.0\n",
      "10.2\n",
      "True\n"
     ]
    }
   ],
   "source": [
    "# Attempt to create Graph dataset\n",
    "import torch\n",
    "from torch_geometric.data import Data, DataLoader\n",
    "\n",
    "print(torch.__version__)\n",
    "print(torch.version.cuda)\n",
    "print(torch.cuda.is_available())"
   ]
  },
  {
   "cell_type": "code",
   "execution_count": 114,
   "metadata": {},
   "outputs": [
    {
     "name": "stdout",
     "output_type": "stream",
     "text": [
      "Processing...\n",
      "Done!\n"
     ]
    }
   ],
   "source": [
    "from torch_geometric.utils import from_networkx\n",
    "from torch_geometric.data import InMemoryDataset # base class\n",
    "\n",
    "class GraphDataset(InMemoryDataset): # subclass from base class\n",
    "    \n",
    "    num_classes = 10\n",
    "    num_node_features = 3\n",
    "    \n",
    "    def __init__(self, root, transform=None, pre_transform=None):\n",
    "        # calling super class\n",
    "        super(GraphDataset,self).__init__(root, transform, pre_transform) \n",
    "        self.data, self.slices = torch.load(self.processed_paths[0])\n",
    "\n",
    "    @property\n",
    "    def raw_file_names(self):\n",
    "        return [f\"{self.root}\"] # like calling super variables in Java\n",
    "\n",
    "    @property\n",
    "    def processed_file_names(self):\n",
    "        return ['processed']\n",
    "\n",
    "    def download(self):\n",
    "        # Download to `self.raw_dir`.\n",
    "        pass\n",
    "    \n",
    "    def process(self):\n",
    "        # Read data into huge `Data` list.\n",
    "\n",
    "        data_list = []\n",
    "\n",
    "        files = os.listdir(\"graphs\")\n",
    "        for f in files:\n",
    "\n",
    "            if f == \".ipynb_checkpoints\": continue\n",
    "\n",
    "            a = CoronaryGraph() # another empty graph\n",
    "            loadedGraph = a.load(f\"graphs/{f}\")\n",
    "            skeleton_graph = loadedGraph.collapse_intermediates()\n",
    "            data = from_networkx(skeleton_graph)\n",
    "            data.y = data.ids\n",
    "            data_list.append(data)\n",
    "\n",
    "#             print(f\"{f} \\n {data}\")\n",
    "\n",
    "        if self.pre_filter is not None:\n",
    "            data_list = [data for data in data_list if self.pre_filter(data)]\n",
    "\n",
    "        if self.pre_transform is not None:\n",
    "            data_list = [self.pre_transform(data) for data in data_list]\n",
    "\n",
    "        data, slices = self.collate(data_list)\n",
    "        torch.save((data, slices), self.processed_paths[0])\n",
    "\n",
    "all_data = GraphDataset(root=\"all\")\n"
   ]
  },
  {
   "cell_type": "code",
   "execution_count": 115,
   "metadata": {},
   "outputs": [
    {
     "name": "stdout",
     "output_type": "stream",
     "text": [
      "8 2\n"
     ]
    }
   ],
   "source": [
    "# Split train and test data\n",
    "import numpy as np\n",
    "\n",
    "all_data = all_data.shuffle()\n",
    "\n",
    "train_ratio = 0.8\n",
    "threshold = int(train_ratio*len(all_data))\n",
    "\n",
    "train_data, val_data = all_data[:threshold], all_data[threshold:]\n",
    "\n",
    "print(len(train_data), len(val_data))"
   ]
  },
  {
   "cell_type": "code",
   "execution_count": 116,
   "metadata": {},
   "outputs": [
    {
     "name": "stdout",
     "output_type": "stream",
     "text": [
      "cuda\n"
     ]
    }
   ],
   "source": [
    "device = torch.device('cuda' if torch.cuda.is_available() else 'cpu')\n",
    "print(device)"
   ]
  },
  {
   "cell_type": "code",
   "execution_count": 117,
   "metadata": {},
   "outputs": [],
   "source": [
    "import torch.nn.functional as F\n",
    "from torch_geometric.nn import GCNConv\n",
    "import torch.nn as nn\n",
    "\n",
    "class GraphCNN(nn.Module):\n",
    "    def __init__(self):\n",
    "        super(GraphCNN, self).__init__()\n",
    "        self.conv1 = GCNConv(train_data.num_node_features, 16)\n",
    "        self.conv2 = GCNConv(16, train_data.num_classes)\n",
    "\n",
    "    def forward(self, data):\n",
    "        x, edge_index = data.loc, data.edge_index\n",
    "        x = self.conv1(x, edge_index)\n",
    "        x = F.relu(x)\n",
    "        x = F.dropout(x, training=self.training)\n",
    "        \n",
    "        x = self.conv2(x, edge_index)\n",
    "        return x\n",
    "\n",
    "\n",
    "class TreeLabNet(torch.nn.Module):\n",
    "    def __init__(self, hidden_dim, emb_dim=100, num_linear=1):\n",
    "        super().__init__()\n",
    "        \n",
    "        self.cnn=GraphCNN()\n",
    "        \n",
    "        # hidden and cell states for LSTM\n",
    "#         self.h = torch.randn(1, 1, hidden_dim).to(device) \n",
    "#         self.c = torch.randn(1, 1, hidden_dim).to(device)\n",
    "        self.lstm=nn.LSTM(\n",
    "            input_size=emb_dim, \n",
    "            hidden_size=hidden_dim, \n",
    "            num_layers=1)    \n",
    "        \n",
    "        # fc layers\n",
    "        self.fc1 = nn.Linear(128, 64) #flattening.\n",
    "        self.fc2 = nn.Linear(64, train_data.num_classes) # 64 in, 9 out bc we're doing 9 classes \n",
    "\n",
    "    def forward(self, x): # used to be data\n",
    "        \n",
    "        x = self.cnn(x)\n",
    "        \n",
    "        x = x.view(-1, 1, x.shape[1])\n",
    "#         print(x.shape)\n",
    "        lstm_out, (h,c) = self.lstm(x)\n",
    "#         print(lstm_out[0:3])\n",
    "#         dim = .shape[1]*x.shape[2]\n",
    "#         lstm_out = lstm_out.view(-1, dim) \n",
    "# #         print(x.shape)\n",
    "        lstm_out = self.fc1(lstm_out)\n",
    "        lstm_out = F.relu(lstm_out)\n",
    "        \n",
    "        lstm_out = self.fc2(lstm_out)\n",
    "        \n",
    "        dim = lstm_out.shape[1]*lstm_out.shape[2]\n",
    "        lstm_out = lstm_out.view(-1, dim) \n",
    "\n",
    "        return F.log_softmax(lstm_out, dim=1)"
   ]
  },
  {
   "cell_type": "code",
   "execution_count": 122,
   "metadata": {},
   "outputs": [],
   "source": [
    "torch.autograd.set_detect_anomaly(True) # checks code location that breaks \n",
    "em_sz = 10\n",
    "nh = 128 # no of hidden units for lstm\n",
    "nl = 3\n",
    "model = TreeLabNet(nh, emb_dim=em_sz).to(device)\n",
    "trainloader = DataLoader(train_data, batch_size=2) # adjust batch size\n",
    "valloader = DataLoader(val_data, batch_size=2) # adjust batch size\n",
    "\n",
    "optimizer = torch.optim.Adam(model.parameters(), lr=0.01, weight_decay=5e-4) "
   ]
  },
  {
   "cell_type": "code",
   "execution_count": 123,
   "metadata": {},
   "outputs": [],
   "source": [
    "def train():\n",
    "    model.train()\n",
    "    \n",
    "    sumCorrect = 0\n",
    "    sumTotal = 0 \n",
    "    running_loss = 0\n",
    "    for data in trainloader:\n",
    "\n",
    "        optimizer.zero_grad()\n",
    "\n",
    "        data = data.to(device)\n",
    "        out = model(data)\n",
    "\n",
    "        _, predicted = torch.max(out.data, 1)\n",
    "\n",
    "        # Loss\n",
    "        loss = F.nll_loss(out, data.ids.long())\n",
    "        running_loss += loss.item()\n",
    "\n",
    "        # Accuracy\n",
    "        sumCorrect += (predicted == data.ids).sum().item()\n",
    "        sumTotal += data.ids.size(0)\n",
    "\n",
    "        loss.backward(retain_graph=True)\n",
    "        optimizer.step()\n",
    "\n",
    "    total_loss_per_epoch = round(running_loss/len(train_data), 3)\n",
    "    acc = round(sumCorrect/sumTotal, 3)\n",
    "\n",
    "    return acc, total_loss_per_epoch\n",
    "#         print(f\"Epoch {epoch+1} ----- Accuracy: {acc} Loss: {total_loss_per_epoch}\")"
   ]
  },
  {
   "cell_type": "code",
   "execution_count": 124,
   "metadata": {},
   "outputs": [],
   "source": [
    "def evaluate():\n",
    "    model.eval()\n",
    "    \n",
    "    sumCorrect = 0\n",
    "    sumTotal = 0 \n",
    "    running_loss = 0\n",
    "    with torch.no_grad():\n",
    "        for data in valloader:\n",
    "            data = data.to(device)\n",
    "            out = model(data)\n",
    "    #         print(out.data.shape)\n",
    "\n",
    "            _, predicted = torch.max(out.data, 1)\n",
    "\n",
    "            # Loss\n",
    "            loss = F.nll_loss(out, data.ids.long())\n",
    "            running_loss += loss.item()\n",
    "\n",
    "            loss = F.nll_loss(out, data.ids.long())\n",
    "            running_loss += loss.item()\n",
    "\n",
    "            # Accuracy\n",
    "            sumCorrect += (predicted == data.ids).sum().item()\n",
    "            sumTotal += data.ids.size(0)\n",
    "\n",
    "#             loss.backward(retain_graph=True)\n",
    "    total_loss_per_epoch = round(running_loss/len(train_data), 3)\n",
    "    acc = round(sumCorrect/sumTotal, 3)\n",
    "    return acc, total_loss_per_epoch\n",
    "    "
   ]
  },
  {
   "cell_type": "code",
   "execution_count": 133,
   "metadata": {},
   "outputs": [
    {
     "name": "stdout",
     "output_type": "stream",
     "text": [
      "Epoch 1 --- Train Acc: 0.99 Train Loss: 0.048 Val Acc: 0.562 Val Loss: 0.578\n",
      "Epoch 2 --- Train Acc: 0.98 Train Loss: 0.036 Val Acc: 0.562 Val Loss: 0.601\n",
      "Epoch 3 --- Train Acc: 0.959 Train Loss: 0.06 Val Acc: 0.594 Val Loss: 0.671\n",
      "Epoch 4 --- Train Acc: 0.98 Train Loss: 0.038 Val Acc: 0.562 Val Loss: 0.762\n",
      "Epoch 5 --- Train Acc: 0.959 Train Loss: 0.079 Val Acc: 0.531 Val Loss: 0.876\n",
      "Epoch 6 --- Train Acc: 1.0 Train Loss: 0.031 Val Acc: 0.531 Val Loss: 0.939\n",
      "Epoch 7 --- Train Acc: 0.939 Train Loss: 0.069 Val Acc: 0.562 Val Loss: 0.989\n",
      "Epoch 8 --- Train Acc: 0.949 Train Loss: 0.057 Val Acc: 0.562 Val Loss: 0.994\n",
      "Epoch 9 --- Train Acc: 0.99 Train Loss: 0.034 Val Acc: 0.531 Val Loss: 1.002\n",
      "Epoch 10 --- Train Acc: 0.959 Train Loss: 0.056 Val Acc: 0.531 Val Loss: 0.996\n"
     ]
    }
   ],
   "source": [
    "EPOCHS = 10\n",
    "train_acc_list, train_loss_list, val_acc_list, val_loss_list = [],[],[],[]\n",
    "for epoch in range(EPOCHS):\n",
    "\n",
    "    sumCorrect = 0\n",
    "    sumTotal = 0 \n",
    "    running_loss = 0\n",
    "    train_acc, train_loss = train()\n",
    "    val_acc, val_loss = evaluate()\n",
    "    train_acc_list.append(train_acc)\n",
    "    train_loss_list.append(train_loss) \n",
    "    val_acc_list.append(val_acc) \n",
    "    val_loss_list.append(val_loss) \n",
    "    \n",
    "    print(f\"Epoch {epoch+1} --- Train Acc: {train_acc} Train Loss: {train_loss} Val Acc: {val_acc} Val Loss: {val_loss}\")"
   ]
  },
  {
   "cell_type": "code",
   "execution_count": 134,
   "metadata": {},
   "outputs": [],
   "source": [
    "import matplotlib.pyplot as plt\n",
    "from matplotlib import style\n",
    "import pandas as pd\n",
    "\n",
    "style.use(\"ggplot\")\n",
    "\n",
    "def create_acc_loss_graph(train_acc_list, train_loss_list, val_acc_list, val_loss_list):\n",
    "    epoch = list(range(0, EPOCHS, 1))\n",
    "\n",
    "    d = {'epochs': epoch,\n",
    "        'train_acc': train_acc_list,\n",
    "        'train_loss': train_loss_list,\n",
    "        'val_acc': val_acc_list, \n",
    "        'val_loss': val_loss_list}\n",
    "\n",
    "    df = pd.DataFrame(d)\n",
    "\n",
    "    df['train_acc_avg'] = df['train_acc'].ewm(alpha=.02).mean()  # exponential weighted moving average\n",
    "    df['val_acc_avg'] = df['val_acc'].ewm(alpha=.02).mean()\n",
    "    df['train_loss_avg'] = df['train_loss'].ewm(alpha=.02).mean()\n",
    "    df['val_loss_avg'] = df['val_loss'].ewm(alpha=.02).mean()\n",
    "\n",
    "    # Then plot using pandas:\n",
    "    df.plot(x='epochs', y=['train_acc_avg', 'val_acc_avg'], figsize=(8,4))\n",
    "    plt.ylabel(\"Accuracy\")\n",
    "    df.plot(x='epochs', y=['train_loss_avg', 'val_loss_avg'], figsize=(8,4))\n",
    "    plt.ylabel(\"Loss\")\n",
    "\n",
    "    plt.show()"
   ]
  },
  {
   "cell_type": "code",
   "execution_count": 135,
   "metadata": {},
   "outputs": [
    {
     "data": {
      "image/png": "[encoded data removed]",
      "text/plain": [
       "<Figure size 576x288 with 1 Axes>"
      ]
     },
     "metadata": {},
     "output_type": "display_data"
    },
    {
     "data": {
      "image/png": "[encoded data removed]",
      "text/plain": [
       "<Figure size 576x288 with 1 Axes>"
      ]
     },
     "metadata": {},
     "output_type": "display_data"
    }
   ],
   "source": [
    "create_acc_loss_graph(train_acc_list, train_loss_list, val_acc_list, val_loss_list)"
   ]
  },
  {
   "cell_type": "code",
   "execution_count": null,
   "metadata": {},
   "outputs": [],
   "source": []
  }
 ],
 "metadata": {
  "kernelspec": {
   "display_name": "Python 3",
   "language": "python",
   "name": "python3"
  },
  "language_info": {
   "codemirror_mode": {
    "name": "ipython",
    "version": 3
   },
   "file_extension": ".py",
   "mimetype": "text/x-python",
   "name": "python",
   "nbconvert_exporter": "python",
   "pygments_lexer": "ipython3",
   "version": "3.7.9"
  }
 },
 "nbformat": 4,
 "nbformat_minor": 4
}
