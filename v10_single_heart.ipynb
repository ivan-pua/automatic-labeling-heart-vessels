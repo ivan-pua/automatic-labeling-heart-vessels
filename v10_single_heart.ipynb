{
  "nbformat": 4,
  "nbformat_minor": 0,
  "metadata": {
    "colab": {
      "name": "v10-single-heart.ipynb",
      "provenance": [],
      "collapsed_sections": [
        "_EBaK_urXiUt",
        "VizHiNgIepz3"
      ],
      "toc_visible": true,
      "mount_file_id": "1xcIId9jP3RPLAeyWC55VfEuSnxEBtl8S",
      "authorship_tag": "ABX9TyO9hZI7ghvWXlvQdMko+B7C",
      "include_colab_link": true
    },
    "kernelspec": {
      "name": "python3",
      "display_name": "Python 3"
    },
    "accelerator": "GPU"
  },
  "cells": [
    {
      "cell_type": "markdown",
      "metadata": {
        "id": "view-in-github",
        "colab_type": "text"
      },
      "source": [
        "<a href=\"https://colab.research.google.com/github/puaqieshang/automatic-labeling-heart-vessels/blob/master/v10_single_heart.ipynb\" target=\"_parent\"><img src=\"https://colab.research.google.com/assets/colab-badge.svg\" alt=\"Open In Colab\"/></a>"
      ]
    },
    {
      "cell_type": "markdown",
      "metadata": {
        "id": "0q3bQztjs6pW",
        "colab_type": "text"
      },
      "source": [
        "# Update from Previous Version\n",
        "\n",
        "* Feed single heart into the model "
      ]
    },
    {
      "cell_type": "code",
      "metadata": {
        "id": "ogFQbGjAd5_L",
        "colab_type": "code",
        "colab": {
          "base_uri": "https://localhost:8080/",
          "height": 34
        },
        "outputId": "2e9bd732-9969-4723-c94d-a0ce60ffaaa7"
      },
      "source": [
        "# Import dependencies\n",
        "\n",
        "import os\n",
        "import time\n",
        "import helper\n",
        "import numpy as np\n",
        "from tqdm import tqdm\n",
        "import matplotlib.pyplot as plt\n",
        "from sklearn.utils import shuffle\n",
        "from collections import defaultdict\n",
        "\n",
        "import torch\n",
        "from torch import tensor, nn, optim\n",
        "import torch.nn.functional as F\n",
        "from torch.utils.data import Dataset, DataLoader\n",
        "\n",
        "if torch.cuda.is_available():\n",
        "    device = torch.device(\"cuda:0\")  # you can continue like cuda:1 cuda:2....etc. \n",
        "    print(\"Running on the GPU\")\n",
        "else:\n",
        "    device = torch.device(\"cpu\")\n",
        "    print(\"Running on the CPU\")\n"
      ],
      "execution_count": 1,
      "outputs": [
        {
          "output_type": "stream",
          "text": [
            "Running on the GPU\n"
          ],
          "name": "stdout"
        }
      ]
    },
    {
      "cell_type": "markdown",
      "metadata": {
        "id": "BsXDGkEGj5wt",
        "colab_type": "text"
      },
      "source": [
        "# Data Retrieval\n"
      ]
    },
    {
      "cell_type": "markdown",
      "metadata": {
        "id": "4EE5l4kdHw8r",
        "colab_type": "text"
      },
      "source": [
        "<table>\n",
        "  <tr>\n",
        "    <th>Label</th>\n",
        "    <th>Class (Vessels)</th>\n",
        "  </tr>\n",
        "  <tr>\n",
        "    <td>0</td>\n",
        "    <td>LAD</td>\n",
        "  </tr>\n",
        "  <tr>\n",
        "    <td>1</td>\n",
        "    <td>Diagonals</td>\n",
        "  </tr>\n",
        "    <tr>\n",
        "    <td>2</td>\n",
        "    <td>Septals</td>\n",
        "  </tr>\n",
        "    <tr>\n",
        "    <td>3</td>\n",
        "    <td>LCX</td>\n",
        "  </tr>\n",
        "    <tr>\n",
        "    <td>4</td>\n",
        "    <td>Obtuse Marginal</td>\n",
        "  </tr>\n",
        "    <tr>\n",
        "    <td>5</td>\n",
        "    <td>Atrials</td>\n",
        "  </tr>\n",
        "    <tr>\n",
        "    <td>6</td>\n",
        "    <td>LCIM</td>\n",
        "  </tr>\n",
        "    <tr>\n",
        "    <td>7</td>\n",
        "    <td>Acutes</td>\n",
        "  </tr>\n",
        "    <tr>\n",
        "    <td>8</td>\n",
        "    <td>Crux</td>\n",
        "  </tr>\n",
        "    </tr>\n",
        "    <tr>\n",
        "    <td>9</td>\n",
        "    <td>Unknown</td>\n",
        "  </tr>\n",
        "</table>"
      ]
    },
    {
      "cell_type": "markdown",
      "metadata": {
        "id": "W8qlfLlwx8MO",
        "colab_type": "text"
      },
      "source": [
        "## Import from Google Drive"
      ]
    },
    {
      "cell_type": "code",
      "metadata": {
        "id": "4B4g74MZc0dL",
        "colab_type": "code",
        "colab": {
          "base_uri": "https://localhost:8080/",
          "height": 139
        },
        "outputId": "ec0bdd61-edcd-4932-9f06-1f781cd07e81"
      },
      "source": [
        "from google.colab import drive\n",
        "drive.mount('/content/drive')\n",
        "\n",
        "!unzip -uq \"/content/drive/My Drive/processed.zip\"\n",
        "!ls \"/content/\" # Lists all the files \n"
      ],
      "execution_count": 2,
      "outputs": [
        {
          "output_type": "stream",
          "text": [
            "Go to this URL in a browser: https://accounts.google.com/o/oauth2/auth?client_id=947318989803-6bn6qk8qdgf4n4g3pfee6491hc0brc4i.apps.googleusercontent.com&redirect_uri=urn%3aietf%3awg%3aoauth%3a2.0%3aoob&scope=email%20https%3a%2f%2fwww.googleapis.com%2fauth%2fdocs.test%20https%3a%2f%2fwww.googleapis.com%2fauth%2fdrive%20https%3a%2f%2fwww.googleapis.com%2fauth%2fdrive.photos.readonly%20https%3a%2f%2fwww.googleapis.com%2fauth%2fpeopleapi.readonly&response_type=code\n",
            "\n",
            "Enter your authorization code:\n",
            "··········\n",
            "Mounted at /content/drive\n",
            "drive  __MACOSX  processed  sample_data\n"
          ],
          "name": "stdout"
        }
      ]
    },
    {
      "cell_type": "markdown",
      "metadata": {
        "id": "lakOOLExKLQd",
        "colab_type": "text"
      },
      "source": [
        "## Split data into Train/Validate and Test \n",
        "Ensures that these 3 data are independent of each other - remove bias\n",
        "\n",
        "*   Validation - For hyperparameter tuning and model comparison\n",
        "*   Testing - For Performance Evaluation\n",
        "\n",
        "Current ratio of Train/Validate:Test = 0.9:0.1"
      ]
    },
    {
      "cell_type": "code",
      "metadata": {
        "id": "u4S20dbqpfR9",
        "colab_type": "code",
        "colab": {
          "base_uri": "https://localhost:8080/",
          "height": 51
        },
        "outputId": "10b48397-d4f6-4815-95d9-d705af67eddc"
      },
      "source": [
        "source1 = \"/content/processed\"\n",
        "\n",
        "test_dest = \"/content/test\"\n",
        "\n",
        "if not os.path.exists(test_dest):\n",
        "    os.makedirs(test_dest)\n",
        "\n",
        "folders = os.listdir(source1)\n",
        "total = 0\n",
        "import shutil\n",
        "for singleHeartFolder in folders:\n",
        "\n",
        "    if singleHeartFolder == \".DS_Store\":\n",
        "        continue\n",
        "\n",
        "\n",
        "    if np.random.rand(1) < 0.1:\n",
        "        shutil.move(f\"{source1}/{singleHeartFolder}\", f\"{test_dest}/{singleHeartFolder}\")\n",
        "\n",
        "train_folders = os.listdir(source1)\n",
        "test_folders = os.listdir(test_dest)\n",
        "\n",
        "print(f\"Total number of train/val samples are {len(train_folders)}\")\n",
        "print(f\"Total number of test samples are {len(test_folders)}\")"
      ],
      "execution_count": 3,
      "outputs": [
        {
          "output_type": "stream",
          "text": [
            "Total number of train/val samples are 290\n",
            "Total number of test samples are 35\n"
          ],
          "name": "stdout"
        }
      ]
    },
    {
      "cell_type": "code",
      "metadata": {
        "id": "xb4J-jjoI5Yo",
        "colab_type": "code",
        "colab": {}
      },
      "source": [
        "import re\n",
        "\n",
        "def getLabel(text):\n",
        "    vessels_names = ['ldai', 'diags', 'septals', 'lcxi', 'obtmar', 'atrials', \n",
        "                     'lcim', 'acutes', 'crux', 'unknown']\n",
        "\n",
        "    try:\n",
        "        label = re.search(\"^(.+?)-\", text).group(1)     # regex is awesome!\n",
        "    except AttributeError:\n",
        "        label = ''  \n",
        "\n",
        "    return vessels_names.index(label)\n",
        "\n"
      ],
      "execution_count": 4,
      "outputs": []
    },
    {
      "cell_type": "code",
      "metadata": {
        "id": "7nLr3PkaLAK7",
        "colab_type": "code",
        "colab": {
          "base_uri": "https://localhost:8080/",
          "height": 68
        },
        "outputId": "e03b5744-8ecb-4488-bb85-21fbcc019e33"
      },
      "source": [
        "MAX_BRANCHES = 16\n",
        "\n",
        "def storeDataForSingleHeart(dest):\n",
        "\n",
        "    \n",
        "    X_singleHeart, y_singleHeart = [], []\n",
        "    allHearts = os.listdir(dest)\n",
        "\n",
        "    print(f\"There are {len(allHearts)} heart datasets\")\n",
        "    # print(allHearts)\n",
        "\n",
        "    for singleHeart in allHearts:\n",
        "\n",
        "        # # print(f\"The file is {singleHeart}\")   \n",
        "        # if (singleHeart == \".DS_Store\" ):\n",
        "        #     continue\n",
        "        X_singleBranch, y_singleBranch = [], []\n",
        "        if singleHeart == \".DS_Store\" or singleHeart == \".test.sh.swp\": continue;\n",
        "\n",
        "        file_des = f\"{dest}/{singleHeart}\"\n",
        "        flag=0\n",
        "        singleHeartFolder=os.listdir(file_des)\n",
        "        for numOfBranches, f in enumerate(singleHeartFolder, 1):\n",
        "\n",
        "            if f == \".DS_Store\": \n",
        "                flag = 1\n",
        "                continue\n",
        "            \n",
        "            # print(f)\n",
        "            # print(f'{file_des}/{f}')\n",
        "            geometry = np.genfromtxt(f'{file_des}/{f}')\n",
        "            geometry = geometry.tolist()\n",
        "                       \n",
        "            # print(geometry.shape)\n",
        "            X_singleBranch.append(geometry)\n",
        "            label = getLabel(f)\n",
        "            y_singleBranch.append(label)\n",
        "\n",
        "    # X_all, y_all = shuffle(np.array(X_all), np.array(y_all), random_state=0) # SHUFFLE?\n",
        "        if flag == 1:\n",
        "            remaining = MAX_BRANCHES - numOfBranches +1\n",
        "        else:\n",
        "            remaining = MAX_BRANCHES - numOfBranches #16 branches is max\n",
        "        for i in range(remaining):\n",
        "            zeroMatrix = np.zeros_like(geometry)\n",
        "            X_singleBranch.append(zeroMatrix)\n",
        "\n",
        "            y_singleBranch.append(9) #9 is unknown\n",
        "        \n",
        "        X_singleHeart.append(X_singleBranch)\n",
        "        y_singleHeart.append(y_singleBranch)\n",
        "\n",
        "    X_all, y_all = np.array(X_singleHeart), np.array(y_singleHeart)\n",
        "\n",
        "    return X_all, y_all\n",
        "\n",
        "dest = '/content/processed' # changes this later\n",
        "X_all, y_all = storeDataForSingleHeart(dest)\n",
        "\n",
        "\n",
        "print(X_all.shape)\n",
        "print(y_all.shape)"
      ],
      "execution_count": 5,
      "outputs": [
        {
          "output_type": "stream",
          "text": [
            "There are 290 heart datasets\n",
            "(288, 16, 100, 4)\n",
            "(288, 16)\n"
          ],
          "name": "stdout"
        }
      ]
    },
    {
      "cell_type": "code",
      "metadata": {
        "id": "GnkG18rTQd79",
        "colab_type": "code",
        "colab": {
          "base_uri": "https://localhost:8080/",
          "height": 68
        },
        "outputId": "0c2bf022-9bed-4056-ae1b-866aceee2e97"
      },
      "source": [
        "unique_elements, counts_elements = np.unique(y_all, return_counts=True)\n",
        "\n",
        "print(np.asarray((unique_elements, counts_elements)))\n",
        "\n",
        "print(y_all[0])"
      ],
      "execution_count": 6,
      "outputs": [
        {
          "output_type": "stream",
          "text": [
            "[[   0    1    2    3    4    5    6    7    8    9]\n",
            " [ 286  295   35  287  195    6   68  220  480 2736]]\n",
            "[3 7 8 8 7 0 9 9 9 9 9 9 9 9 9 9]\n"
          ],
          "name": "stdout"
        }
      ]
    },
    {
      "cell_type": "markdown",
      "metadata": {
        "id": "vorrIKyZwZvO",
        "colab_type": "text"
      },
      "source": [
        "## Develop Custom Dataset"
      ]
    },
    {
      "cell_type": "code",
      "metadata": {
        "id": "-now3mxWhlcL",
        "colab_type": "code",
        "colab": {}
      },
      "source": [
        "class HeartVesselsDataset(Dataset):\n",
        "\n",
        "    # Initialize your data, download, etc.\n",
        "    def __init__(self, attributes_data, labels):\n",
        "\n",
        "        self.x_data = attributes_data # Access dict\n",
        "        self.y_data = labels # Access dict\n",
        "        self.len = labels.shape[0]\n",
        "        \n",
        "    # USE DICTIONARY\n",
        "    def __getitem__(self, index):\n",
        "        # print(index)\n",
        "        geometry = self.x_data[index]\n",
        "        label = self.y_data[index] # Its a number\n",
        "        # print(label)\n",
        "        \n",
        "        return geometry, np.array(label)\n",
        "\n",
        "\n",
        "    def __len__(self):\n",
        "        return len(self.x_data)\n",
        "\n"
      ],
      "execution_count": 7,
      "outputs": []
    },
    {
      "cell_type": "markdown",
      "metadata": {
        "id": "4KoNEnafwq8Y",
        "colab_type": "text"
      },
      "source": [
        "Create Validation Datasets using KFold\n",
        "\n",
        "Cross validation (CV) is one of the technique used to test the effectiveness of a machine learning models, it is also a re-sampling procedure used to evaluate a model if we have a limited data"
      ]
    },
    {
      "cell_type": "code",
      "metadata": {
        "id": "9HpQ6U3ySIs8",
        "colab_type": "code",
        "colab": {
          "base_uri": "https://localhost:8080/",
          "height": 102
        },
        "outputId": "08a8dec3-b885-4cc8-c10a-08876df9ed35"
      },
      "source": [
        "from sklearn.model_selection import KFold # import KFold\n",
        "X = X_all \n",
        "print(f\"Before splitting, the data has this shape - {X.shape}\")\n",
        "y = y_all\n",
        "\n",
        "kf = KFold(n_splits=4,random_state=None, shuffle=False) # Define the split - into 5 folds \n",
        "# kf.get_n_splits(X) # returns the number of splitting iterations in the cross-validator\n",
        "print(kf) \n",
        "\n",
        "for train_index, val_index in kf.split(X):\n",
        "    # print(val_index)\n",
        "    X_train, X_val = X[train_index], X[val_index]\n",
        "    y_train, y_val = y[train_index], y[val_index]\n",
        "\n",
        "\n",
        "print(f\"\\nAfter splitting, the training data has this shape - {X_train.shape}\")\n",
        "print(f\"After splitting, the validation data has this shape - {X_val.shape}\")"
      ],
      "execution_count": 8,
      "outputs": [
        {
          "output_type": "stream",
          "text": [
            "Before splitting, the data has this shape - (288, 16, 100, 4)\n",
            "KFold(n_splits=4, random_state=None, shuffle=False)\n",
            "\n",
            "After splitting, the training data has this shape - (216, 16, 100, 4)\n",
            "After splitting, the validation data has this shape - (72, 16, 100, 4)\n"
          ],
          "name": "stdout"
        }
      ]
    },
    {
      "cell_type": "code",
      "metadata": {
        "id": "6trhsNY-wp-j",
        "colab_type": "code",
        "colab": {
          "base_uri": "https://localhost:8080/",
          "height": 51
        },
        "outputId": "908109f2-a680-4f49-f971-8fc4bc89ed4e"
      },
      "source": [
        "BATCH_SIZE = 16\n",
        "train_dataset = HeartVesselsDataset(X_train, y_train)\n",
        "trainloader = DataLoader(dataset=train_dataset, batch_size=BATCH_SIZE,shuffle=False,num_workers=0)\n",
        "\n",
        "val_dataset = HeartVesselsDataset(X_val, y_val)\n",
        "valloader = DataLoader(dataset=val_dataset, batch_size=BATCH_SIZE,shuffle=False,num_workers=0)\n",
        "\n",
        "print(f\"Train has {len(trainloader)} batches and {train_dataset.len} datasets\")\n",
        "print(f\"Validation has {len(valloader)} batches and {val_dataset.len} datasets\")\n"
      ],
      "execution_count": 11,
      "outputs": [
        {
          "output_type": "stream",
          "text": [
            "Train has 14 batches and 216 datasets\n",
            "Validation has 5 batches and 72 datasets\n"
          ],
          "name": "stdout"
        }
      ]
    },
    {
      "cell_type": "markdown",
      "metadata": {
        "id": "APGAYL6FxfHE",
        "colab_type": "text"
      },
      "source": [
        "## Inspecting Input - A Single Branch"
      ]
    },
    {
      "cell_type": "code",
      "metadata": {
        "id": "jDOQJS0Wm29G",
        "colab_type": "code",
        "colab": {
          "base_uri": "https://localhost:8080/",
          "height": 384
        },
        "outputId": "25f7da74-49e4-4aa2-a0b0-f0a072dc8d0d"
      },
      "source": [
        "geometries, label = next(iter(trainloader))\n",
        "\n",
        "print(geometries.shape)\n",
        "print(label.shape)\n",
        "\n",
        "# print(f\"Geo is of type {geometries.type}\")\n",
        "# print(f\"Label is of type {label.type}\")\n",
        "print(\"\\nA Random Coronary Branch\")\n",
        "print(f\"Dimension of a single heart dataset is {geometries[0].shape}\")\n",
        "print(f\"Dimension of a single branch is {geometries[0][0].shape}\")\n",
        "\n",
        "plt.imshow(geometries[0][0].view(20, 20))\n",
        "plt.show()\n",
        "print(f\"The label is {label[0][0]}\")"
      ],
      "execution_count": 12,
      "outputs": [
        {
          "output_type": "stream",
          "text": [
            "torch.Size([16, 16, 100, 4])\n",
            "torch.Size([16, 16])\n",
            "\n",
            "A Random Coronary Branch\n",
            "Dimension of a single heart dataset is torch.Size([16, 100, 4])\n",
            "Dimension of a single branch is torch.Size([100, 4])\n"
          ],
          "name": "stdout"
        },
        {
          "output_type": "display_data",
          "data": {
            "image/png": "[encoded data removed]",
            "text/plain": [
              "<Figure size 432x288 with 1 Axes>"
            ]
          },
          "metadata": {
            "tags": [],
            "needs_background": "light"
          }
        },
        {
          "output_type": "stream",
          "text": [
            "The label is 3\n"
          ],
          "name": "stdout"
        }
      ]
    },
    {
      "cell_type": "code",
      "metadata": {
        "id": "Ckegxusw6uVv",
        "colab_type": "code",
        "colab": {
          "base_uri": "https://localhost:8080/",
          "height": 34
        },
        "outputId": "8e885401-cd8e-45c6-9a97-ee4ebaf2334e"
      },
      "source": [
        "print(label[0][0])"
      ],
      "execution_count": null,
      "outputs": [
        {
          "output_type": "stream",
          "text": [
            "tensor(7)\n"
          ],
          "name": "stdout"
        }
      ]
    },
    {
      "cell_type": "markdown",
      "metadata": {
        "id": "xv9OG9k3kAjA",
        "colab_type": "text"
      },
      "source": [
        "# Model Definition\n",
        "\n",
        "So that different model architectures can work interchangeable\n",
        "\n"
      ]
    },
    {
      "cell_type": "markdown",
      "metadata": {
        "id": "V7dBvPPD73SN",
        "colab_type": "text"
      },
      "source": [
        "## Linear Layers"
      ]
    },
    {
      "cell_type": "markdown",
      "metadata": {
        "id": "b9wlmug-LeLy",
        "colab_type": "text"
      },
      "source": [
        "### Model 1 - nn.Linear in Sequential Form\n",
        "\n",
        "A simple Multi-Layer Perceptron, but achieves accuracy of 0.78 - 0.8 after 350 epochs"
      ]
    },
    {
      "cell_type": "code",
      "metadata": {
        "id": "RQy8VcNALcrc",
        "colab_type": "code",
        "colab": {}
      },
      "source": [
        "# model = nn.Sequential(nn.Linear(400,128), nn.ReLU(), nn.Linear(128,64), \n",
        "#                       nn.ReLU(), nn.Linear(64,9), nn.LogSoftmax(dim=1))\n",
        "\n",
        "# model = model.to(device)"
      ],
      "execution_count": null,
      "outputs": []
    },
    {
      "cell_type": "markdown",
      "metadata": {
        "id": "rZ8LPLeb1dHQ",
        "colab_type": "text"
      },
      "source": [
        "### Model 2 - nn.Linear in Class form \n",
        "Basically same as Model 1, just that its in nn.functional() form. This allows user to tune the parameters more, which is better. \n"
      ]
    },
    {
      "cell_type": "code",
      "metadata": {
        "id": "eSpsZlv2B9be",
        "colab_type": "code",
        "colab": {}
      },
      "source": [
        "# # Start Timer\n",
        "# t0 = time.time()\n",
        "\n",
        "\n",
        "# class ConvNN(nn.Module):\n",
        "#     def __init__(self):\n",
        "#         super().__init__()\n",
        "#         # Defining the layers, 128, 64, 9 units each\n",
        "#         self.fc1 = nn.Linear(400, 128)\n",
        "#         self.fc2 = nn.Linear(128, 64)\n",
        "#         # Output layer, 9 units - one for each digit\n",
        "#         self.fc3 = nn.Linear(64, 9)\n",
        "        \n",
        "#     def forward(self, x):\n",
        "#         ''' Forward pass through the network, returns the output logits '''\n",
        "        \n",
        "#         x = self.fc1(x)\n",
        "#         x = F.relu(x)\n",
        "#         x = self.fc2(x)\n",
        "#         x = F.relu(x)\n",
        "#         x = self.fc3(x)\n",
        "#         x = F.log_softmax(x, dim=1)\n",
        "        \n",
        "#         return x\n",
        "\n",
        "\n",
        "# model = ConvNN()\n",
        "# model = model.to(device)"
      ],
      "execution_count": null,
      "outputs": []
    },
    {
      "cell_type": "markdown",
      "metadata": {
        "id": "voy06Xl8797G",
        "colab_type": "text"
      },
      "source": [
        "## Convolutional Layers\n",
        "\n",
        "Suggestions to Improve:\n",
        "* Use He Initialization for ReLU layers instead of random or zero initiliazation. Refer to roadmap\n",
        "* Use more regularization techniques (if necessary)\n",
        "\n",
        "Things to note:\n",
        "* Increasing number of layers by more than 2 do not improve the accuracy - could be due to my model being simple?\n",
        "* No need to have a lot of nodes in a hidden layer; the input is not a 2D image anyways.\n",
        "* [Dropout Layers FAQ ](https://https://stats.stackexchange.com/questions/240305/where-should-i-place-dropout-layers-in-a-neural-network )\n",
        "* Dropout layers may result in [Test Accuracy > Train Accuracy](https://www.quora.com/How-can-I-explain-the-fact-that-test-accuracy-is-much-higher-than-train-accuracy)  "
      ]
    },
    {
      "cell_type": "markdown",
      "metadata": {
        "id": "aSq31moBhyNi",
        "colab_type": "text"
      },
      "source": [
        "### Model 3 - Conv1D with 3 Hidden Layers\n",
        "\n",
        "Tested on different pooling layers:\n",
        "*   Max Pooling\n",
        "*   Average Pooling\n",
        "*   Global Max Pooling\n",
        "*   Global Average Pooling\n"
      ]
    },
    {
      "cell_type": "code",
      "metadata": {
        "id": "wGcAZPPMhxWD",
        "colab_type": "code",
        "colab": {}
      },
      "source": [
        "class ConvNN_single_heart(nn.Module):\n",
        "\n",
        "\n",
        "    def __init__(self):\n",
        "        super().__init__()\n",
        "        \n",
        "        # Input Tensor [batch, in_channels, in_width]\n",
        "\n",
        "        # Random Initialization\n",
        "        # input = (batch_size, no of channels, height, width)\n",
        "        x = torch.rand(16, 100, 4).view(-1, 4, 16, 100)\n",
        "\n",
        "        # He initialization variants\n",
        "        # x = torch.empty(100, 4).view(-1, 4, 100)    \n",
        "        # x = nn.init.kaiming_uniform_(x, mode='fan_out', nonlinearity='relu')\n",
        "        # x = nn.init.kaiming_normal_(x, mode='fan_in', nonlinearity='relu')\n",
        "\n",
        "        # Defining the layers, 4, 8, 16 and 32 units each\n",
        "        self.conv1 = nn.Conv2d(in_channels=4, out_channels=16, kernel_size = (1,3))\n",
        "        self.conv2 = nn.Conv2d(in_channels=16, out_channels=64, kernel_size = (1,3))\n",
        "        self.conv3 = nn.Conv2d(in_channels=64, out_channels=256, kernel_size = (1,3))\n",
        "        self.conv4 = nn.Conv2d(in_channels=256, out_channels=512, kernel_size=(1,3))\n",
        "        self.conv5 = nn.Conv2d(in_channels=512, out_channels=512, kernel_size=(1,3))\n",
        "\n",
        "        # Activated during eval mode\n",
        "        self.conv1_bn = nn.BatchNorm2d(16)\n",
        "        self.conv2_bn = nn.BatchNorm2d(64)\n",
        "        self.conv3_bn = nn.BatchNorm2d(256)\n",
        "        self.conv4_bn = nn.BatchNorm2d(512)\n",
        "        self.fc1_bn = nn.BatchNorm1d(128)\n",
        "        self.fc2_bn = nn.BatchNorm1d(32)\n",
        "    \n",
        "        self.fc_dropout = nn.Dropout(p=0.5)\n",
        "        self.conv_dropout = nn.Dropout(p=0.1)\n",
        "        \n",
        "        self._to_linear = None\n",
        "        # Time distributed layer - maybe change to keras\n",
        "        self.convs(x)\n",
        "        \n",
        "        # self.fc1 = nn.Linear(self._to_linear, 64) #flattening.\n",
        "        # self.fc2 = nn.Linear(64, 9) # 64 in, 9out bc we're doing 9 classes \n",
        "\n",
        "        self.fc1 = nn.Linear(self._to_linear, 128) #flattening.\n",
        "        self.fc2 = nn.Linear(128, 32)\n",
        "        self.fc3 = nn.Linear(32, 10) # 10 labels\n",
        "\n",
        "    def convs(self, x):\n",
        "        # max pooling over 2\n",
        "        \n",
        "        x = self.conv1(x)\n",
        "        x = self.conv1_bn(x)  \n",
        "        x = F.relu(x)\n",
        "        x = self.conv_dropout(x)    \n",
        "        x = F.max_pool2d(x, (1,2)) #or Elu\n",
        "\n",
        "        # print(x.shape)\n",
        "        x = self.conv2(x)\n",
        "        x = self.conv2_bn(x)   \n",
        "        x = F.relu(x)\n",
        "        x = self.conv_dropout(x)\n",
        "        x = F.max_pool2d(x, (1,2)) #or Elu\n",
        "\n",
        "        # print(x.shape)\n",
        "        x = self.conv3(x)\n",
        "        x = self.conv3_bn(x)   \n",
        "        x = F.relu(x)\n",
        "        x = self.conv_dropout(x)\n",
        "        x = F.max_pool2d(x, (1,2)) #or Elu\n",
        "        \n",
        "        x = self.conv4(x)\n",
        "        x = self.conv4_bn(x)   \n",
        "        x = F.relu(x)\n",
        "        x = self.conv_dropout(x)\n",
        "        x = F.max_pool2d(x, (1,2)) #or Elu\n",
        "\n",
        "        x = self.conv5(x)\n",
        "        x = self.conv4_bn(x)   \n",
        "        x = F.relu(x)\n",
        "        x = self.conv_dropout(x)\n",
        "        x = F.max_pool2d(x, (1,2)) #or Elu\n",
        "        \n",
        "        \n",
        "        if self._to_linear is None:\n",
        "            self._to_linear = x[0].shape[0]*x[0].shape[2]\n",
        "            \n",
        "        return x\n",
        "        \n",
        "    def forward(self, x):\n",
        "        ''' Forward pass through the network, returns the output logits '''\n",
        "        \n",
        "        x = self.convs(x)\n",
        "        # .view is reshape ... this flattens X before going to FC layer\n",
        "       \n",
        "        # print(x.shape)\n",
        "        x = x.view(-1, 16, self._to_linear)  \n",
        "        # print(x.shape)\n",
        "        x = self.fc1(x)\n",
        "        # print(x.shape)\n",
        "        x = x.view(-1, x.shape[2], x.shape[1])\n",
        "        x = self.fc1_bn(x)\n",
        "        x = F.relu(x)\n",
        "        x = self.fc_dropout(x) \n",
        "\n",
        "        # print(x.shape)\n",
        "        x = x.view(-1, x.shape[2], x.shape[1])\n",
        "        x = self.fc2(x) # bc this is our output layer. No activation here.\n",
        "        # print(x.shape)\n",
        "        x = x.view(-1, x.shape[2], x.shape[1])\n",
        "        \n",
        "        x = self.fc2_bn(x)\n",
        "        x = F.relu(x)\n",
        "        x = self.fc_dropout(x)   \n",
        "\n",
        "        # print(x.shape)\n",
        "        x = x.view(-1, x.shape[2], x.shape[1])\n",
        "        x = self.fc3(x)\n",
        "\n",
        "        # print(x.shape)\n",
        "        return F.log_softmax(x, dim=1)\n",
        "        \n",
        "        \n",
        "        return x\n"
      ],
      "execution_count": 13,
      "outputs": []
    },
    {
      "cell_type": "markdown",
      "metadata": {
        "id": "_EBaK_urXiUt",
        "colab_type": "text"
      },
      "source": [
        "###Different Pooling Layers\n",
        "Suboptimal models with varying pooling layers are shelved"
      ]
    },
    {
      "cell_type": "code",
      "metadata": {
        "id": "z_zrDOKDmlSi",
        "colab_type": "code",
        "colab": {}
      },
      "source": [
        "class ConvNN_avgpool(nn.Module):\n",
        "\n",
        "\n",
        "    def __init__(self):\n",
        "        super().__init__()\n",
        "        \n",
        "        # Input Tensor [batch, in_channels, in_width]\n",
        "\n",
        "        # Random Initialization\n",
        "        x = torch.rand(100, 4).view(-1, 4, 100)\n",
        "\n",
        "        # He initialization variants\n",
        "        # x = torch.empty(100, 4).view(-1, 4, 100)    \n",
        "        # x = nn.init.kaiming_uniform_(x, mode='fan_out', nonlinearity='relu')\n",
        "        # x = nn.init.kaiming_normal_(x, mode='fan_in', nonlinearity='relu')\n",
        "\n",
        "        # Defining the layers, 4, 8, 16 and 32 units each\n",
        "        self.conv1 = nn.Conv1d(in_channels=4, out_channels=16, kernel_size=3)\n",
        "        self.conv2 = nn.Conv1d(in_channels=16, out_channels=64, kernel_size=3)\n",
        "        self.conv3 = nn.Conv1d(in_channels=64, out_channels=256, kernel_size=3)\n",
        "\n",
        "        # Activated during eval mode\n",
        "        self.conv1_bn = nn.BatchNorm1d(16)\n",
        "        self.conv2_bn = nn.BatchNorm1d(64)\n",
        "        self.conv3_bn = nn.BatchNorm1d(256)\n",
        "        self.fc1_bn = nn.BatchNorm1d(128)\n",
        "        self.fc2_bn = nn.BatchNorm1d(32)\n",
        "    \n",
        "        self.fc_dropout = nn.Dropout(p=0.5)\n",
        "        self.conv_dropout = nn.Dropout(p=0.1)\n",
        "        \n",
        "        self._to_linear = None\n",
        "        # Time distributed layer - maybe change to keras\n",
        "        self.convs(x)\n",
        "        \n",
        "        # self.fc1 = nn.Linear(self._to_linear, 64) #flattening.\n",
        "        # self.fc2 = nn.Linear(64, 9) # 64 in, 9out bc we're doing 9 classes \n",
        "\n",
        "        self.fc1 = nn.Linear(self._to_linear, 128) #flattening.\n",
        "        self.fc2 = nn.Linear(128, 32)\n",
        "        self.fc3 = nn.Linear(32, 9)\n",
        "\n",
        "    def convs(self, x):\n",
        "        # max pooling over 2\n",
        "        \n",
        "        x = self.conv1(x)\n",
        "        x = self.conv1_bn(x)  \n",
        "        x = F.relu(x)\n",
        "        x = self.conv_dropout(x)    \n",
        "        # print(x.shape)\n",
        "        # x = F.max_pool1d(x, 2, 1) # (input, kernel_size, stride) \n",
        "        # kernel_size will downsize a 2x2 matrix into a single pixel/number\n",
        "        x = F.avg_pool1d(x, kernel_size=3, stride=2)\n",
        "        # print(x.shape)\n",
        "\n",
        "        x = self.conv2(x)\n",
        "        x = self.conv2_bn(x)   \n",
        "        x = F.relu(x)\n",
        "        x = self.conv_dropout(x)\n",
        "\n",
        "        # print(x.shape)\n",
        "        # x = F.max_pool1d(x, 2, 1) # (input, kernel_size, stride) \n",
        "        # kernel_size will downsize a 2x2 matrix into a single pixel/number\n",
        "        x = F.avg_pool1d(x, kernel_size=3, stride=2)\n",
        "        # print(x.shape)\n",
        "\n",
        "        x = self.conv3(x)\n",
        "        x = self.conv3_bn(x)   \n",
        "        x = F.relu(x)\n",
        "        x = self.conv_dropout(x)\n",
        "\n",
        "        # print(x.shape)\n",
        "        # x = F.max_pool1d(x, 2, 1) # (input, kernel_size, stride) \n",
        "        # kernel_size will downsize a 2x2 matrix into a single pixel/number\n",
        "        x = F.avg_pool1d(x, kernel_size=3, stride=2)\n",
        "        # print(x.shape)\n",
        "        \n",
        "        if self._to_linear is None:\n",
        "            self._to_linear = x[0].shape[0]*x[0].shape[1]\n",
        "            \n",
        "        return x\n",
        "        \n",
        "    def forward(self, x):\n",
        "        ''' Forward pass through the network, returns the output logits '''\n",
        "        \n",
        "\n",
        "        x = self.convs(x)\n",
        "        # .view is reshape ... this flattens X before going to FC layer\n",
        "        x = x.view(-1, self._to_linear)  \n",
        "\n",
        "        x = self.fc1(x)\n",
        "        x = self.fc1_bn(x)\n",
        "        x = F.relu(x)\n",
        "        x = self.fc_dropout(x) \n",
        "\n",
        "        x = self.fc2(x) # bc this is our output layer. No activation here.\n",
        "        x = self.fc2_bn(x)\n",
        "        x = F.relu(x)\n",
        "        x = self.fc_dropout(x)   \n",
        "\n",
        "        x = self.fc3(x)\n",
        "        # print(x.shape)\n",
        "        return F.log_softmax(x, dim=1)\n",
        "        \n",
        "        return x\n"
      ],
      "execution_count": null,
      "outputs": []
    },
    {
      "cell_type": "code",
      "metadata": {
        "id": "Wd-7Kc-Y8Bn4",
        "colab_type": "code",
        "colab": {}
      },
      "source": [
        "class ConvNN_GAP(nn.Module):\n",
        "\n",
        "\n",
        "    def __init__(self):\n",
        "        super().__init__()\n",
        "        \n",
        "        # Input Tensor [batch, in_channels, in_width]\n",
        "\n",
        "        # Random Initialization\n",
        "        x = torch.rand(100, 4).view(-1, 4, 100)\n",
        "\n",
        "        # He initialization variants\n",
        "        # x = torch.empty(100, 4).view(-1, 4, 100)    \n",
        "        # x = nn.init.kaiming_uniform_(x, mode='fan_out', nonlinearity='relu')\n",
        "        # x = nn.init.kaiming_normal_(x, mode='fan_in', nonlinearity='relu')\n",
        "\n",
        "        # Defining the layers, 4, 8, 16 and 32 units each\n",
        "        self.conv1 = nn.Conv1d(in_channels=4, out_channels=16, kernel_size=3)\n",
        "        self.conv2 = nn.Conv1d(in_channels=16, out_channels=64, kernel_size=3)\n",
        "        self.conv3 = nn.Conv1d(in_channels=64, out_channels=256, kernel_size=3)\n",
        "\n",
        "        # Activated during eval mode\n",
        "        self.conv1_bn = nn.BatchNorm1d(16)\n",
        "        self.conv2_bn = nn.BatchNorm1d(64)\n",
        "        self.conv3_bn = nn.BatchNorm1d(256)\n",
        "        self.fc1_bn = nn.BatchNorm1d(128)\n",
        "        self.fc2_bn = nn.BatchNorm1d(32)\n",
        "    \n",
        "        self.fc_dropout = nn.Dropout(p=0.5)\n",
        "        self.conv_dropout = nn.Dropout(p=0.1)\n",
        "        \n",
        "        self._to_linear = None\n",
        "        # Time distributed layer - maybe change to keras\n",
        "        self.convs(x)\n",
        "        \n",
        "        # self.fc1 = nn.Linear(self._to_linear, 64) #flattening.\n",
        "        # self.fc2 = nn.Linear(64, 9) # 64 in, 9out bc we're doing 9 classes \n",
        "\n",
        "        self.fc1 = nn.Linear(256, 9) #flattening.\n",
        "        # self.fc2 = nn.Linear(16, 9)\n",
        "\n",
        "    def convs(self, x):\n",
        "        # max pooling over 2\n",
        "        \n",
        "        x = self.conv1(x)\n",
        "        x = self.conv1_bn(x)  \n",
        "        x = F.relu(x)\n",
        "        x = self.conv_dropout(x)    \n",
        "        x = F.max_pool1d(x, 2) #or Elu\n",
        "\n",
        "        x = self.conv2(x)\n",
        "        x = self.conv2_bn(x)   \n",
        "        x = F.relu(x)\n",
        "        x = self.conv_dropout(x)\n",
        "        x = F.max_pool1d(x, 2) #or Elu\n",
        "\n",
        "        x = self.conv3(x)\n",
        "        x = self.conv3_bn(x)   \n",
        "        x = F.relu(x)\n",
        "        x = self.conv_dropout(x)\n",
        "        x = F.max_pool1d(x, 2) #or Elu\n",
        "        \n",
        "        if self._to_linear is None:\n",
        "            self._to_linear = x[0].shape[0]*x[0].shape[1]\n",
        "            \n",
        "        return x\n",
        "        \n",
        "    def forward(self, x):\n",
        "        ''' Forward pass through the network, returns the output logits '''\n",
        "        \n",
        "        x = self.convs(x)\n",
        "        # print(x.shape)\n",
        "        # .view is reshape ... this flattens X before going to FC layer\n",
        "        # x = x.view(-1, self._to_linear)  \n",
        "        \n",
        "        x = torch.mean(x,dim=2)\n",
        "        # print(x.shape)\n",
        "        # print(x)\n",
        "        x = self.fc_dropout(x)\n",
        "        x = self.fc1(x) # bc this is our output layer. No activation here.\n",
        "        # print(x.shape)\n",
        "\n",
        "        # x = self.fc2_bn(x)\n",
        "        # x = F.relu(x)\n",
        "        # x = self.fc_dropout(x)   \n",
        "\n",
        "        return F.log_softmax(x, dim=1)\n",
        "        \n",
        "        return x\n"
      ],
      "execution_count": null,
      "outputs": []
    },
    {
      "cell_type": "code",
      "metadata": {
        "id": "YjGitBb88HsF",
        "colab_type": "code",
        "colab": {}
      },
      "source": [
        "class ConvNN_GMP(nn.Module):\n",
        "\n",
        "\n",
        "    def __init__(self):\n",
        "        super().__init__()\n",
        "        \n",
        "        # Input Tensor [batch, in_channels, in_width]\n",
        "\n",
        "        # Random Initialization\n",
        "        x = torch.rand(100, 4).view(-1, 4, 100)\n",
        "\n",
        "        # He initialization variants\n",
        "        # x = torch.empty(100, 4).view(-1, 4, 100)    \n",
        "        # x = nn.init.kaiming_uniform_(x, mode='fan_out', nonlinearity='relu')\n",
        "        # x = nn.init.kaiming_normal_(x, mode='fan_in', nonlinearity='relu')\n",
        "\n",
        "        # Defining the layers, 4, 8, 16 and 32 units each\n",
        "        self.conv1 = nn.Conv1d(in_channels=4, out_channels=16, kernel_size=3)\n",
        "        self.conv2 = nn.Conv1d(in_channels=16, out_channels=64, kernel_size=3)\n",
        "        self.conv3 = nn.Conv1d(in_channels=64, out_channels=256, kernel_size=3)\n",
        "\n",
        "        # Activated during eval mode\n",
        "        self.conv1_bn = nn.BatchNorm1d(16)\n",
        "        self.conv2_bn = nn.BatchNorm1d(64)\n",
        "        self.conv3_bn = nn.BatchNorm1d(256)\n",
        "        self.fc1_bn = nn.BatchNorm1d(128)\n",
        "        self.fc2_bn = nn.BatchNorm1d(32)\n",
        "    \n",
        "        self.fc_dropout = nn.Dropout(p=0.5)\n",
        "        self.conv_dropout = nn.Dropout(p=0.1)\n",
        "        \n",
        "        self._to_linear = None\n",
        "        # Time distributed layer - maybe change to keras\n",
        "        self.convs(x)\n",
        "        \n",
        "        # self.fc1 = nn.Linear(self._to_linear, 64) #flattening.\n",
        "        # self.fc2 = nn.Linear(64, 9) # 64 in, 9out bc we're doing 9 classes \n",
        "\n",
        "        self.fc1 = nn.Linear(256, 9) #flattening.\n",
        "        # self.fc2 = nn.Linear(16, 9)\n",
        "\n",
        "    def convs(self, x):\n",
        "        # max pooling over 2\n",
        "        \n",
        "        x = self.conv1(x)\n",
        "        x = self.conv1_bn(x)  \n",
        "        x = F.relu(x)\n",
        "        x = self.conv_dropout(x)    \n",
        "        x = F.max_pool1d(x, 2) #or Elu\n",
        "\n",
        "        x = self.conv2(x)\n",
        "        x = self.conv2_bn(x)   \n",
        "        x = F.relu(x)\n",
        "        x = self.conv_dropout(x)\n",
        "        x = F.max_pool1d(x, 2) #or Elu\n",
        "\n",
        "        x = self.conv3(x)\n",
        "        x = self.conv3_bn(x)   \n",
        "        x = F.relu(x)\n",
        "        x = self.conv_dropout(x)\n",
        "        x = F.max_pool1d(x, 2) #or Elu\n",
        "        \n",
        "        if self._to_linear is None:\n",
        "            self._to_linear = x[0].shape[0]*x[0].shape[1]\n",
        "            \n",
        "        return x\n",
        "        \n",
        "    def forward(self, x):\n",
        "        ''' Forward pass through the network, returns the output logits '''\n",
        "        \n",
        "        x = self.convs(x)\n",
        "        # print(x.shape)\n",
        "        # .view is reshape ... this flattens X before going to FC layer\n",
        "        # x = x.view(-1, self._to_linear)  \n",
        "        \n",
        "        x, _ = torch.max(x,dim=2)\n",
        "        # print(x.shape)\n",
        "        # print(x.shape)\n",
        "        # print(x)\n",
        "        x = self.fc_dropout(x)\n",
        "        x = self.fc1(x) # bc this is our output layer. No activation here.\n",
        "        # print(x.shape)\n",
        "\n",
        "        # x = self.fc2_bn(x)\n",
        "        # x = F.relu(x)\n",
        "        # x = self.fc_dropout(x)   \n",
        "\n",
        "        return F.log_softmax(x, dim=1)\n",
        "        \n",
        "        return x\n",
        "\n"
      ],
      "execution_count": null,
      "outputs": []
    },
    {
      "cell_type": "markdown",
      "metadata": {
        "id": "VizHiNgIepz3",
        "colab_type": "text"
      },
      "source": [
        "### Model 4 - Conv1D with 2 Layers\n",
        "\n",
        "The node layers and numbers are based on multiple websites:\n",
        "https://stats.stackexchange.com/questions/181/how-to-choose-the-number-of-hidden-layers-and-nodes-in-a-feedforward-neural-netw\n",
        "\n",
        "https://www.researchgate.net/post/In_neural_networks_model_which_number_of_hidden_units_to_select\n"
      ]
    },
    {
      "cell_type": "code",
      "metadata": {
        "id": "_7UrOf4aBgpe",
        "colab_type": "code",
        "colab": {}
      },
      "source": [
        "# class ConvNN(nn.Module):\n",
        "#     def __init__(self):\n",
        "#         super().__init__()\n",
        "        \n",
        "#         # Input Tensor [batch, in_channels, in_width]\n",
        "#         x = torch.randn(100, 4).view(-1, 4, 100)\n",
        "\n",
        "        \n",
        "#         self.conv1 = nn.Conv1d(in_channels=4, out_channels=7, kernel_size=3) \n",
        "#         self.conv2 = nn.Conv1d(in_channels=7, out_channels=5, kernel_size=3)\n",
        "#         self.conv1_bn = nn.BatchNorm1d(7)\n",
        "#         self.conv2_bn = nn.BatchNorm1d(5)\n",
        "#         self.fc_dropout = nn.Dropout(p=0.5)\n",
        "#         self.conv_dropout = nn.Dropout(p=0.1)\n",
        "        \n",
        "#         self._to_linear = None\n",
        "\n",
        "#         self.convs(x)\n",
        "\n",
        "#         self.fc1 = nn.Linear(self._to_linear, 64) #flattening.\n",
        "#         self.fc2 = nn.Linear(64, 9) # 64 in, 9out bc we're doing 9 classes \n",
        "\n",
        "#     def convs(self, x):\n",
        "#         # max pooling over 2\n",
        "#         x = self.conv1(x)\n",
        "#         x = self.conv1_bn(x)       \n",
        "#         x = F.max_pool1d(self.conv_dropout(F.relu(x)), 2) #or Elu\n",
        "\n",
        "#         x = self.conv2(x)\n",
        "#         x = self.conv2_bn(x)       \n",
        "#         x = F.max_pool1d(self.conv_dropout(F.relu(x)), 2) #or Elu\n",
        "\n",
        "#         # x = self.conv3(x)\n",
        "#         # # x = self.conv3_bn(x)       \n",
        "#         # x = F.max_pool1d(F.relu(x), 2) #or Elu\n",
        "        \n",
        "#         if self._to_linear is None:\n",
        "#             self._to_linear = x[0].shape[0]*x[0].shape[1]\n",
        "            \n",
        "#         return x\n",
        "        \n",
        "#     def forward(self, x):\n",
        "#         ''' Forward pass through the network, returns the output logits '''\n",
        "        \n",
        "#         x = self.convs(x)\n",
        "#         x = x.view(-1, self._to_linear)  # .view is reshape ... this flattens X before \n",
        "\n",
        "#         x = self.fc1(x)\n",
        "#         # x = self.fc1_bn(x)\n",
        "#         x = F.relu(x)\n",
        "#         x = self.fc_dropout(x) \n",
        "\n",
        "#         x = self.fc2(x) # bc this is our output layer. No activation here.\n",
        "#         return F.log_softmax(x, dim=1)\n",
        "        \n",
        "#         return x\n"
      ],
      "execution_count": null,
      "outputs": []
    },
    {
      "cell_type": "markdown",
      "metadata": {
        "id": "5c8rxsQup9Ts",
        "colab_type": "text"
      },
      "source": [
        "# Train and Validate Model"
      ]
    },
    {
      "cell_type": "markdown",
      "metadata": {
        "id": "y_c7jC0r8Lzv",
        "colab_type": "text"
      },
      "source": [
        "\n",
        "\n",
        "\n",
        "```\n",
        "model.train(), model.eval()\n",
        "```\n",
        "\n",
        "Both are the same. By default all the modules are initialized to train mode (self.training = True). \n",
        "\n",
        "In case you want to validate your data, call model.eval() before feeding the data, as this will change the behavior of the BatchNorm (or Dropout) layer to use the running estimates instead of calculating them for the current batch.\n",
        "If you want to train your model and can’t use a bigger batch size, you could switch e.g. to InstanceNorm."
      ]
    },
    {
      "cell_type": "code",
      "metadata": {
        "id": "dhFOuDsN-hWO",
        "colab_type": "code",
        "colab": {}
      },
      "source": [
        "model = ConvNN_single_heart()\n",
        "model = model.to(device)"
      ],
      "execution_count": 15,
      "outputs": []
    },
    {
      "cell_type": "code",
      "metadata": {
        "id": "mlPEe_rknZYi",
        "colab_type": "code",
        "colab": {}
      },
      "source": [
        "def train(loader): # for train cases\n",
        "    running_loss = 0\n",
        "    sumCorrect = 0\n",
        "    sumTotal = 0      \n",
        "    size = 0\n",
        "    model.train() # for train cases\n",
        "        \n",
        "    for X, y in loader:\n",
        "        \n",
        "        X = X.view(-1, 4, 16, 100) # feed \"-1\" batch size \n",
        "        # print(X.shape)\n",
        "        X, y = X.to(device), y.to(device)\n",
        "        # print(f\"hello {y.shape}\")\n",
        "        \n",
        "        optimiser.zero_grad()\n",
        "        \n",
        "        # train_X = train_X.view(-1, 4, 100)\n",
        "        output = model(X.float())\n",
        "        \n",
        "        _, predicted = torch.max(output.data, 2)\n",
        "        # print(predicted.shape)\n",
        "\n",
        "        \n",
        "        for input, target in zip(output, y):\n",
        "            loss_per_minibatch = 0\n",
        "            # print (input.shape, target.shape)\n",
        "            loss = criterion(input,target)\n",
        "            loss_per_minibatch += loss.item()\n",
        "            # print(loss_per_minibatch)\n",
        "\n",
        "            running_loss += loss_per_minibatch/BATCH_SIZE\n",
        "            size += 1\n",
        "            # print(\"-----\")\n",
        "       \n",
        "        loss.backward()\n",
        "        \n",
        "        optimiser.step()\n",
        "        \n",
        "        # Accuracy\n",
        "        for predict, y_correct in zip(predicted, y):\n",
        "            # print(predict, y_correct)\n",
        "            sumCorrect += (predict == y_correct).sum().item()\n",
        "        \n",
        "            sumTotal += y.size(1)\n",
        "\n",
        "    l = running_loss/size #average loss for whole loader dataset\n",
        "    acc = sumCorrect/sumTotal\n",
        "\n",
        "    return acc, l\n",
        "\n",
        "def validate(loader):\n",
        "    running_loss = 0\n",
        "    sumCorrect = 0\n",
        "    sumTotal = 0 \n",
        "    size = 0   \n",
        "\n",
        "    model.eval() # for validation cases\n",
        "    with torch.no_grad():   \n",
        "        for X, y in loader:\n",
        "\n",
        "            X = X.view(-1, 4, 16, 100)\n",
        "            # print(X.shape)\n",
        "            X, y = X.to(device), y.to(device)\n",
        "            \n",
        "            \n",
        "            # train_X = train_X.view(-1, 4, 100)\n",
        "            output = model(X.float())\n",
        "            \n",
        "            _, predicted = torch.max(output.data, 2)\n",
        "         \n",
        "            for input, target in zip(output, y):\n",
        "\n",
        "                loss_per_minibatch = 0\n",
        "                # print (input.shape, target.shape)\n",
        "                loss = criterion(input,target)\n",
        "                loss_per_minibatch += loss.item()\n",
        "\n",
        "                running_loss += loss_per_minibatch/BATCH_SIZE\n",
        "                size += 1\n",
        "                    \n",
        "\n",
        "            # Accuracy\n",
        "            for predict, y_correct in zip(predicted, y):\n",
        "            # print(predict.shape, y_correct.shape)\n",
        "                sumCorrect += (predict == y_correct).sum().item()\n",
        "\n",
        "                sumTotal += y.size(1)\n",
        "            \n",
        "            # print(sumTotal)   \n",
        "\n",
        "    l = running_loss/size #average loss for whole loader dataset\n",
        "    acc = sumCorrect/sumTotal\n",
        "\n",
        "    return acc, l\n",
        "\n",
        "def train_and_validate(trainloader, valloader):\n",
        "    train_acc_list, train_loss_list, val_acc_list, val_loss_list = [],[],[],[]\n",
        "    \n",
        "    for e in tqdm(range(EPOCHS), position=0, leave=True):\n",
        "\n",
        "        # Train\n",
        "        train_acc, train_loss = train(trainloader)\n",
        "        train_acc_list.append(train_acc)\n",
        "        train_loss_list.append(train_loss)\n",
        "        \n",
        "        # Validate\n",
        "        val_acc, val_loss = validate(valloader)\n",
        "        val_acc_list.append(val_acc)\n",
        "        val_loss_list.append(val_loss)\n",
        "    \n",
        "    return train_acc_list, train_loss_list, val_acc_list, val_loss_list"
      ],
      "execution_count": 14,
      "outputs": []
    },
    {
      "cell_type": "markdown",
      "metadata": {
        "id": "hAF_19BC52Hy",
        "colab_type": "text"
      },
      "source": [
        "## Calculate Accuracy and Loss - *Testing (Not the Main Program)*"
      ]
    },
    {
      "cell_type": "code",
      "metadata": {
        "id": "nYYBoUuVB7Ek",
        "colab_type": "code",
        "colab": {
          "base_uri": "https://localhost:8080/",
          "height": 51
        },
        "outputId": "0eacca63-6a39-44a5-dbae-ce30e73d4592"
      },
      "source": [
        "criterion = nn.NLLLoss()\n",
        "optimiser = optim.Adam(model.parameters(), lr=0.0001, weight_decay=1e-4)\n",
        "\n",
        "# Refer to Deep Learning Roadmap\n",
        "\n",
        "EPOCHS = 2\n",
        "train_acc_total, train_loss_total, val_acc_total, val_loss_total = [],[],[],[]\n",
        "for i in range(EPOCHS):\n",
        "    \n",
        "    a, b, c, d = train_and_validate(trainloader, valloader)\n",
        "  \n",
        "    train_acc_total.append(a)\n",
        "    train_loss_total.append(b) \n",
        "    val_acc_total.append(c) \n",
        "    val_loss_total.append(d) \n"
      ],
      "execution_count": 16,
      "outputs": [
        {
          "output_type": "stream",
          "text": [
            "100%|██████████| 2/2 [00:00<00:00,  3.30it/s]\n",
            "100%|██████████| 2/2 [00:00<00:00,  6.15it/s]\n"
          ],
          "name": "stderr"
        }
      ]
    },
    {
      "cell_type": "code",
      "metadata": {
        "id": "DlycNgZ2fk6m",
        "colab_type": "code",
        "colab": {
          "base_uri": "https://localhost:8080/",
          "height": 102
        },
        "outputId": "2838f6b6-c1d7-43a8-b79e-f4c919878cee"
      },
      "source": [
        "print(train_acc_total)\n",
        "print(train_loss_total)\n",
        "print(\"------------------\")\n",
        "print(val_acc_total)\n",
        "print(val_loss_total)"
      ],
      "execution_count": 17,
      "outputs": [
        {
          "output_type": "stream",
          "text": [
            "[[0.12384259259259259, 0.1316550925925926], [0.12818287037037038, 0.12731481481481483]]\n",
            "[[0.1799049771356362, 0.17832671347315665], [0.17665089439186785, 0.17571445982213374]]\n",
            "------------------\n",
            "[[0.10503472222222222, 0.12760416666666666], [0.1605902777777778, 0.18229166666666666]]\n",
            "[[0.17334381221897072, 0.17292252224352625], [0.17235539274083245, 0.17190176414118874]]\n"
          ],
          "name": "stdout"
        }
      ]
    },
    {
      "cell_type": "markdown",
      "metadata": {
        "id": "ZHLzE8CxsFpk",
        "colab_type": "text"
      },
      "source": [
        "# Visualization\n",
        "\n"
      ]
    },
    {
      "cell_type": "markdown",
      "metadata": {
        "id": "8EnMpT09QnJT",
        "colab_type": "text"
      },
      "source": [
        "## See Validation Results for 1 Sample (FIX ME!)"
      ]
    },
    {
      "cell_type": "code",
      "metadata": {
        "id": "TNJoiAuHI_xn",
        "colab_type": "code",
        "colab": {
          "base_uri": "https://localhost:8080/",
          "height": 232
        },
        "outputId": "6ee3d8bc-8e88-487b-bb48-0d6ab1b2aa95"
      },
      "source": [
        "%matplotlib inline\n",
        "%config InlineBackend.figure_format = 'retina'\n",
        "vessels_names = ['ldai', 'diags', 'septals', 'lcxi', 'obtmar', 'atrials', 'lcim', 'acutes', 'crux', 'unknown']\n",
        "\n",
        "\n",
        "dataiter = iter(valloader)\n",
        "geometries, labels = dataiter.next()\n",
        "\n",
        "# Convert 2D matrix/image to 1D vector\n",
        "\n",
        "geom = geom.resize_(1, 400)\n",
        "\n",
        "\n",
        "# TODO: Calculate the class probabilities (softmax) for img\n",
        "with torch.no_grad():\n",
        "    \n",
        "    logps = model(geom.cuda().view(-1, 4, 100).float()) # convert to cuda tensor to run faster\n",
        "    \n",
        "ps = torch.exp(logps)\n",
        "\n",
        "# Plot the image and probabilities\n",
        "\n",
        "def view_classify(geom, ps):\n",
        "    ''' Function for viewing an image and it's predicted classes.\n",
        "    '''\n",
        "    ps = ps.data.cpu().numpy().squeeze()\n",
        "\n",
        "    fig, (ax1, ax2) = plt.subplots(figsize=(6,9), ncols=2)\n",
        "    ax1.imshow(geom.resize_(20, 20).numpy().squeeze()) #First figure on left\n",
        "    \n",
        "    ax1.axis('off')\n",
        "    ax2.barh(np.arange(10), ps) #Make a horizontal bar plot\n",
        "    ax2.set_aspect(0.1)\n",
        "    ax2.set_yticks(np.arange(11))\n",
        "    ax2.set_yticklabels(vessels_names, size='medium');\n",
        "    ax2.set_title('Class Probability')\n",
        "    ax2.set_xlim(0, 1.1)\n",
        "\n",
        "    plt.tight_layout()\n",
        "\n",
        "\n",
        "geom_numpy = geom.cpu().numpy()\n",
        "view_classify(geom.reshape(20, 20), ps) # convert back to numpy\n",
        "\n",
        "print(f\"The actual vessel is {vessels_names[labels[0]]}\")\n"
      ],
      "execution_count": null,
      "outputs": [
        {
          "output_type": "error",
          "ename": "NameError",
          "evalue": "ignored",
          "traceback": [
            "\u001b[0;31m---------------------------------------------------------------------------\u001b[0m",
            "\u001b[0;31mNameError\u001b[0m                                 Traceback (most recent call last)",
            "\u001b[0;32m<ipython-input-23-746f1c33d40a>\u001b[0m in \u001b[0;36m<module>\u001b[0;34m()\u001b[0m\n\u001b[1;32m      9\u001b[0m \u001b[0;31m# Convert 2D matrix/image to 1D vector\u001b[0m\u001b[0;34m\u001b[0m\u001b[0;34m\u001b[0m\u001b[0;34m\u001b[0m\u001b[0m\n\u001b[1;32m     10\u001b[0m \u001b[0;34m\u001b[0m\u001b[0m\n\u001b[0;32m---> 11\u001b[0;31m \u001b[0mgeom\u001b[0m \u001b[0;34m=\u001b[0m \u001b[0mgeom\u001b[0m\u001b[0;34m.\u001b[0m\u001b[0mresize_\u001b[0m\u001b[0;34m(\u001b[0m\u001b[0;36m1\u001b[0m\u001b[0;34m,\u001b[0m \u001b[0;36m400\u001b[0m\u001b[0;34m)\u001b[0m\u001b[0;34m\u001b[0m\u001b[0;34m\u001b[0m\u001b[0m\n\u001b[0m\u001b[1;32m     12\u001b[0m \u001b[0;34m\u001b[0m\u001b[0m\n\u001b[1;32m     13\u001b[0m \u001b[0;34m\u001b[0m\u001b[0m\n",
            "\u001b[0;31mNameError\u001b[0m: name 'geom' is not defined"
          ]
        }
      ]
    },
    {
      "cell_type": "markdown",
      "metadata": {
        "id": "9l8qw83t58OQ",
        "colab_type": "text"
      },
      "source": [
        "## Plot Accuracies and Loss vs Epochs"
      ]
    },
    {
      "cell_type": "markdown",
      "metadata": {
        "id": "zR56kkoDR02e",
        "colab_type": "text"
      },
      "source": [
        "This fucntion is used to average the five fold train and validation accuracy and loss. It won't be useful if we are tying to tune the hyperparameters OR just training on one dataset. "
      ]
    },
    {
      "cell_type": "code",
      "metadata": {
        "id": "owBbcE6yHf8i",
        "colab_type": "code",
        "colab": {}
      },
      "source": [
        "\n",
        "def averaging(train_acc_total, train_loss_total, val_acc_total, val_loss_total):\n",
        "\n",
        "    train_acc_total = np.asarray(train_acc_total)\n",
        "    train_loss_total = np.asarray(train_loss_total)\n",
        "    val_acc_total = np.asarray(val_acc_total)\n",
        "    val_loss_total = np.asarray(val_loss_total)\n",
        "\n",
        "    # print(train_acc_total)\n",
        "    firstRow = train_acc_total[:, 0]\n",
        "    # print(firstRow)\n",
        "    # print(np.average(firstRow))\n",
        "\n",
        "    train_acc_avg, train_loss_avg, val_acc_avg, val_loss_avg =[], [],[],[]\n",
        "\n",
        "    for i in range(train_acc_total.shape[1]):\n",
        "        mean_acc = np.average(train_acc_total[:, i])\n",
        "        train_acc_avg.append(mean_acc)\n",
        "\n",
        "        mean_loss = np.average(train_loss_total[:, i])\n",
        "        train_loss_avg.append(mean_loss)\n",
        "\n",
        "        mean_acc = np.average(val_acc_total[:, i])\n",
        "        val_acc_avg.append(mean_acc)\n",
        "\n",
        "        mean_loss = np.average(val_loss_total[:, i])\n",
        "        val_loss_avg.append(mean_loss)\n",
        "\n",
        "    return train_acc_avg, train_loss_avg, val_acc_avg, val_loss_avg"
      ],
      "execution_count": null,
      "outputs": []
    },
    {
      "cell_type": "markdown",
      "metadata": {
        "id": "sNBLPY7cvAfN",
        "colab_type": "text"
      },
      "source": [
        "Average Accuracy and Loss for Train and Val"
      ]
    },
    {
      "cell_type": "code",
      "metadata": {
        "id": "wZCaUppuB2Aj",
        "colab_type": "code",
        "colab": {}
      },
      "source": [
        "import matplotlib.pyplot as plt\n",
        "from matplotlib import style\n",
        "import pandas as pd\n",
        "\n",
        "style.use(\"ggplot\")\n",
        "\n",
        "def create_acc_loss_graph(train_acc_list, train_loss_list, val_acc_list, val_loss_list):\n",
        "    epoch = list(range(0, EPOCHS, 1))\n",
        "\n",
        "    d = {'epochs': epoch,\n",
        "        'train_acc': train_acc_list,\n",
        "        'train_loss': train_loss_list,\n",
        "        'val_acc': val_acc_list, \n",
        "        'val_loss': val_loss_list}\n",
        "\n",
        "    df = pd.DataFrame(d)\n",
        "\n",
        "    df['train_acc_avg'] = df['train_acc'].ewm(alpha=.02).mean()  # exponential weighted moving average\n",
        "    df['val_acc_avg'] = df['val_acc'].ewm(alpha=.02).mean()\n",
        "    df['train_loss_avg'] = df['train_loss'].ewm(alpha=.02).mean()\n",
        "    df['val_loss_avg'] = df['val_loss'].ewm(alpha=.02).mean()\n",
        "\n",
        "    # Then plot using pandas:\n",
        "    df.plot(x='epochs', y=['train_acc_avg', 'val_acc_avg'], figsize=(8,4))\n",
        "    plt.ylabel(\"Accuracy\")\n",
        "    df.plot(x='epochs', y=['train_loss_avg', 'val_loss_avg'], figsize=(8,4))\n",
        "    plt.ylabel(\"Loss\")\n",
        "\n",
        "    plt.show()\n",
        "\n"
      ],
      "execution_count": 20,
      "outputs": []
    },
    {
      "cell_type": "markdown",
      "metadata": {
        "id": "OroCqwvNypGG",
        "colab_type": "text"
      },
      "source": [
        "## Compare Validation Sets\n",
        "\n",
        "Validation Set is used to compare diff models and tune hyperparamters to get the optimum one.\n",
        "\n"
      ]
    },
    {
      "cell_type": "code",
      "metadata": {
        "id": "L0RYVGppymto",
        "colab_type": "code",
        "colab": {}
      },
      "source": [
        "from scipy.interpolate import make_interp_spline, BSpline\n",
        "\n",
        "def compare_graph(x, y, parameter, compare):\n",
        "\n",
        "    plt.figure()\n",
        "\n",
        "    for i in range(len(x)):\n",
        "\n",
        "        # 300 represents number of points to make between T.min and T.max\n",
        "        x_smooth = np.linspace(min(x[i]), max(x[i]), 300)  \n",
        "        spline = make_interp_spline(x[i], y[i], k=3)\n",
        "        y_smooth = spline(x_smooth)\n",
        "        plt.plot(x_smooth, y_smooth, label=f\"Model = {i}\")\n",
        "\n",
        "        # plt.plot(x[i], y[i], label=f\"batch size = {parameter[i]}\")\n",
        "    \n",
        "    plt.xlabel('Epochs')\n",
        "    \n",
        "    if compare is \"acc\":\n",
        "        plt.ylabel('Accuracy')\n",
        "        plt.legend(loc=\"lower right\")\n",
        "    else:\n",
        "        plt.ylabel('Loss')\n",
        "        plt.legend(loc=\"upper right\")\n",
        "    \n",
        "    plt.show()\n"
      ],
      "execution_count": null,
      "outputs": []
    },
    {
      "cell_type": "markdown",
      "metadata": {
        "id": "_zvNSlZY16Q7",
        "colab_type": "text"
      },
      "source": [
        "# Main Pipeline\n",
        "24/6/2020 - Curerntly used for hyperparameter tuning through Five-fold cross validation\n",
        "\n",
        "26/6/2020 - The parameters that are selected for pruning are:\n",
        "\n",
        "*   Learning rate \n",
        "*   batch size\n",
        "*   weight initialization - random and He initialization, random is better\n",
        "*   Different pooling layers and Global Pooling Layers\n",
        "\n",
        "\n"
      ]
    },
    {
      "cell_type": "code",
      "metadata": {
        "id": "NftXXQowxWWl",
        "colab_type": "code",
        "colab": {}
      },
      "source": [
        "import statistics as stats\n",
        "\n",
        "accuracies = []\n",
        "\n",
        "modelsArray = [ConvNN_avgpool(), ConvNN_maxpool(), ConvNN_GAP(), ConvNN_GMP()]\n",
        "learningRate = [0.1, 0.01, 0.001, 0.0001, 0.00001]\n",
        "batch = [8, 16, 32, 64, 128]\n",
        "\n",
        "X = X_all \n",
        "y = y_all # Create another array\n",
        "kf = KFold(n_splits=4,random_state=None, shuffle=False) # shuffle was fale\n",
        "\n",
        "train_acc_total, train_loss_total, val_acc_total, val_loss_total = [],[],[],[]\n",
        "epochs_total=[]\n",
        "\n",
        "i = 0\n",
        "for train_index, val_index in kf.split(X):\n",
        "\n",
        "    X_train, X_val = X[train_index], X[val_index]\n",
        "    y_train, y_val = y[train_index], y[val_index]\n",
        "\n",
        "    train_dataset = HeartVesselsDataset(X_train, y_train)\n",
        "    trainloader = DataLoader(dataset=train_dataset, batch_size=16, shuffle=True,num_workers=0)\n",
        "\n",
        "    val_dataset = HeartVesselsDataset(X_val, y_val)\n",
        "    valloader = DataLoader(dataset=val_dataset, batch_size=16,shuffle=True,num_workers=0)\n",
        "\n",
        "    model = modelsArray[i]\n",
        "    model = model.to(device)\n",
        "\n",
        "    t0 = time.time()\n",
        "    criterion = nn.NLLLoss()\n",
        "    optimiser = optim.Adam(model.parameters(), lr=0.0001, weight_decay=1e-4)\n",
        "\n",
        "    EPOCHS = 200# at least 5 for the interpoaltion to work\n",
        "    e = list(range(0, EPOCHS))\n",
        "\n",
        "    train_acc_list, train_loss_list, val_acc_list, val_loss_list = train_and_validate(trainloader, valloader)\n",
        "    \n",
        "    train_acc_total.append(train_acc_list)\n",
        "    train_loss_total.append(train_loss_list) \n",
        "    val_acc_total.append(val_acc_list) \n",
        "    val_loss_total.append(val_loss_list) \n",
        "    epochs_total.append(e)\n",
        "\n",
        "    t1 = time.time()\n",
        "    duration = (t1-t0)/60\n",
        "    print(\"\\nTime taken to train for 1 validation set is \" + \"{:.2f}\".format(duration) + \" minutes.\")\n",
        "\n",
        "    i+= 1\n",
        "\n",
        "compare_graph(epochs_total, val_acc_total, modelsArray, compare=\"acc\")\n",
        "compare_graph(epochs_total, val_loss_total, modelsArray, compare=\"loss\")\n",
        "\n",
        "# To get acc and loss for both val and test\n",
        "# a,b,c,d = averaging(train_acc_total, train_loss_total,  val_acc_total, val_loss_total)\n",
        "# create_acc_loss_graph(a,b,c,d )\n",
        "\n",
        "# print(f\"\\nThis model has an accuracy of {round(max(accuracies), 3)} +/- {round(stats.stdev(accuracies), 3)}\")      "
      ],
      "execution_count": null,
      "outputs": []
    },
    {
      "cell_type": "code",
      "metadata": {
        "id": "jkpkDkWIU9VD",
        "colab_type": "code",
        "colab": {}
      },
      "source": [
        "modelsArray = [ConvNN_avgpool(), ConvNN_maxpool(), ConvNN_GAP(), ConvNN_GMP()]\n",
        "\n",
        "for counter, val_list in enumerate(val_acc_total):\n",
        "    maxValue = max(val_list)\n",
        "    print(f\"Model {counter} has a max accuracy of {round(maxValue, 3)} at epoch {val_list.index(maxValue)}\")"
      ],
      "execution_count": null,
      "outputs": []
    },
    {
      "cell_type": "markdown",
      "metadata": {
        "id": "lT0bMCFxf2EF",
        "colab_type": "text"
      },
      "source": [
        "# Training on Most Optimum Model\n",
        "\n",
        "So far the deafult model - **ConvNN_maxpool()** has the best performance"
      ]
    },
    {
      "cell_type": "code",
      "metadata": {
        "id": "m-CklZBhdTDj",
        "colab_type": "code",
        "colab": {}
      },
      "source": [
        "# Decide which model is the best\n",
        "model = ConvNN_single_heart()\n",
        "model = model.to(device)"
      ],
      "execution_count": 21,
      "outputs": []
    },
    {
      "cell_type": "code",
      "metadata": {
        "id": "ijEP6xo-f0Mt",
        "colab_type": "code",
        "colab": {
          "base_uri": "https://localhost:8080/",
          "height": 632
        },
        "outputId": "b647d867-f9c1-4e46-c0a4-ef86a86b7e9d"
      },
      "source": [
        "import statistics as stats\n",
        "\n",
        "accuracies = []\n",
        "\n",
        "learningRate = 0.0001\n",
        "batch = 16\n",
        "\n",
        "\n",
        "X = X_all \n",
        "y = y_all # Create another array\n",
        "\n",
        "train_ratio = 0.8\n",
        "\n",
        "train_index = list(range(0, int(train_ratio*len(X))))\n",
        "val_index = list(range(int(train_ratio*len(X)), len(X)-1))\n",
        "\n",
        "X_train, X_val = X[train_index], X[val_index]\n",
        "y_train, y_val = y[train_index], y[val_index]\n",
        "\n",
        "train_dataset = HeartVesselsDataset(X_train, y_train)\n",
        "trainloader = DataLoader(dataset=train_dataset, batch_size=batch,shuffle=True,num_workers=0)\n",
        "\n",
        "val_dataset = HeartVesselsDataset(X_val, y_val)\n",
        "valloader = DataLoader(dataset=val_dataset, batch_size=batch,shuffle=True,num_workers=0)\n",
        "\n",
        "\n",
        "\n",
        "t0 = time.time()\n",
        "criterion = nn.NLLLoss()\n",
        "optimiser = optim.Adam(model.parameters(), lr=learningRate, weight_decay=1e-4)\n",
        "\n",
        "EPOCHS = 800# at least 5 for the interpoaltion to work\n",
        "\n",
        "train_acc_list, train_loss_list, val_acc_list, val_loss_list = train_and_validate(trainloader, valloader)\n",
        "\n",
        "t1 = time.time()\n",
        "duration = (t1-t0)/60\n",
        "print(\"Time taken to train for 1 validation set is \" + \"{:.2f}\".format(duration) + \" minutes.\\n\")\n",
        "\n",
        "create_acc_loss_graph(train_acc_list, train_loss_list, val_acc_list, val_loss_list)\n",
        "\n",
        "# To get acc and loss for both val and test\n",
        "# a,b,c,d = averaging(train_acc_total, train_loss_total,  val_acc_total, val_loss_total)\n",
        "# create_acc_loss_graph(a,b,c,d )\n",
        "\n",
        "print(f\"\\nThis model has an accuracy of {round(val_acc_list[-1], 3)} and loss of {round(val_loss_list[-1], 3)}\")      "
      ],
      "execution_count": 22,
      "outputs": [
        {
          "output_type": "stream",
          "text": [
            "100%|██████████| 800/800 [02:09<00:00,  6.20it/s]\n"
          ],
          "name": "stderr"
        },
        {
          "output_type": "stream",
          "text": [
            "Time taken to train for 1 validation set is 2.15 minutes.\n",
            "\n"
          ],
          "name": "stdout"
        },
        {
          "output_type": "display_data",
          "data": {
            "image/png": "[encoded data removed]",
            "text/plain": [
              "<Figure size 576x288 with 1 Axes>"
            ]
          },
          "metadata": {
            "tags": []
          }
        },
        {
          "output_type": "display_data",
          "data": {
            "image/png": "[encoded data removed]",
            "text/plain": [
              "<Figure size 576x288 with 1 Axes>"
            ]
          },
          "metadata": {
            "tags": []
          }
        },
        {
          "output_type": "stream",
          "text": [
            "\n",
            "This model has an accuracy of 0.852 and loss of 0.111\n"
          ],
          "name": "stdout"
        }
      ]
    },
    {
      "cell_type": "markdown",
      "metadata": {
        "id": "roCsWtjWr3Qb",
        "colab_type": "text"
      },
      "source": [
        "# Test Model on Unseen Data \n",
        "Well technically, `model.eval() `is not learning any new weights so its testing"
      ]
    },
    {
      "cell_type": "code",
      "metadata": {
        "id": "wQXsop42Nztw",
        "colab_type": "code",
        "colab": {
          "base_uri": "https://localhost:8080/",
          "height": 34
        },
        "outputId": "35b8c7b4-46e6-4221-c6da-9e7da38c605a"
      },
      "source": [
        "# !rm -r /content/test\n",
        "dest = '/content/test/'\n",
        "X_test, y_test = storeDataForSingleHeart(dest)\n",
        "\n",
        "test_dataset = HeartVesselsDataset(X_test, y_test)\n",
        "testloader = DataLoader(dataset=test_dataset, batch_size=BATCH_SIZE,shuffle=True,num_workers=0)"
      ],
      "execution_count": null,
      "outputs": [
        {
          "output_type": "stream",
          "text": [
            "There are 28 heart datasets\n"
          ],
          "name": "stdout"
        }
      ]
    },
    {
      "cell_type": "code",
      "metadata": {
        "id": "8cAsvvzwOvKq",
        "colab_type": "code",
        "colab": {
          "base_uri": "https://localhost:8080/",
          "height": 394
        },
        "outputId": "2e2ad917-0204-4ab5-cf36-47e7f75687ad"
      },
      "source": [
        "vessels_names = ['ldai', 'diags', 'septals', 'lcxi', 'obtmar', 'atrials', 'lcim', 'acutes', 'crux', 'unknown']\n",
        "\n",
        "def test(model):\n",
        "\n",
        "    correct = 0\n",
        "    total = 0\n",
        "    vessels_count = np.zeros((10,), dtype=int)\n",
        "    vessels_correct = np.zeros((10,), dtype=int)\n",
        "    mainBifurcations_count = np.zeros((3,), dtype=int) \n",
        "    mainBifurcations_correct = np.zeros((3,), dtype=int) \n",
        "\n",
        "    predicted_class_array = []\n",
        "    true_class_array = []\n",
        "\n",
        "    with torch.no_grad():\n",
        "\n",
        "        model.eval()\n",
        "\n",
        "        for test_X, test_y in testloader:\n",
        "\n",
        "            test_X, test_y = test_X.to(device), test_y.to(device)\n",
        "\n",
        "            # for i in tqdm(range(len(test_X)), position=0, leave=True):\n",
        "            for X, y in zip(test_X, test_y):\n",
        "                test_y_list = y.tolist()\n",
        "                # true_class_array.append(test_y)\n",
        "                true_class_array.extend(test_y_list)\n",
        "                X = X.view(-1, 4, 16, 100) # feed \"-1\" batch size \n",
        "                # print(X.shape)\n",
        "                X, y = X.to(device), y.to(device)\n",
        "                # print(f\"hello {y.shape}\")\n",
        "\n",
        "                # train_X = train_X.view(-1, 4, 100)\n",
        "                output = model(X.float())\n",
        "\n",
        "                _, predicted = torch.max(output.data, 2)\n",
        "                predicted = predicted[0].cpu().data.numpy()\n",
        "                # print(predicted)\n",
        "                predicted_class_array.extend(predicted)\n",
        "\n",
        "                for predict, real in zip(predicted, y):\n",
        "                    real = real.item()\n",
        "                    if real == 9: #exclude unknowns\n",
        "                        continue\n",
        "                    \n",
        "                    vessels_count[real] += 1\n",
        "            \n",
        "\n",
        "                    if predict == real:\n",
        "                        vessels_correct[real] += 1\n",
        "                        correct += 1\n",
        "                    \n",
        "                    # These numbers follow the sequence in the \"vessels_name\" list\n",
        "                    # print(predicted_class)\n",
        "                    else:\n",
        "                        if predict in {0, 1, 2} and real in {0, 1, 2}:\n",
        "                                # print(f\"predicted {predicted_class}, real {real_class}\")\n",
        "                                mainBifurcations_correct[0] += 1\n",
        "\n",
        "                        elif predict in {3, 4} and real in {3, 4}:\n",
        "                                # print(f\"predicted {predicted_class}, real {real_class}\")\n",
        "                                mainBifurcations_correct[1] += 1\n",
        "                        \n",
        "                        elif predict in {7, 8} and real in {7, 8}:\n",
        "                                mainBifurcations_correct[2] += 1\n",
        "\n",
        "                    # print(\"hello\")\n",
        "                    total += 1\n",
        "\n",
        "\n",
        "    print(\"\\n\\nOverall Accuracy (excluding unknowns) is:\", round(correct/total,3))\n",
        "    print(\"------------------------\")\n",
        "\n",
        "    for i in range(len(vessels_count)):\n",
        "        acc = round(vessels_correct[i]/vessels_count[i],3)\n",
        "        string = f\"Accuracy of {vessels_names[i]} is:\"\n",
        "        print(\"{:<30} {:<5}\".format(string, acc))\n",
        "\n",
        "    print(\"------------------------\")\n",
        "    print(f\"No of samples for each vessel in a batch is {vessels_count}\")\n",
        "\n",
        "    mainBifurcations_count[0] = vessels_count[0] + vessels_count[1] + vessels_count[2] #LCA\n",
        "    mainBifurcations_count[1] = vessels_count[3] + vessels_count[4] #LCX\n",
        "    mainBifurcations_count[2] = vessels_count[7] + vessels_count[8] #RCA \n",
        "\n",
        "    mainBifurcations_correct[0] += vessels_correct[0] + vessels_correct[1] + vessels_correct[2]  #LCA\n",
        "    mainBifurcations_correct[1] += vessels_correct[3] + vessels_correct[4]  #LCX\n",
        "    mainBifurcations_correct[2] += vessels_correct[7] + vessels_correct[8]  #RCA\n",
        "\n",
        "    print(\"------------------------\")\n",
        "    print(f\"Bifurcation LCA has accuracy of {round(mainBifurcations_correct[0]/mainBifurcations_count[0], 3)}\")\n",
        "    print(f\"Bifurcation LCX has accuracy of {round(mainBifurcations_correct[1]/mainBifurcations_count[1], 3)}\")\n",
        "    print(f\"Bifurcation RCA has accuracy of {round(mainBifurcations_correct[2]/mainBifurcations_count[2], 3)}\")\n",
        "\n",
        "    # print(test_y)\n",
        "    return true_class_array, predicted_class_array\n",
        "\n",
        "\n",
        "true_class_array, predicted_class_array = test(model)\n"
      ],
      "execution_count": null,
      "outputs": [
        {
          "output_type": "stream",
          "text": [
            "\n",
            "\n",
            "Overall Accuracy (excluding unknowns) is: 0.767\n",
            "------------------------\n",
            "Accuracy of ldai is:           0.962\n",
            "Accuracy of diags is:          0.69 \n",
            "Accuracy of septals is:        1.0  \n",
            "Accuracy of lcxi is:           0.815\n",
            "Accuracy of obtmar is:         0.4  \n",
            "Accuracy of atrials is:        nan  \n",
            "Accuracy of lcim is:           0.0  \n",
            "Accuracy of acutes is:         0.88 \n",
            "Accuracy of crux is:           0.822\n",
            "Accuracy of unknown is:        nan  \n",
            "------------------------\n",
            "No of samples for each vessel in a batch is [26 29  1 27 20  0  3 25 45  0]\n",
            "------------------------\n",
            "Bifurcation LCA has accuracy of 0.893\n",
            "Bifurcation LCX has accuracy of 0.851\n",
            "Bifurcation RCA has accuracy of 0.929\n"
          ],
          "name": "stdout"
        },
        {
          "output_type": "stream",
          "text": [
            "/usr/local/lib/python3.6/dist-packages/ipykernel_launcher.py:75: RuntimeWarning: invalid value encountered in long_scalars\n"
          ],
          "name": "stderr"
        }
      ]
    },
    {
      "cell_type": "markdown",
      "metadata": {
        "id": "pxQjuU2CYx5f",
        "colab_type": "text"
      },
      "source": [
        "# Analysis "
      ]
    },
    {
      "cell_type": "markdown",
      "metadata": {
        "id": "iY5iEU8f69aZ",
        "colab_type": "text"
      },
      "source": [
        "## Confusion Matrix"
      ]
    },
    {
      "cell_type": "code",
      "metadata": {
        "id": "cqnJMlKtUlfs",
        "colab_type": "code",
        "colab": {
          "base_uri": "https://localhost:8080/",
          "height": 153
        },
        "outputId": "5ed5d6d6-47ba-4401-9176-b15f12800787"
      },
      "source": [
        "from sklearn import metrics\n",
        "\n",
        "# y_true = np.array()\n",
        "\n",
        "# True values\n",
        "y_true = true_class_array\n",
        "# Predicted values\n",
        "y_pred = predicted_class_array\n",
        "\n",
        "y_true, y_pred = zip(*[(i, j) for i, j in zip(y_true, y_pred) if i !=9]) # zip(*..) is unzip\n",
        "\n",
        "\n",
        "# Print the confusion matrix\n",
        "array=metrics.confusion_matrix(y_true, y_pred)\n",
        "print(array)\n"
      ],
      "execution_count": null,
      "outputs": [
        {
          "output_type": "stream",
          "text": [
            "[[25  1  0  0  0  0  0  0]\n",
            " [ 2 20  1  0  5  1  0  0]\n",
            " [ 0  0  1  0  0  0  0  0]\n",
            " [ 0  1  0 22  4  0  0  0]\n",
            " [ 0  4  1  6  8  1  0  0]\n",
            " [ 0  1  1  0  1  0  0  0]\n",
            " [ 0  0  0  0  0  0 22  3]\n",
            " [ 2  0  0  1  1  1  3 37]]\n"
          ],
          "name": "stdout"
        }
      ]
    },
    {
      "cell_type": "code",
      "metadata": {
        "id": "dEAMgvzs_eCH",
        "colab_type": "code",
        "colab": {
          "base_uri": "https://localhost:8080/",
          "height": 272
        },
        "outputId": "af3d0622-2cf7-4def-a658-3fa5b9fb1d7d"
      },
      "source": [
        "# Print the precision and recall, among other metrics\n",
        "vessels_names_without_unknowns = ['ldai', 'diags', 'septals', 'lcxi', 'obtmar', 'lcim', 'acutes', 'crux']\n",
        "print(metrics.classification_report(y_true, y_pred, digits=3, target_names=vessels_names_without_unknowns))"
      ],
      "execution_count": null,
      "outputs": [
        {
          "output_type": "stream",
          "text": [
            "              precision    recall  f1-score   support\n",
            "\n",
            "        ldai      0.862     0.962     0.909        26\n",
            "       diags      0.741     0.690     0.714        29\n",
            "     septals      0.250     1.000     0.400         1\n",
            "        lcxi      0.759     0.815     0.786        27\n",
            "      obtmar      0.421     0.400     0.410        20\n",
            "        lcim      0.000     0.000     0.000         3\n",
            "      acutes      0.880     0.880     0.880        25\n",
            "        crux      0.925     0.822     0.871        45\n",
            "\n",
            "    accuracy                          0.767       176\n",
            "   macro avg      0.605     0.696     0.621       176\n",
            "weighted avg      0.777     0.767     0.769       176\n",
            "\n"
          ],
          "name": "stdout"
        }
      ]
    },
    {
      "cell_type": "code",
      "metadata": {
        "id": "9G_WTr1TS_Av",
        "colab_type": "code",
        "colab": {
          "base_uri": "https://localhost:8080/",
          "height": 445
        },
        "outputId": "f154b1c6-a4fd-4308-bee8-dabaa057a100"
      },
      "source": [
        "import seaborn as sn\n",
        "vessels_names_without_unknowns = ['ldai', 'diags', 'septals', 'lcxi', 'obtmar', 'atrials', 'lcim', 'acutes', 'crux']\n",
        "df_cm = pd.DataFrame(array, index = [i for i in vessels_names_without_unknowns],\n",
        "                  columns = [i for i in vessels_names_without_unknowns])\n",
        "plt.figure(figsize = (10,7))\n",
        "sn.heatmap(df_cm, annot=True, cmap=\"YlGnBu\", fmt='d')"
      ],
      "execution_count": null,
      "outputs": [
        {
          "output_type": "execute_result",
          "data": {
            "text/plain": [
              "<matplotlib.axes._subplots.AxesSubplot at 0x7f644b6250f0>"
            ]
          },
          "metadata": {
            "tags": []
          },
          "execution_count": 69
        },
        {
          "output_type": "display_data",
          "data": {
            "image/png": "[encoded data removed]",
            "text/plain": [
              "<Figure size 720x504 with 2 Axes>"
            ]
          },
          "metadata": {
            "tags": [],
            "image/png": {
              "width": 544,
              "height": 411
            }
          }
        }
      ]
    },
    {
      "cell_type": "code",
      "metadata": {
        "id": "Sni8SmGzV6Vc",
        "colab_type": "code",
        "colab": {
          "base_uri": "https://localhost:8080/",
          "height": 445
        },
        "outputId": "f614f5d3-51f1-46e0-edfd-beaab78e8c36"
      },
      "source": [
        "# import seaborn as sn\n",
        "\n",
        "\n",
        "# # remove unknown labels \n",
        "# array = array[0:-1, 0:-1]\n",
        "\n",
        "# vessels_names = ['ldai', 'diags', 'septals', 'lcxi', 'obtmar', 'atrials', 'lcim', 'acutes', 'crux']\n",
        "# df_cm = pd.DataFrame(array, index = [i for i in vessels_names],\n",
        "#                   columns = [i for i in vessels_names])\n",
        "# plt.figure(figsize = (10,7))\n",
        "# sn.heatmap(df_cm, annot=True, cmap=\"YlGnBu\", fmt='d')"
      ],
      "execution_count": null,
      "outputs": [
        {
          "output_type": "execute_result",
          "data": {
            "text/plain": [
              "<matplotlib.axes._subplots.AxesSubplot at 0x7f99614d9390>"
            ]
          },
          "metadata": {
            "tags": []
          },
          "execution_count": 78
        },
        {
          "output_type": "display_data",
          "data": {
            "image/png": "[encoded data removed]",
            "text/plain": [
              "<Figure size 720x504 with 2 Axes>"
            ]
          },
          "metadata": {
            "tags": [],
            "image/png": {
              "width": 544,
              "height": 411
            }
          }
        }
      ]
    },
    {
      "cell_type": "markdown",
      "metadata": {
        "id": "F09_QQ7r_qyw",
        "colab_type": "text"
      },
      "source": [
        "# Appendix A - Displays Model Information"
      ]
    },
    {
      "cell_type": "code",
      "metadata": {
        "id": "Eo0MTCT2w7rj",
        "colab_type": "code",
        "colab": {}
      },
      "source": [
        "# Move all the files in the test folder back to the main folder \n",
        "\n",
        "import os\n",
        "import shutil\n",
        "source = '/content/test'\n",
        "dest1 = '/content/processed'\n",
        "folders = os.listdir(source)\n",
        "\n",
        "for folder in folders:\n",
        "\n",
        "    if folder == \".DS_Store\":\n",
        "        continue\n",
        "    new_folder_path = f\"{source}/{folder}\"\n",
        "\n",
        "    single_folder = os.listdir(new_folder_path)\n",
        "\n",
        "    for f in single_folder:\n",
        "        shutil.move(f\"{new_folder_path}/{f}\", f\"{dest1}/{folder}\")\n"
      ],
      "execution_count": null,
      "outputs": []
    },
    {
      "cell_type": "code",
      "metadata": {
        "id": "-AEnfmgy3qVL",
        "colab_type": "code",
        "colab": {
          "base_uri": "https://localhost:8080/",
          "height": 272
        },
        "outputId": "27c6615d-dd8b-4890-da33-c4212341bfe9"
      },
      "source": [
        "# from torchvision import models\n",
        "# model = models.vgg16()\n",
        "print(model)"
      ],
      "execution_count": null,
      "outputs": [
        {
          "output_type": "stream",
          "text": [
            "ConvNN_single_heart(\n",
            "  (conv1): Conv2d(4, 16, kernel_size=(1, 3), stride=(1, 1))\n",
            "  (conv2): Conv2d(16, 64, kernel_size=(1, 3), stride=(1, 1))\n",
            "  (conv3): Conv2d(64, 256, kernel_size=(1, 3), stride=(1, 1))\n",
            "  (conv1_bn): BatchNorm2d(16, eps=1e-05, momentum=0.1, affine=True, track_running_stats=True)\n",
            "  (conv2_bn): BatchNorm2d(64, eps=1e-05, momentum=0.1, affine=True, track_running_stats=True)\n",
            "  (conv3_bn): BatchNorm2d(256, eps=1e-05, momentum=0.1, affine=True, track_running_stats=True)\n",
            "  (fc1_bn): BatchNorm1d(128, eps=1e-05, momentum=0.1, affine=True, track_running_stats=True)\n",
            "  (fc2_bn): BatchNorm1d(32, eps=1e-05, momentum=0.1, affine=True, track_running_stats=True)\n",
            "  (fc_dropout): Dropout(p=0.5, inplace=False)\n",
            "  (conv_dropout): Dropout(p=0.1, inplace=False)\n",
            "  (fc1): Linear(in_features=2560, out_features=128, bias=True)\n",
            "  (fc2): Linear(in_features=128, out_features=32, bias=True)\n",
            "  (fc3): Linear(in_features=32, out_features=10, bias=True)\n",
            ")\n"
          ],
          "name": "stdout"
        }
      ]
    },
    {
      "cell_type": "code",
      "metadata": {
        "id": "TvErnUHdHhYn",
        "colab_type": "code",
        "colab": {
          "base_uri": "https://localhost:8080/",
          "height": 663
        },
        "outputId": "3d6124fe-7bbb-4a01-b19c-a9d787b76896"
      },
      "source": [
        "# Prints the model's state for each layer\n",
        "print(\"Model's state_dict:\")\n",
        "for param_tensor in model.state_dict():\n",
        "    print(param_tensor, \"\\t\", model.state_dict()[param_tensor].size())\n",
        "\n",
        "# Print the weights of the model - A LOT OF MATRICES\n",
        "# print(\"Optimizer's state_dict:\")\n",
        "# for var_name in optimiser.state_dict():\n",
        "#     print(var_name, \"\\t\", optimiser.state_dict()[var_name])"
      ],
      "execution_count": null,
      "outputs": [
        {
          "output_type": "stream",
          "text": [
            "Model's state_dict:\n",
            "conv1.weight \t torch.Size([16, 4, 1, 3])\n",
            "conv1.bias \t torch.Size([16])\n",
            "conv2.weight \t torch.Size([64, 16, 1, 3])\n",
            "conv2.bias \t torch.Size([64])\n",
            "conv3.weight \t torch.Size([256, 64, 1, 3])\n",
            "conv3.bias \t torch.Size([256])\n",
            "conv1_bn.weight \t torch.Size([16])\n",
            "conv1_bn.bias \t torch.Size([16])\n",
            "conv1_bn.running_mean \t torch.Size([16])\n",
            "conv1_bn.running_var \t torch.Size([16])\n",
            "conv1_bn.num_batches_tracked \t torch.Size([])\n",
            "conv2_bn.weight \t torch.Size([64])\n",
            "conv2_bn.bias \t torch.Size([64])\n",
            "conv2_bn.running_mean \t torch.Size([64])\n",
            "conv2_bn.running_var \t torch.Size([64])\n",
            "conv2_bn.num_batches_tracked \t torch.Size([])\n",
            "conv3_bn.weight \t torch.Size([256])\n",
            "conv3_bn.bias \t torch.Size([256])\n",
            "conv3_bn.running_mean \t torch.Size([256])\n",
            "conv3_bn.running_var \t torch.Size([256])\n",
            "conv3_bn.num_batches_tracked \t torch.Size([])\n",
            "fc1_bn.weight \t torch.Size([128])\n",
            "fc1_bn.bias \t torch.Size([128])\n",
            "fc1_bn.running_mean \t torch.Size([128])\n",
            "fc1_bn.running_var \t torch.Size([128])\n",
            "fc1_bn.num_batches_tracked \t torch.Size([])\n",
            "fc2_bn.weight \t torch.Size([32])\n",
            "fc2_bn.bias \t torch.Size([32])\n",
            "fc2_bn.running_mean \t torch.Size([32])\n",
            "fc2_bn.running_var \t torch.Size([32])\n",
            "fc2_bn.num_batches_tracked \t torch.Size([])\n",
            "fc1.weight \t torch.Size([128, 2560])\n",
            "fc1.bias \t torch.Size([128])\n",
            "fc2.weight \t torch.Size([32, 128])\n",
            "fc2.bias \t torch.Size([32])\n",
            "fc3.weight \t torch.Size([10, 32])\n",
            "fc3.bias \t torch.Size([10])\n"
          ],
          "name": "stdout"
        }
      ]
    },
    {
      "cell_type": "code",
      "metadata": {
        "id": "6L46iOl4dkub",
        "colab_type": "code",
        "colab": {
          "base_uri": "https://localhost:8080/"
        },
        "outputId": "1719dde0-3e0c-42d6-a520-4732b0881e73"
      },
      "source": [
        "\n",
        "total_params = sum(p.numel() for p in model.parameters())\n",
        "\n",
        "trainable_params = sum(p.numel() for p in model.parameters() if p.requires_grad)\n",
        "\n",
        "print(f\"The total params are {total_params} and the trainable one are {trainable_params}\")\n"
      ],
      "execution_count": null,
      "outputs": [
        {
          "output_type": "stream",
          "text": [
            "The total params are 1305562 and the trainable one are 1305562\n"
          ],
          "name": "stdout"
        }
      ]
    },
    {
      "cell_type": "code",
      "metadata": {
        "id": "fKL2Be963upd",
        "colab_type": "code",
        "colab": {}
      },
      "source": [
        ""
      ],
      "execution_count": null,
      "outputs": []
    }
  ]
}