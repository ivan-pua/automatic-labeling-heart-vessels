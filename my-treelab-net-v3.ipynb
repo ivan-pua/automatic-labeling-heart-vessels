{
 "cells": [
  {
   "cell_type": "code",
   "execution_count": 127,
   "metadata": {},
   "outputs": [],
   "source": [
    "import os\n",
    "from cadtoolkit.pc2g import CoronaryGraph, _read_centerlines_txt\n"
   ]
  },
  {
   "cell_type": "code",
   "execution_count": 222,
   "metadata": {},
   "outputs": [],
   "source": [
    "path = \"../cartesian_data\" # change this path\n",
    "\n",
    "files = os.listdir(path)\n",
    "if not os.path.exists('cartesian_graphs'):\n",
    "    os.makedirs('cartesian_graphs')"
   ]
  },
  {
   "cell_type": "code",
   "execution_count": 224,
   "metadata": {},
   "outputs": [
    {
     "name": "stdout",
     "output_type": "stream",
     "text": [
      "AHG0133.txt\n"
     ]
    }
   ],
   "source": [
    "print(files[2])\n",
    "f= files[2]"
   ]
  },
  {
   "cell_type": "code",
   "execution_count": 130,
   "metadata": {},
   "outputs": [
    {
     "name": "stdout",
     "output_type": "stream",
     "text": [
      "converting points\n",
      "converting point data\n",
      "converting cell data\n",
      "Writing VTK XML surface file.\n"
     ]
    },
    {
     "name": "stderr",
     "output_type": "stream",
     "text": [
      "/home/561/qp2123/miniconda3/envs/treelstm/lib/python3.7/site-packages/vmtk/vmtknumpytocenterlines.py:61: FutureWarning: Conversion of the second argument of issubdtype from `float` to `np.floating` is deprecated. In future, it will be treated as `np.float64 == np.dtype(float).type`.\n",
      "  if np.issubdtype(self.ArrayDict['PointData'][pointKey].dtype, float):\n",
      "/home/561/qp2123/miniconda3/envs/treelstm/lib/python3.7/site-packages/vmtk/vmtknumpytocenterlines.py:65: FutureWarning: Conversion of the second argument of issubdtype from `int` to `np.signedinteger` is deprecated. In future, it will be treated as `np.int64 == np.dtype(int).type`.\n",
      "  if np.issubdtype(self.ArrayDict['PointData'][pointKey].dtype, checkDt):\n"
     ]
    }
   ],
   "source": [
    "# this section is just a simplified version of text2graph.py\n",
    "# for f in files: # uncomment this when sure its working...\n",
    "\n",
    "g = CoronaryGraph() # creates empty graph 'g'\n",
    "updated_g = g.from_txt(os.path.join(path, f))\n",
    "\n",
    "# Save the CoronaryGraph() object\n",
    "f_without_ext = os.path.splitext(f)[0] # remove .txt extension\n",
    "updated_g.sg=None\n",
    "updated_g.save(f\"cartesian_graphs/{f_without_ext}\")"
   ]
  },
  {
   "cell_type": "code",
   "execution_count": 131,
   "metadata": {},
   "outputs": [
    {
     "name": "stdout",
     "output_type": "stream",
     "text": [
      "Start: {0, 4557}\n",
      "Bifs: {13718, 13719, 13720, 13721, 13722}\n",
      "End: {9448, 7465, 12648, 4556, 13263, 13717, 11806}\n"
     ]
    }
   ],
   "source": [
    "print(f\"Start: {updated_g.startpts()}\")\n",
    "print(f\"Bifs: {updated_g.bifurcations()}\")\n",
    "# print(f\"Inner: {points.inner_points()}\")\n",
    "print(f\"End: {updated_g.endpoints()}\")\n"
   ]
  },
  {
   "cell_type": "code",
   "execution_count": 132,
   "metadata": {},
   "outputs": [],
   "source": [
    "# for idx, val in updated_g.nodes.items():\n",
    "#     print(idx, val)"
   ]
  },
  {
   "cell_type": "code",
   "execution_count": 133,
   "metadata": {},
   "outputs": [
    {
     "name": "stdout",
     "output_type": "stream",
     "text": [
      "{'ids': 0, 'y_real': 8, 'R': 4.9172, 'Radius': 1.5, 'TCoords': array([0., 0.], dtype=float32), 'CenterlineIds': 0, 'TractIds': 0, 'Blanking': 0, 'GroupIds': 0, 'loc': array([   1.9243667,  -12.503833 , -111.58466  ], dtype=float32)}\n",
      "{'ids': 0, 'y_real': 8, 'R': 4.9133043, 'Radius': 1.5, 'TCoords': array([0.01187648, 0.        ], dtype=float32), 'CenterlineIds': 0, 'TractIds': 0, 'Blanking': 0, 'GroupIds': 0, 'loc': array([   1.6299846,  -12.882071 , -111.57544  ], dtype=float32)}\n"
     ]
    }
   ],
   "source": [
    "# Showing info for random points\n",
    "print(updated_g.nodes[0])\n",
    "print(updated_g.nodes[10])"
   ]
  },
  {
   "cell_type": "code",
   "execution_count": 134,
   "metadata": {},
   "outputs": [],
   "source": [
    "# Plot graph \n",
    "\n",
    "# import networkx as nx\n",
    "# from networkx.drawing.nx_agraph import graphviz_layout\n",
    "# import matplotlib.pyplot as plt\n",
    "\n",
    "# skeleton_graph = updated_g.collapse_intermediates()\n",
    "# plt.title('Coronary Map')\n",
    "# pos=graphviz_layout(skeleton_graph, prog='dot')\n",
    "# nx.draw(skeleton_graph, pos, with_labels=True, arrows=True) # good\n",
    "# plt.savefig('nx_test.png')"
   ]
  },
  {
   "cell_type": "code",
   "execution_count": 138,
   "metadata": {},
   "outputs": [
    {
     "name": "stdout",
     "output_type": "stream",
     "text": [
      "1.6.0\n",
      "10.2\n",
      "True\n"
     ]
    }
   ],
   "source": [
    "# Attempt to create Graph dataset\n",
    "import torch\n",
    "from torch_geometric.data import Data, DataLoader\n",
    "\n",
    "print(torch.__version__)\n",
    "print(torch.version.cuda)\n",
    "print(torch.cuda.is_available())"
   ]
  },
  {
   "cell_type": "code",
   "execution_count": 139,
   "metadata": {},
   "outputs": [],
   "source": [
    "from torch_geometric.utils import from_networkx\n",
    "from torch_geometric.data import InMemoryDataset # base class\n",
    "\n",
    "class GraphDataset(InMemoryDataset): # subclass from base class\n",
    "    \n",
    "    num_classes = 10\n",
    "    num_node_features = 3\n",
    "    \n",
    "    def __init__(self, root, transform=None, pre_transform=None):\n",
    "        # calling super class\n",
    "        super(GraphDataset,self).__init__(root, transform, pre_transform) \n",
    "        self.data, self.slices = torch.load(self.processed_paths[0])\n",
    "\n",
    "    @property\n",
    "    def raw_file_names(self):\n",
    "        return [f\"{self.root}\"] # like calling super variables in Java\n",
    "\n",
    "    @property\n",
    "    def processed_file_names(self):\n",
    "        return ['processed']\n",
    "\n",
    "    def download(self):\n",
    "        # Download to `self.raw_dir`.\n",
    "        pass\n",
    "    \n",
    "    def process(self):\n",
    "        # Read data into huge `Data` list.\n",
    "\n",
    "        data_list = []\n",
    "\n",
    "        files = os.listdir(\"graphs\")\n",
    "        for f in files:\n",
    "\n",
    "            if f == \".ipynb_checkpoints\": continue\n",
    "\n",
    "            a = CoronaryGraph() # another empty graph\n",
    "            loadedGraph = a.load(f\"cartesian_graphs/{f}\")\n",
    "            skeleton_graph = loadedGraph.collapse_intermediates()\n",
    "            data = from_networkx(skeleton_graph)\n",
    "#             data.y = data.ids\n",
    "            data.name = f\n",
    "            data_list.append(data)\n",
    "#             print(f\"{f} \\n {data}\")\n",
    "\n",
    "        if self.pre_filter is not None:\n",
    "            data_list = [data for data in data_list if self.pre_filter(data)]\n",
    "\n",
    "        if self.pre_transform is not None:\n",
    "            data_list = [self.pre_transform(data) for data in data_list]\n",
    "\n",
    "        data, slices = self.collate(data_list)\n",
    "        torch.save((data, slices), self.processed_paths[0])\n",
    "\n",
    "all_data = GraphDataset(root=\"cartesian\")\n"
   ]
  },
  {
   "cell_type": "code",
   "execution_count": 140,
   "metadata": {},
   "outputs": [
    {
     "name": "stdout",
     "output_type": "stream",
     "text": [
      "253 64\n"
     ]
    }
   ],
   "source": [
    "# Split train and test data\n",
    "import numpy as np\n",
    "\n",
    "all_data = all_data.shuffle()\n",
    "\n",
    "train_ratio = 0.8\n",
    "threshold = int(train_ratio*len(all_data))\n",
    "\n",
    "train_data, val_data = all_data[:threshold], all_data[threshold:]\n",
    "\n",
    "print(len(train_data), len(val_data))"
   ]
  },
  {
   "cell_type": "code",
   "execution_count": 141,
   "metadata": {},
   "outputs": [
    {
     "name": "stdout",
     "output_type": "stream",
     "text": [
      "cuda\n"
     ]
    }
   ],
   "source": [
    "device = torch.device('cuda' if torch.cuda.is_available() else 'cpu')\n",
    "print(device)"
   ]
  },
  {
   "cell_type": "code",
   "execution_count": 208,
   "metadata": {},
   "outputs": [],
   "source": [
    "import torch.nn.functional as F\n",
    "from torch_geometric.nn import GCNConv\n",
    "import torch.nn as nn\n",
    "\n",
    "class GraphCNN(nn.Module):\n",
    "    def __init__(self):\n",
    "        super(GraphCNN, self).__init__()\n",
    "        self.conv1 = GCNConv(train_data.num_node_features, 32)\n",
    "        self.conv2 = GCNConv(32, 16)\n",
    "\n",
    "    def forward(self, data):\n",
    "        x, edge_index = data.loc, data.edge_index\n",
    "        \n",
    "        # 1st layer\n",
    "        x = self.conv1(x, edge_index)\n",
    "        x = F.relu(x)\n",
    "        x = F.dropout(x,p=0.1, training=self.training)\n",
    "        \n",
    "        x = self.conv2(x, edge_index)\n",
    "        return x\n",
    "\n",
    "class GraphCNN_Deep(nn.Module): # less accurate\n",
    "    def __init__(self):\n",
    "        super(GraphCNN_Deep, self).__init__()\n",
    "\n",
    "        self.conv1 = GCNConv(train_data.num_node_features, 128)\n",
    "        self.conv2 = GCNConv(128, 64)\n",
    "        self.conv3 = GCNConv(64, 32)\n",
    "        self.conv4 = GCNConv(32, 16)\n",
    "\n",
    "    def forward(self, data):\n",
    "        x, edge_index = data.loc, data.edge_index\n",
    "        \n",
    "        # 1st layer\n",
    "        x = self.conv1(x, edge_index)\n",
    "        x = F.relu(x)\n",
    "        x = F.dropout(x,p=0.1, training=self.training)\n",
    "        \n",
    "        x = self.conv2(x, edge_index)\n",
    "        x = F.relu(x)\n",
    "        x = F.dropout(x,p=0.1, training=self.training)\n",
    "        \n",
    "        x = self.conv3(x, edge_index)\n",
    "        x = F.relu(x)\n",
    "        x = F.dropout(x,p=0.1, training=self.training)\n",
    "\n",
    "        x = self.conv4(x, edge_index)\n",
    "        return x\n",
    "    \n",
    "class TreeLabNet(torch.nn.Module):\n",
    "    def __init__(self, hidden_dim, emb_dim, num_linear=1):\n",
    "        super().__init__()\n",
    "        \n",
    "        self.cnn=GraphCNN()\n",
    "        \n",
    "        self.lstm=nn.LSTM(\n",
    "            input_size=emb_dim, \n",
    "            hidden_size=hidden_dim, \n",
    "            num_layers=1,\n",
    "            bidirectional=True,\n",
    "            dropout=0.2\n",
    "        )    \n",
    "        \n",
    "        # fc layers\n",
    "        self.fc1 = nn.Linear(hidden_dim*2, 64) #flattening. x2 because lstm is bidirectional\n",
    "        self.fc2 = nn.Linear(64, train_data.num_classes) # 64 in, 9 out bc we're doing 9 classes \n",
    "\n",
    "    def forward(self, x): # used to be data\n",
    "        \n",
    "        x = self.cnn(x)\n",
    "        \n",
    "        x = x.view(-1, 1, x.shape[1])\n",
    "#         print(x.shape)\n",
    "        lstm_out, (h,c) = self.lstm(x)\n",
    "\n",
    "#         lstm_out = lstm_out.view(-1, dim) \n",
    "        lstm_out = self.fc1(lstm_out)\n",
    "        lstm_out = F.relu(lstm_out)\n",
    "        \n",
    "        lstm_out = self.fc2(lstm_out)\n",
    "        \n",
    "        dim = lstm_out.shape[1]*lstm_out.shape[2]\n",
    "        lstm_out = lstm_out.view(-1, dim) \n",
    "\n",
    "        return F.log_softmax(lstm_out, dim=1)"
   ]
  },
  {
   "cell_type": "code",
   "execution_count": 209,
   "metadata": {},
   "outputs": [
    {
     "name": "stdout",
     "output_type": "stream",
     "text": [
      "Data(Blanking=[14], CenterlineIds=[14], GroupIds=[14], Radius=[14], TCoords=[14, 2], TractIds=[14], edge_index=[2, 12], ids=[14], loc=[14, 3], name=\"AP1224\", y_real=[14])\n"
     ]
    }
   ],
   "source": [
    "torch.autograd.set_detect_anomaly(True) # checks code location that breaks \n",
    "BATCH_SIZE = 64\n",
    "\n",
    "trainloader = DataLoader(train_data, batch_size=BATCH_SIZE) # adjust batch size\n",
    "valloader = DataLoader(val_data, batch_size=BATCH_SIZE) # adjust batch size\n",
    "\n",
    "print(train_data[0])"
   ]
  },
  {
   "cell_type": "code",
   "execution_count": 210,
   "metadata": {},
   "outputs": [],
   "source": [
    "def train():\n",
    "    model.train()\n",
    "    \n",
    "    sumCorrect = 0\n",
    "    sumTotal = 0 \n",
    "    running_loss = 0\n",
    "    for data in trainloader:\n",
    "\n",
    "        optimizer.zero_grad()\n",
    "\n",
    "        data = data.to(device)\n",
    "        out = model(data)\n",
    "\n",
    "        _, predicted = torch.max(out.data, 1)\n",
    "\n",
    "        # Loss\n",
    "        loss = F.nll_loss(out, data.y_real.long())\n",
    "        running_loss += loss.item()\n",
    "\n",
    "        # Accuracy\n",
    "        sumCorrect += (predicted == data.y_real).sum().item()\n",
    "        sumTotal += data.y_real.size(0)\n",
    "\n",
    "        # retain_graph=False in this case \n",
    "        # https://stackoverflow.com/questions/46774641/what-does-the-parameter-retain-graph-mean-in-the-variables-backward-method\n",
    "        loss.backward() \n",
    "        optimizer.step()\n",
    "\n",
    "    total_loss_per_epoch = round(running_loss/len(trainloader), 3)\n",
    "    acc = round(sumCorrect/sumTotal, 3)\n",
    "\n",
    "    return acc, total_loss_per_epoch\n",
    "#         print(f\"Epoch {epoch+1} ----- Accuracy: {acc} Loss: {total_loss_per_epoch}\")"
   ]
  },
  {
   "cell_type": "code",
   "execution_count": 211,
   "metadata": {},
   "outputs": [],
   "source": [
    "def evaluate():\n",
    "    model.eval()\n",
    "    \n",
    "    predicted_class_array, true_class_array = [], []\n",
    "    sumCorrect = 0\n",
    "    sumTotal = 0 \n",
    "    running_loss = 0\n",
    "    \n",
    "    with torch.no_grad():\n",
    "        for data in valloader:\n",
    "            data = data.to(device)\n",
    "            out = model(data)\n",
    "    #         print(out.data.shape)\n",
    "            _, predicted = torch.max(out.data, 1)\n",
    "            \n",
    "            # Loss\n",
    "            loss = F.nll_loss(out, data.y_real.long())\n",
    "            running_loss += loss.item()\n",
    "\n",
    "            # Accuracy\n",
    "            sumCorrect += (predicted == data.y_real).sum().item()\n",
    "            sumTotal += data.y_real.size(0)\n",
    "            \n",
    "            # adding predicted and true labels\n",
    "            pred = predicted.cpu().data.numpy()\n",
    "            predicted_class_array.extend(pred)\n",
    "            true_class_array.extend(data.y_real.tolist())\n",
    "\n",
    "#             loss.backward(retain_graph=True)\n",
    "    total_loss_per_epoch = round(running_loss/len(valloader), 3)\n",
    "    acc = round(sumCorrect/sumTotal, 3)\n",
    "    return acc, total_loss_per_epoch, predicted_class_array, true_class_array\n",
    "    "
   ]
  },
  {
   "cell_type": "code",
   "execution_count": 212,
   "metadata": {},
   "outputs": [],
   "source": [
    "'''\n",
    "For LSTM\n",
    "https://pytorch.org/docs/master/generated/torch.nn.LSTM.html#torch.nn.LSTM \n",
    "'''\n",
    "num_expected_features = 16\n",
    "nh = 30 # no of hidden units for lstm\n",
    "nl = 1 # no of recurrent layers\n",
    "\n",
    "alpha = 0.001\n",
    "\n",
    "criterion = nn.NLLLoss()\n",
    "model = TreeLabNet(hidden_dim=nh, emb_dim=num_expected_features, num_linear=nl).to(device)\n",
    "optimizer = torch.optim.Adam(model.parameters(), lr=alpha, weight_decay=1e-5) "
   ]
  },
  {
   "cell_type": "code",
   "execution_count": 219,
   "metadata": {},
   "outputs": [
    {
     "name": "stdout",
     "output_type": "stream",
     "text": [
      "Epoch 1 --- Train Acc: 0.762 Train Loss: 0.608 Val Acc: 0.661 Val Loss: 0.926\n",
      "Epoch 2 --- Train Acc: 0.764 Train Loss: 0.618 Val Acc: 0.656 Val Loss: 0.922\n",
      "Epoch 3 --- Train Acc: 0.768 Train Loss: 0.605 Val Acc: 0.655 Val Loss: 0.917\n",
      "Epoch 4 --- Train Acc: 0.773 Train Loss: 0.601 Val Acc: 0.659 Val Loss: 0.919\n",
      "Epoch 5 --- Train Acc: 0.774 Train Loss: 0.602 Val Acc: 0.661 Val Loss: 0.934\n",
      "Epoch 6 --- Train Acc: 0.774 Train Loss: 0.605 Val Acc: 0.654 Val Loss: 0.931\n",
      "Epoch 7 --- Train Acc: 0.771 Train Loss: 0.596 Val Acc: 0.658 Val Loss: 0.921\n",
      "Epoch 8 --- Train Acc: 0.772 Train Loss: 0.605 Val Acc: 0.653 Val Loss: 0.926\n",
      "Epoch 9 --- Train Acc: 0.764 Train Loss: 0.602 Val Acc: 0.651 Val Loss: 0.935\n",
      "Epoch 10 --- Train Acc: 0.779 Train Loss: 0.586 Val Acc: 0.659 Val Loss: 0.923\n",
      "Epoch 11 --- Train Acc: 0.781 Train Loss: 0.582 Val Acc: 0.663 Val Loss: 0.917\n",
      "Epoch 12 --- Train Acc: 0.771 Train Loss: 0.59 Val Acc: 0.669 Val Loss: 0.924\n",
      "Epoch 13 --- Train Acc: 0.779 Train Loss: 0.589 Val Acc: 0.649 Val Loss: 0.922\n",
      "Epoch 14 --- Train Acc: 0.777 Train Loss: 0.585 Val Acc: 0.664 Val Loss: 0.929\n",
      "Epoch 15 --- Train Acc: 0.78 Train Loss: 0.586 Val Acc: 0.659 Val Loss: 0.93\n",
      "Epoch 16 --- Train Acc: 0.774 Train Loss: 0.587 Val Acc: 0.655 Val Loss: 0.929\n",
      "Epoch 17 --- Train Acc: 0.781 Train Loss: 0.579 Val Acc: 0.653 Val Loss: 0.928\n",
      "Epoch 18 --- Train Acc: 0.787 Train Loss: 0.576 Val Acc: 0.655 Val Loss: 0.93\n",
      "Epoch 19 --- Train Acc: 0.775 Train Loss: 0.583 Val Acc: 0.66 Val Loss: 0.935\n",
      "Epoch 20 --- Train Acc: 0.78 Train Loss: 0.578 Val Acc: 0.659 Val Loss: 0.932\n",
      "Epoch 21 --- Train Acc: 0.783 Train Loss: 0.574 Val Acc: 0.653 Val Loss: 0.932\n",
      "Epoch 22 --- Train Acc: 0.776 Train Loss: 0.581 Val Acc: 0.658 Val Loss: 0.939\n",
      "Epoch 23 --- Train Acc: 0.783 Train Loss: 0.572 Val Acc: 0.66 Val Loss: 0.933\n",
      "Epoch 24 --- Train Acc: 0.785 Train Loss: 0.571 Val Acc: 0.666 Val Loss: 0.931\n",
      "Epoch 25 --- Train Acc: 0.79 Train Loss: 0.57 Val Acc: 0.66 Val Loss: 0.936\n",
      "Epoch 26 --- Train Acc: 0.789 Train Loss: 0.563 Val Acc: 0.665 Val Loss: 0.94\n",
      "Epoch 27 --- Train Acc: 0.787 Train Loss: 0.56 Val Acc: 0.666 Val Loss: 0.935\n",
      "Epoch 28 --- Train Acc: 0.786 Train Loss: 0.561 Val Acc: 0.665 Val Loss: 0.93\n",
      "Epoch 29 --- Train Acc: 0.787 Train Loss: 0.563 Val Acc: 0.65 Val Loss: 0.942\n",
      "Epoch 30 --- Train Acc: 0.784 Train Loss: 0.57 Val Acc: 0.659 Val Loss: 0.936\n",
      "Epoch 31 --- Train Acc: 0.786 Train Loss: 0.564 Val Acc: 0.658 Val Loss: 0.933\n",
      "Epoch 32 --- Train Acc: 0.788 Train Loss: 0.552 Val Acc: 0.659 Val Loss: 0.943\n",
      "Epoch 33 --- Train Acc: 0.789 Train Loss: 0.561 Val Acc: 0.659 Val Loss: 0.936\n",
      "Epoch 34 --- Train Acc: 0.786 Train Loss: 0.556 Val Acc: 0.655 Val Loss: 0.926\n",
      "Epoch 35 --- Train Acc: 0.788 Train Loss: 0.561 Val Acc: 0.671 Val Loss: 0.93\n",
      "Epoch 36 --- Train Acc: 0.785 Train Loss: 0.559 Val Acc: 0.665 Val Loss: 0.94\n",
      "Epoch 37 --- Train Acc: 0.791 Train Loss: 0.553 Val Acc: 0.656 Val Loss: 0.946\n",
      "Epoch 38 --- Train Acc: 0.792 Train Loss: 0.554 Val Acc: 0.655 Val Loss: 0.934\n",
      "Epoch 39 --- Train Acc: 0.791 Train Loss: 0.546 Val Acc: 0.666 Val Loss: 0.93\n",
      "Epoch 40 --- Train Acc: 0.792 Train Loss: 0.546 Val Acc: 0.658 Val Loss: 0.93\n",
      "Epoch 41 --- Train Acc: 0.794 Train Loss: 0.552 Val Acc: 0.67 Val Loss: 0.932\n",
      "Epoch 42 --- Train Acc: 0.79 Train Loss: 0.554 Val Acc: 0.659 Val Loss: 0.925\n",
      "Epoch 43 --- Train Acc: 0.793 Train Loss: 0.542 Val Acc: 0.666 Val Loss: 0.937\n",
      "Epoch 44 --- Train Acc: 0.791 Train Loss: 0.546 Val Acc: 0.656 Val Loss: 0.934\n",
      "Epoch 45 --- Train Acc: 0.8 Train Loss: 0.542 Val Acc: 0.67 Val Loss: 0.943\n",
      "Epoch 46 --- Train Acc: 0.794 Train Loss: 0.544 Val Acc: 0.64 Val Loss: 0.948\n",
      "Epoch 47 --- Train Acc: 0.788 Train Loss: 0.551 Val Acc: 0.666 Val Loss: 0.946\n",
      "Epoch 48 --- Train Acc: 0.792 Train Loss: 0.545 Val Acc: 0.651 Val Loss: 0.943\n",
      "Epoch 49 --- Train Acc: 0.791 Train Loss: 0.538 Val Acc: 0.674 Val Loss: 0.948\n",
      "Epoch 50 --- Train Acc: 0.798 Train Loss: 0.533 Val Acc: 0.661 Val Loss: 0.934\n"
     ]
    }
   ],
   "source": [
    "EPOCHS = 50\n",
    "train_acc_list, train_loss_list, val_acc_list, val_loss_list = [],[],[],[]\n",
    "for epoch in range(EPOCHS):\n",
    "\n",
    "    sumCorrect = 0\n",
    "    sumTotal = 0 \n",
    "    running_loss = 0\n",
    "    train_acc, train_loss = train()\n",
    "    val_acc, val_loss, y_pred, y_true = evaluate()\n",
    "    \n",
    "    # metrics\n",
    "    train_acc_list.append(train_acc)\n",
    "    train_loss_list.append(train_loss) \n",
    "    val_acc_list.append(val_acc) \n",
    "    val_loss_list.append(val_loss) \n",
    "    \n",
    "    print(f\"Epoch {epoch+1} --- Train Acc: {train_acc} Train Loss: {train_loss} Val Acc: {val_acc} Val Loss: {val_loss}\")"
   ]
  },
  {
   "cell_type": "code",
   "execution_count": 214,
   "metadata": {},
   "outputs": [
    {
     "name": "stdout",
     "output_type": "stream",
     "text": [
      "              precision    recall  f1-score   support\n",
      "\n",
      "        ldai      0.643     0.769     0.700       225\n",
      "       diags      0.559     0.458     0.503        83\n",
      "     septals      0.000     0.000     0.000        12\n",
      "        lcxi      0.435     0.463     0.448       108\n",
      "      obtmar      0.368     0.288     0.323        73\n",
      "     atrials      0.000     0.000     0.000         1\n",
      "        lcim      0.100     0.062     0.077        16\n",
      "      acutes      0.674     0.630     0.652        46\n",
      "        crux      0.878     0.882     0.880       245\n",
      "\n",
      "    accuracy                          0.653       809\n",
      "   macro avg      0.406     0.395     0.398       809\n",
      "weighted avg      0.634     0.653     0.640       809\n",
      "\n"
     ]
    },
    {
     "name": "stderr",
     "output_type": "stream",
     "text": [
      "/home/561/qp2123/miniconda3/envs/treelstm/lib/python3.7/site-packages/sklearn/metrics/_classification.py:1221: UndefinedMetricWarning: Precision and F-score are ill-defined and being set to 0.0 in labels with no predicted samples. Use `zero_division` parameter to control this behavior.\n",
      "  _warn_prf(average, modifier, msg_start, len(result))\n"
     ]
    }
   ],
   "source": [
    "from sklearn import metrics\n",
    "# y_true, y_pred = zip(*[(i, j) for i, j in zip(y_true, y_pred) if i !=9]) # zip(*..) is unzip\n",
    "\n",
    "# Print the confusion matrix\n",
    "array=metrics.confusion_matrix(y_true, y_pred)\n",
    "# print(array)\n",
    "vessels_names = ['ldai', 'diags', 'septals', 'lcxi', 'obtmar', 'atrials', 'lcim', 'acutes', 'crux']\n",
    "print(metrics.classification_report(y_true, y_pred, digits=3, target_names=vessels_names))"
   ]
  },
  {
   "cell_type": "code",
   "execution_count": 215,
   "metadata": {},
   "outputs": [
    {
     "data": {
      "text/plain": [
       "<AxesSubplot:>"
      ]
     },
     "execution_count": 215,
     "metadata": {},
     "output_type": "execute_result"
    },
    {
     "data": {
      "image/png": "[encoded data removed]",
      "text/plain": [
       "<Figure size 720x504 with 2 Axes>"
      ]
     },
     "metadata": {},
     "output_type": "display_data"
    }
   ],
   "source": [
    "import seaborn as sn\n",
    "import pandas as pd\n",
    "import matplotlib.pyplot as plt\n",
    "\n",
    "df_cm = pd.DataFrame(array, index = [i for i in vessels_names],\n",
    "                  columns = [i for i in vessels_names])\n",
    "plt.figure(figsize = (10,7))\n",
    "sn.heatmap(df_cm, annot=True, cmap=\"YlGnBu\", fmt='d')"
   ]
  },
  {
   "cell_type": "code",
   "execution_count": 216,
   "metadata": {},
   "outputs": [],
   "source": [
    "from matplotlib import style\n",
    "\n",
    "style.use(\"ggplot\")\n",
    "\n",
    "def create_acc_loss_graph(train_acc_list, train_loss_list, val_acc_list, val_loss_list):\n",
    "    epoch = list(range(0, EPOCHS, 1))\n",
    "\n",
    "    d = {'epochs': epoch,\n",
    "        'train_acc': train_acc_list,\n",
    "        'train_loss': train_loss_list,\n",
    "        'val_acc': val_acc_list, \n",
    "        'val_loss': val_loss_list}\n",
    "\n",
    "    df = pd.DataFrame(d)\n",
    "\n",
    "    df['train_acc_avg'] = df['train_acc'].ewm(alpha=.02).mean()  # exponential weighted moving average\n",
    "    df['val_acc_avg'] = df['val_acc'].ewm(alpha=.02).mean()\n",
    "    df['train_loss_avg'] = df['train_loss'].ewm(alpha=.02).mean()\n",
    "    df['val_loss_avg'] = df['val_loss'].ewm(alpha=.02).mean()\n",
    "\n",
    "    # Then plot using pandas:\n",
    "    df.plot(x='epochs', y=['train_acc_avg', 'val_acc_avg'], figsize=(8,4))\n",
    "    plt.ylabel(\"Accuracy\")\n",
    "    df.plot(x='epochs', y=['train_loss_avg', 'val_loss_avg'], figsize=(8,4))\n",
    "    plt.ylabel(\"Loss\")\n",
    "\n",
    "    plt.show()"
   ]
  },
  {
   "cell_type": "code",
   "execution_count": 217,
   "metadata": {},
   "outputs": [
    {
     "data": {
      "image/png": "[encoded data removed]",
      "text/plain": [
       "<Figure size 576x288 with 1 Axes>"
      ]
     },
     "metadata": {},
     "output_type": "display_data"
    },
    {
     "data": {
      "image/png": "[encoded data removed]",
      "text/plain": [
       "<Figure size 576x288 with 1 Axes>"
      ]
     },
     "metadata": {},
     "output_type": "display_data"
    }
   ],
   "source": [
    "create_acc_loss_graph(train_acc_list, train_loss_list, val_acc_list, val_loss_list)"
   ]
  },
  {
   "cell_type": "code",
   "execution_count": 220,
   "metadata": {},
   "outputs": [
    {
     "name": "stdout",
     "output_type": "stream",
     "text": [
      "The total params are 16730 and the trainable one are 16730\n",
      "Batch size = 64\n",
      "Learning Rate = 0.001\n",
      "No of Conv layers = 2\n",
      "No of Conv channels = 32\n",
      "Bi-LSTM\n",
      "No of LSTM layers = 1\n",
      "No of LSTM units = 30\n",
      "No of epochs = 50\n"
     ]
    }
   ],
   "source": [
    "total_params = sum(p.numel() for p in model.parameters())\n",
    "\n",
    "trainable_params = sum(p.numel() for p in model.parameters() if p.requires_grad)\n",
    "\n",
    "print(f\"The total params are {total_params} and the trainable one are {trainable_params}\")\n",
    "\n",
    "print (f\"Batch size = {BATCH_SIZE}\")\n",
    "print (f\"Learning Rate = {alpha}\")\n",
    "print (f\"No of Conv layers = 2\")\n",
    "print (f\"No of Conv channels = 32\")\n",
    "print (f\"Bi-LSTM\")\n",
    "print (f\"No of LSTM layers = {nl}\")\n",
    "print (f\"No of LSTM units = {nh}\")\n",
    "print (f\"No of epochs = {EPOCHS}\")"
   ]
  },
  {
   "cell_type": "code",
   "execution_count": null,
   "metadata": {},
   "outputs": [],
   "source": []
  },
  {
   "cell_type": "code",
   "execution_count": null,
   "metadata": {},
   "outputs": [],
   "source": []
  },
  {
   "cell_type": "code",
   "execution_count": null,
   "metadata": {},
   "outputs": [],
   "source": []
  }
 ],
 "metadata": {
  "kernelspec": {
   "display_name": "Python 3",
   "language": "python",
   "name": "python3"
  },
  "language_info": {
   "codemirror_mode": {
    "name": "ipython",
    "version": 3
   },
   "file_extension": ".py",
   "mimetype": "text/x-python",
   "name": "python",
   "nbconvert_exporter": "python",
   "pygments_lexer": "ipython3",
   "version": "3.7.9"
  }
 },
 "nbformat": 4,
 "nbformat_minor": 4
}
