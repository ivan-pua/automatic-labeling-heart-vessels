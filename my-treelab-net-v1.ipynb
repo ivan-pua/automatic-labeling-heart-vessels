{
 "cells": [
  {
   "cell_type": "code",
   "execution_count": 4,
   "metadata": {},
   "outputs": [],
   "source": [
    "import os\n",
    "from cadtoolkit.pc2g import CoronaryGraph, _read_centerlines_txt\n"
   ]
  },
  {
   "cell_type": "code",
   "execution_count": 5,
   "metadata": {},
   "outputs": [
    {
     "data": {
      "text/plain": [
       "{'xyz': [1, 2, 3],\n",
       " 'id': 0,\n",
       " 'sep': ' ',\n",
       " 'presmooth_iterations': 100,\n",
       " 'presmooth_passband': 0.1,\n",
       " 'group': True,\n",
       " 'merge': True,\n",
       " 'convert_cell_data': True,\n",
       " 'postsmooth_iterations': 100,\n",
       " 'postsmooth_passband': 0.1}"
      ]
     },
     "execution_count": 5,
     "metadata": {},
     "output_type": "execute_result"
    }
   ],
   "source": [
    "from cadtoolkit.cfg import Config; Config.pc2g"
   ]
  },
  {
   "cell_type": "code",
   "execution_count": 20,
   "metadata": {},
   "outputs": [],
   "source": [
    "path = \"small_data\" # change this path\n",
    "\n",
    "files = os.listdir(path)\n",
    "if not os.path.exists('graphs'):\n",
    "    os.makedirs('graphs')"
   ]
  },
  {
   "cell_type": "code",
   "execution_count": 21,
   "metadata": {},
   "outputs": [
    {
     "name": "stdout",
     "output_type": "stream",
     "text": [
      "['AP1130.txt', 'AP1131.txt', 'AP1132.txt', 'AP1136.txt', 'AP1137.txt', 'AP1119.txt']\n",
      "AP1131.txt\n"
     ]
    }
   ],
   "source": [
    "print(files)\n",
    "print(files[1])\n",
    "f= files[1]"
   ]
  },
  {
   "cell_type": "code",
   "execution_count": 23,
   "metadata": {},
   "outputs": [
    {
     "name": "stdout",
     "output_type": "stream",
     "text": [
      "{'ids': array([0, 0, 0, ..., 8, 8, 8], dtype=uint8)}\n",
      "{'ids': array([0, 0, 0, ..., 8, 8, 8], dtype=uint8), 'Radius': array([1.5, 1.5, 1.5, ..., 1.5, 1.5, 1.5], dtype=float32)}\n",
      "converting points\n",
      "converting point data\n",
      "converting cell data\n",
      "Writing VTK XML surface file.\n",
      "{'ids': array([0, 0, 0, ..., 3, 3, 3], dtype=uint8)}\n",
      "{'ids': array([0, 0, 0, ..., 3, 3, 3], dtype=uint8), 'Radius': array([1.5, 1.5, 1.5, ..., 1.5, 1.5, 1.5], dtype=float32)}\n",
      "converting points\n",
      "converting point data\n",
      "converting cell data\n",
      "Writing VTK XML surface file.\n",
      "{'ids': array([0, 0, 0, ..., 7, 7, 7], dtype=uint8)}\n",
      "{'ids': array([0, 0, 0, ..., 7, 7, 7], dtype=uint8), 'Radius': array([1.5, 1.5, 1.5, ..., 1.5, 1.5, 1.5], dtype=float32)}\n",
      "converting points\n",
      "converting point data\n",
      "converting cell data\n",
      "Writing VTK XML surface file.\n",
      "{'ids': array([0, 0, 0, ..., 7, 7, 7], dtype=uint8)}\n",
      "{'ids': array([0, 0, 0, ..., 7, 7, 7], dtype=uint8), 'Radius': array([1.5, 1.5, 1.5, ..., 1.5, 1.5, 1.5], dtype=float32)}\n",
      "converting points\n",
      "converting point data\n",
      "converting cell data\n",
      "Writing VTK XML surface file.\n",
      "{'ids': array([0, 0, 0, ..., 8, 8, 8], dtype=uint8)}\n",
      "{'ids': array([0, 0, 0, ..., 8, 8, 8], dtype=uint8), 'Radius': array([1.5, 1.5, 1.5, ..., 1.5, 1.5, 1.5], dtype=float32)}\n",
      "converting points\n",
      "converting point data\n",
      "converting cell data\n",
      "Writing VTK XML surface file.\n",
      "{'ids': array([0, 0, 0, ..., 6, 6, 6], dtype=uint8)}\n",
      "{'ids': array([0, 0, 0, ..., 6, 6, 6], dtype=uint8), 'Radius': array([1.5, 1.5, 1.5, ..., 1.5, 1.5, 1.5], dtype=float32)}\n",
      "converting points\n",
      "converting point data\n",
      "converting cell data\n",
      "Writing VTK XML surface file.\n"
     ]
    }
   ],
   "source": [
    "for f in files: # uncomment this when sure its working...\n",
    "\n",
    "    g = CoronaryGraph() # creates empty graph 'g'\n",
    "    updated_g = g.from_txt(os.path.join(path, f))\n",
    "\n",
    "    # Save the CoronaryGraph() object\n",
    "    f_without_ext = os.path.splitext(f)[0] # remove .txt extension\n",
    "    updated_g.sg=None\n",
    "    updated_g.save(f\"graphs/{f_without_ext}\")"
   ]
  },
  {
   "cell_type": "code",
   "execution_count": 24,
   "metadata": {},
   "outputs": [
    {
     "name": "stdout",
     "output_type": "stream",
     "text": [
      "Start: {0, 4033}\n",
      "Bifs: {10306, 10307, 10308, 10309, 10310}\n",
      "End: {4032, 10305, 7077, 8335, 9912, 6013, 9214}\n"
     ]
    }
   ],
   "source": [
    "print(f\"Start: {updated_g.startpts()}\")\n",
    "print(f\"Bifs: {updated_g.bifurcations()}\")\n",
    "# print(f\"Inner: {points.inner_points()}\")\n",
    "print(f\"End: {updated_g.endpoints()}\")\n"
   ]
  },
  {
   "cell_type": "code",
   "execution_count": 10,
   "metadata": {},
   "outputs": [],
   "source": [
    "# for idx, val in updated_g.nodes.items():\n",
    "#     print(idx, val)"
   ]
  },
  {
   "cell_type": "code",
   "execution_count": 25,
   "metadata": {},
   "outputs": [
    {
     "name": "stdout",
     "output_type": "stream",
     "text": [
      "{'ids': 0, 'Radius': 1.5, 'TCoords': array([0., 0.], dtype=float32), 'CenterlineIds': 0, 'TractIds': 0, 'Blanking': 0, 'GroupIds': 0, 'loc': array([ 13.447166, -23.152866, -85.1981  ], dtype=float32)}\n",
      "{'ids': 0, 'Radius': 1.5, 'TCoords': array([0.34442684, 0.        ], dtype=float32), 'CenterlineIds': 0, 'TractIds': 4, 'Blanking': 0, 'GroupIds': 4, 'loc': array([  28.509182 ,    1.8100071, -151.44302  ], dtype=float32)}\n",
      "{'ids': 4, 'Radius': 1.5, 'TCoords': array([0.03644647, 0.        ], dtype=float32), 'CenterlineIds': 4, 'TractIds': 6, 'Blanking': 0, 'GroupIds': 14, 'loc': array([ 56.787674, -20.034348, -81.409615], dtype=float32)}\n",
      "{'ids': 1, 'Radius': 1.5, 'TCoords': array([0.10035524, 0.        ], dtype=float32), 'CenterlineIds': 1, 'TractIds': 6, 'Blanking': 0, 'GroupIds': 10, 'loc': array([ 53.332737, -24.652634, -83.560875], dtype=float32)}\n",
      "{'ids': 1, 'Radius': 1.5, 'TCoords': array([0.09591474, 0.        ], dtype=float32), 'CenterlineIds': 1, 'TractIds': 6, 'Blanking': 0, 'GroupIds': 10, 'loc': array([ 53.378593, -24.510115, -83.36069 ], dtype=float32)}\n"
     ]
    }
   ],
   "source": [
    "# Showing info for random points\n",
    "print(updated_g.nodes[0])\n",
    "print(updated_g.nodes[2791])\n",
    "print(updated_g.nodes[8368])\n",
    "print(updated_g.nodes[5000])\n",
    "print(updated_g.nodes[4995])"
   ]
  },
  {
   "cell_type": "code",
   "execution_count": 26,
   "metadata": {},
   "outputs": [
    {
     "data": {
      "image/png": "[encoded data removed]",
      "text/plain": [
       "<Figure size 432x288 with 1 Axes>"
      ]
     },
     "metadata": {},
     "output_type": "display_data"
    }
   ],
   "source": [
    "# Plot graph \n",
    "\n",
    "import networkx as nx\n",
    "from networkx.drawing.nx_agraph import graphviz_layout\n",
    "import matplotlib.pyplot as plt\n",
    "\n",
    "skeleton_graph = updated_g.collapse_intermediates()\n",
    "plt.title('Coronary Map')\n",
    "pos=graphviz_layout(skeleton_graph, prog='dot')\n",
    "nx.draw(skeleton_graph, pos, with_labels=True, arrows=True) # good\n",
    "plt.savefig('nx_test.png')"
   ]
  },
  {
   "cell_type": "code",
   "execution_count": null,
   "metadata": {},
   "outputs": [],
   "source": [
    "# bad way of plotting graph with bifurcations - no top to bottom order\n",
    "\n",
    "# import networkx as nx\n",
    "# from networkx.readwrite import json_graph\n",
    "# skeleton_graph = updated_g.collapse_intermediates()\n",
    "# nx.draw(skeleton_graph, with_labels=True) "
   ]
  },
  {
   "cell_type": "code",
   "execution_count": 27,
   "metadata": {},
   "outputs": [
    {
     "name": "stdout",
     "output_type": "stream",
     "text": [
      "1.6.0\n",
      "10.2\n",
      "True\n"
     ]
    }
   ],
   "source": [
    "# Attempt to create Graph dataset\n",
    "import torch\n",
    "from torch_geometric.data import Data, DataLoader\n",
    "\n",
    "print(torch.__version__)\n",
    "print(torch.version.cuda)\n",
    "print(torch.cuda.is_available())"
   ]
  },
  {
   "cell_type": "code",
   "execution_count": 48,
   "metadata": {},
   "outputs": [
    {
     "name": "stdout",
     "output_type": "stream",
     "text": [
      "AP1130 \n",
      " Data(Blanking=[16], CenterlineIds=[16], GroupIds=[16], Radius=[16], TCoords=[16, 2], TractIds=[16], edge_index=[2, 14], ids=[16], loc=[16, 3], y=[16])\n",
      "AP1131 \n",
      " Data(Blanking=[8], CenterlineIds=[8], GroupIds=[8], Radius=[8], TCoords=[8, 2], TractIds=[8], edge_index=[2, 6], ids=[8], loc=[8, 3], y=[8])\n",
      "AP1132 \n",
      " Data(Blanking=[16], CenterlineIds=[16], GroupIds=[16], Radius=[16], TCoords=[16, 2], TractIds=[16], edge_index=[2, 14], ids=[16], loc=[16, 3], y=[16])\n",
      "AP1136 \n",
      " Data(Blanking=[16], CenterlineIds=[16], GroupIds=[16], Radius=[16], TCoords=[16, 2], TractIds=[16], edge_index=[2, 14], ids=[16], loc=[16, 3], y=[16])\n",
      "AP1137 \n",
      " Data(Blanking=[14], CenterlineIds=[14], GroupIds=[14], Radius=[14], TCoords=[14, 2], TractIds=[14], edge_index=[2, 12], ids=[14], loc=[14, 3], y=[14])\n",
      "AP1119 \n",
      " Data(Blanking=[14], CenterlineIds=[14], GroupIds=[14], Radius=[14], TCoords=[14, 2], TractIds=[14], edge_index=[2, 12], ids=[14], loc=[14, 3], y=[14])\n"
     ]
    }
   ],
   "source": [
    "from torch_geometric.utils import from_networkx\n",
    "raw_dataset = []\n",
    "\n",
    "files = os.listdir(\"graphs/\")\n",
    "for f in files:\n",
    "    \n",
    "    if f == \".ipynb_checkpoints\": continue\n",
    "    \n",
    "    a = CoronaryGraph() # another empty graph\n",
    "    loadedGraph = a.load(f\"graphs/{f}\")\n",
    "    skeleton_graph = loadedGraph.collapse_intermediates()\n",
    "    data = from_networkx(skeleton_graph)\n",
    "    data.y = data.ids\n",
    "    raw_dataset.append(data)\n",
    "    print(f\"{f} \\n {data}\")\n"
   ]
  },
  {
   "cell_type": "code",
   "execution_count": 49,
   "metadata": {},
   "outputs": [
    {
     "name": "stdout",
     "output_type": "stream",
     "text": [
      "AP1119\n",
      "tensor([[  13.4472,  -23.1529,  -85.1981],\n",
      "        [  63.7865,  -38.8657, -154.0710],\n",
      "        [  19.9578,    7.4953,  -75.2229],\n",
      "        [  66.1562,  -45.6643, -119.3910],\n",
      "        [  39.8805,   28.2729, -133.5790],\n",
      "        [  64.9646,   27.9968, -105.1740],\n",
      "        [  79.3178,  -28.6302, -110.9610],\n",
      "        [  -5.0009,  -47.2158, -104.0470],\n",
      "        [  59.7998,  -10.9884,  -81.0597],\n",
      "        [  -8.9116,  -28.3701,  -92.2535],\n",
      "        [   3.5043,    9.2249, -145.0363],\n",
      "        [  28.9190,    5.9320,  -75.2387],\n",
      "        [  43.5250,   -5.7335,  -74.3049],\n",
      "        [  54.8944,  -19.7976,  -79.5820]])\n",
      "tensor([0, 0, 1, 1, 2, 3, 4, 5, 6, 0, 0, 1, 1, 1], dtype=torch.int32)\n"
     ]
    }
   ],
   "source": [
    "# prints info for last file in array\n",
    "print(files[-2])\n",
    "print(data.loc)\n",
    "print(data.ids)\n",
    "# print(data.CenterlineIds)\n",
    "# print(data.TractIds)\n",
    "    \n",
    "# print(raw_dataset[3].y)\n",
    "# print(data.edge_index)"
   ]
  },
  {
   "cell_type": "code",
   "execution_count": 50,
   "metadata": {},
   "outputs": [
    {
     "name": "stdout",
     "output_type": "stream",
     "text": [
      "hello\n",
      "Processing...\n",
      "Done!\n"
     ]
    }
   ],
   "source": [
    "# print(data.GroupIds)\n",
    "# print(data.CenterlineIds)\n",
    "# print(data.edge_index)\n",
    "\n",
    "from torch_geometric.data import InMemoryDataset\n",
    "\n",
    "\n",
    "class MyOwnDataset(InMemoryDataset):\n",
    "    \n",
    "    num_classes = 10\n",
    "    num_node_features = 3\n",
    "    def __init__(self, root, transform=None, pre_transform=None):\n",
    "        super(MyOwnDataset,self).__init__(root, transform, pre_transform)\n",
    "        \n",
    "        self.data, self.slices = torch.load(self.processed_paths[0])\n",
    "        data.y = data.ids # target labels\n",
    "        data.x = data.loc\n",
    "#         print(data.x)\n",
    "\n",
    "    @property\n",
    "    def raw_file_names(self):\n",
    "        return [\"graphs\"]\n",
    "\n",
    "    @property\n",
    "    def processed_file_names(self):\n",
    "        return ['processed']\n",
    "\n",
    "    def download(self):\n",
    "        # Download to `self.raw_dir`.\n",
    "#         torch.save((data, slices), self.processed_paths[0])\n",
    "        print(\"hello\")\n",
    "\n",
    "    def process(self):\n",
    "        # Read data into huge `Data` list.\n",
    "        data_list = raw_dataset\n",
    "\n",
    "        if self.pre_filter is not None:\n",
    "            data_list = [data for data in data_list if self.pre_filter(data)]\n",
    "\n",
    "        if self.pre_transform is not None:\n",
    "            data_list = [self.pre_transform(data) for data in data_list]\n",
    "\n",
    "        data, slices = self.collate(data_list)\n",
    "        torch.save((data, slices), self.processed_paths[0])\n",
    "\n",
    "dataset = MyOwnDataset(\"raw\")\n",
    "\n",
    "\n",
    "# loader = DataLoader(data_list, batch_size=2)\n",
    "\n",
    "# for x in loader:\n",
    "#     print(x)\n",
    "\n",
    "# print(dataset.num_classes)\n",
    "# print(dataset.num_node_features)\n",
    "# print(dataset[0])"
   ]
  },
  {
   "cell_type": "code",
   "execution_count": 51,
   "metadata": {},
   "outputs": [
    {
     "name": "stdout",
     "output_type": "stream",
     "text": [
      "cuda\n"
     ]
    }
   ],
   "source": [
    "device = torch.device('cuda' if torch.cuda.is_available() else 'cpu')\n",
    "print(device)"
   ]
  },
  {
   "cell_type": "code",
   "execution_count": 52,
   "metadata": {},
   "outputs": [],
   "source": [
    "import torch.nn.functional as F\n",
    "from torch_geometric.nn import GCNConv\n",
    "import torch.nn as nn\n",
    "\n",
    "class GraphCNN(nn.Module):\n",
    "    def __init__(self):\n",
    "        super(GraphCNN, self).__init__()\n",
    "        self.conv1 = GCNConv(dataset.num_node_features, 16)\n",
    "        self.conv2 = GCNConv(16, dataset.num_classes)\n",
    "\n",
    "    def forward(self, data):\n",
    "        x, edge_index = data.loc, data.edge_index\n",
    "        x = self.conv1(x, edge_index)\n",
    "        x = F.relu(x)\n",
    "        x = F.dropout(x, training=self.training)\n",
    "        \n",
    "        x = self.conv2(x, edge_index)\n",
    "        return x\n",
    "\n",
    "\n",
    "class TreeLabNet(torch.nn.Module):\n",
    "    def __init__(self, hidden_dim, emb_dim=100, num_linear=1):\n",
    "        super().__init__()\n",
    "        \n",
    "        self.cnn=GraphCNN()\n",
    "        \n",
    "        # hidden and cell states for LSTM\n",
    "#         self.h = torch.randn(1, 1, hidden_dim).to(device) \n",
    "#         self.c = torch.randn(1, 1, hidden_dim).to(device)\n",
    "        self.lstm=nn.LSTM(\n",
    "            input_size=emb_dim, \n",
    "            hidden_size=hidden_dim, \n",
    "            num_layers=1)    \n",
    "        \n",
    "        # fc layers\n",
    "        self.fc1 = nn.Linear(128, 64) #flattening.\n",
    "        self.fc2 = nn.Linear(64, dataset.num_classes) # 64 in, 9 out bc we're doing 9 classes \n",
    "\n",
    "    def forward(self, x): # used to be data\n",
    "        \n",
    "        x = self.cnn(x)\n",
    "        \n",
    "        x = x.view(-1, 1, x.shape[1])\n",
    "#         print(x.shape)\n",
    "        lstm_out, (h,c) = self.lstm(x)\n",
    "#         print(lstm_out[0:3])\n",
    "#         dim = .shape[1]*x.shape[2]\n",
    "#         lstm_out = lstm_out.view(-1, dim) \n",
    "# #         print(x.shape)\n",
    "        lstm_out = self.fc1(lstm_out)\n",
    "        lstm_out = F.relu(lstm_out)\n",
    "        \n",
    "        lstm_out = self.fc2(lstm_out)\n",
    "        \n",
    "        dim = lstm_out.shape[1]*lstm_out.shape[2]\n",
    "        lstm_out = lstm_out.view(-1, dim) \n",
    "\n",
    "        return F.log_softmax(lstm_out, dim=1)"
   ]
  },
  {
   "cell_type": "code",
   "execution_count": null,
   "metadata": {},
   "outputs": [
    {
     "name": "stdout",
     "output_type": "stream",
     "text": [
      "Data(Blanking=[16], CenterlineIds=[16], GroupIds=[16], Radius=[16], TCoords=[16, 2], TractIds=[16], edge_index=[2, 14], ids=[16], loc=[16, 3], y=[16])\n",
      "Epoch 1 ----- Accuracy: 0.321 Loss: 2.085\n",
      "Epoch 2 ----- Accuracy: 0.357 Loss: 1.805\n",
      "Epoch 3 ----- Accuracy: 0.345 Loss: 1.844\n",
      "Epoch 4 ----- Accuracy: 0.393 Loss: 1.785\n",
      "Epoch 5 ----- Accuracy: 0.429 Loss: 1.741\n",
      "Epoch 6 ----- Accuracy: 0.417 Loss: 1.724\n",
      "Epoch 7 ----- Accuracy: 0.452 Loss: 1.689\n",
      "Epoch 8 ----- Accuracy: 0.417 Loss: 1.723\n",
      "Epoch 9 ----- Accuracy: 0.476 Loss: 1.635\n",
      "Epoch 10 ----- Accuracy: 0.488 Loss: 1.571\n",
      "Epoch 11 ----- Accuracy: 0.5 Loss: 1.546\n",
      "Epoch 12 ----- Accuracy: 0.488 Loss: 1.571\n",
      "Epoch 13 ----- Accuracy: 0.452 Loss: 1.611\n",
      "Epoch 14 ----- Accuracy: 0.512 Loss: 1.503\n",
      "Epoch 15 ----- Accuracy: 0.5 Loss: 1.477\n",
      "Epoch 16 ----- Accuracy: 0.5 Loss: 1.519\n",
      "Epoch 17 ----- Accuracy: 0.44 Loss: 1.653\n",
      "Epoch 18 ----- Accuracy: 0.476 Loss: 1.569\n",
      "Epoch 19 ----- Accuracy: 0.488 Loss: 1.505\n",
      "Epoch 20 ----- Accuracy: 0.524 Loss: 1.466\n",
      "Epoch 21 ----- Accuracy: 0.5 Loss: 1.459\n",
      "Epoch 22 ----- Accuracy: 0.548 Loss: 1.382\n",
      "Epoch 23 ----- Accuracy: 0.512 Loss: 1.389\n",
      "Epoch 24 ----- Accuracy: 0.5 Loss: 1.461\n",
      "Epoch 25 ----- Accuracy: 0.5 Loss: 1.464\n",
      "Epoch 26 ----- Accuracy: 0.512 Loss: 1.46\n",
      "Epoch 27 ----- Accuracy: 0.512 Loss: 1.423\n",
      "Epoch 28 ----- Accuracy: 0.512 Loss: 1.386\n",
      "Epoch 29 ----- Accuracy: 0.512 Loss: 1.396\n",
      "Epoch 30 ----- Accuracy: 0.488 Loss: 1.403\n",
      "Epoch 31 ----- Accuracy: 0.536 Loss: 1.328\n",
      "Epoch 32 ----- Accuracy: 0.488 Loss: 1.548\n",
      "Epoch 33 ----- Accuracy: 0.512 Loss: 1.295\n",
      "Epoch 34 ----- Accuracy: 0.5 Loss: 1.297\n",
      "Epoch 35 ----- Accuracy: 0.536 Loss: 1.237\n",
      "Epoch 36 ----- Accuracy: 0.583 Loss: 1.135\n",
      "Epoch 37 ----- Accuracy: 0.548 Loss: 1.127\n",
      "Epoch 38 ----- Accuracy: 0.524 Loss: 1.251\n",
      "Epoch 39 ----- Accuracy: 0.583 Loss: 1.135\n",
      "Epoch 40 ----- Accuracy: 0.643 Loss: 1.079\n",
      "Epoch 41 ----- Accuracy: 0.619 Loss: 1.117\n",
      "Epoch 42 ----- Accuracy: 0.607 Loss: 1.069\n",
      "Epoch 43 ----- Accuracy: 0.548 Loss: 1.12\n",
      "Epoch 44 ----- Accuracy: 0.619 Loss: 0.973\n",
      "Epoch 45 ----- Accuracy: 0.631 Loss: 0.98\n",
      "Epoch 46 ----- Accuracy: 0.631 Loss: 1.028\n",
      "Epoch 47 ----- Accuracy: 0.679 Loss: 0.875\n",
      "Epoch 48 ----- Accuracy: 0.655 Loss: 0.852\n",
      "Epoch 49 ----- Accuracy: 0.69 Loss: 0.846\n",
      "Epoch 50 ----- Accuracy: 0.702 Loss: 0.838\n",
      "Epoch 51 ----- Accuracy: 0.655 Loss: 0.921\n",
      "Epoch 52 ----- Accuracy: 0.714 Loss: 0.664\n",
      "Epoch 53 ----- Accuracy: 0.667 Loss: 0.813\n",
      "Epoch 54 ----- Accuracy: 0.655 Loss: 0.819\n",
      "Epoch 55 ----- Accuracy: 0.774 Loss: 0.659\n",
      "Epoch 56 ----- Accuracy: 0.774 Loss: 0.565\n",
      "Epoch 57 ----- Accuracy: 0.81 Loss: 0.496\n",
      "Epoch 58 ----- Accuracy: 0.81 Loss: 0.595\n",
      "Epoch 59 ----- Accuracy: 0.81 Loss: 0.533\n",
      "Epoch 60 ----- Accuracy: 0.798 Loss: 0.541\n",
      "Epoch 61 ----- Accuracy: 0.857 Loss: 0.445\n",
      "Epoch 62 ----- Accuracy: 0.893 Loss: 0.292\n",
      "Epoch 63 ----- Accuracy: 0.917 Loss: 0.291\n",
      "Epoch 64 ----- Accuracy: 0.917 Loss: 0.301\n",
      "Epoch 65 ----- Accuracy: 0.905 Loss: 0.327\n",
      "Epoch 66 ----- Accuracy: 0.869 Loss: 0.451\n",
      "Epoch 67 ----- Accuracy: 0.726 Loss: 0.649\n",
      "Epoch 68 ----- Accuracy: 0.893 Loss: 0.384\n",
      "Epoch 69 ----- Accuracy: 0.857 Loss: 0.315\n",
      "Epoch 70 ----- Accuracy: 0.881 Loss: 0.316\n",
      "Epoch 71 ----- Accuracy: 0.905 Loss: 0.276\n",
      "Epoch 72 ----- Accuracy: 0.929 Loss: 0.281\n",
      "Epoch 73 ----- Accuracy: 0.976 Loss: 0.132\n",
      "Epoch 74 ----- Accuracy: 0.952 Loss: 0.152\n",
      "Epoch 75 ----- Accuracy: 0.881 Loss: 0.435\n",
      "Epoch 76 ----- Accuracy: 0.905 Loss: 0.438\n",
      "Epoch 77 ----- Accuracy: 0.881 Loss: 0.301\n",
      "Epoch 78 ----- Accuracy: 0.929 Loss: 0.238\n",
      "Epoch 79 ----- Accuracy: 0.94 Loss: 0.23\n",
      "Epoch 80 ----- Accuracy: 0.929 Loss: 0.195\n",
      "Epoch 81 ----- Accuracy: 0.976 Loss: 0.13\n",
      "Epoch 82 ----- Accuracy: 0.952 Loss: 0.163\n"
     ]
    }
   ],
   "source": [
    "torch.autograd.set_detect_anomaly(True) # checks code location that breaks \n",
    "em_sz = 10\n",
    "nh = 128 # no of hidden units for lstm\n",
    "nl = 3\n",
    "model = TreeLabNet(nh, emb_dim=em_sz).to(device)\n",
    "print(dataset[0])\n",
    "optimizer = torch.optim.Adam(model.parameters(), lr=0.01, weight_decay=5e-4) \n",
    "model.train()\n",
    "for epoch in range(100):\n",
    "    \n",
    "    sumCorrect = 0\n",
    "    sumTotal = 0 \n",
    "    running_loss = 0\n",
    "    \n",
    "    for data in dataset:\n",
    "        \n",
    "        optimizer.zero_grad()\n",
    "        \n",
    "        data = data.to(device)\n",
    "        out = model(data)\n",
    "#         print(out.data.shape)\n",
    "\n",
    "        _, predicted = torch.max(out.data, 1)\n",
    "\n",
    "        # Loss\n",
    "        loss = F.nll_loss(out, data.ids.long())\n",
    "        running_loss += loss.item()\n",
    "        \n",
    "        # Accuracy\n",
    "        sumCorrect += (predicted == data.ids).sum().item()\n",
    "        sumTotal += data.ids.size(0)\n",
    "        \n",
    "        loss.backward(retain_graph=True)\n",
    "        optimizer.step()\n",
    "    \n",
    "    total_loss_per_epoch = round(running_loss/len(dataset), 3)\n",
    "    acc = round(sumCorrect/sumTotal, 3)\n",
    "    print(f\"Epoch {epoch+1} ----- Accuracy: {acc} Loss: {total_loss_per_epoch}\")"
   ]
  },
  {
   "cell_type": "code",
   "execution_count": null,
   "metadata": {},
   "outputs": [],
   "source": []
  },
  {
   "cell_type": "code",
   "execution_count": null,
   "metadata": {},
   "outputs": [],
   "source": []
  }
 ],
 "metadata": {
  "kernelspec": {
   "display_name": "Python 3",
   "language": "python",
   "name": "python3"
  },
  "language_info": {
   "codemirror_mode": {
    "name": "ipython",
    "version": 3
   },
   "file_extension": ".py",
   "mimetype": "text/x-python",
   "name": "python",
   "nbconvert_exporter": "python",
   "pygments_lexer": "ipython3",
   "version": "3.7.9"
  }
 },
 "nbformat": 4,
 "nbformat_minor": 4
}
